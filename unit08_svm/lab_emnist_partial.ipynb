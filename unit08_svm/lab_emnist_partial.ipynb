{
  "cells": [
    {
      "cell_type": "markdown",
      "metadata": {
        "id": "view-in-github",
        "colab_type": "text"
      },
      "source": [
        "<a href=\"https://colab.research.google.com/github/sdrangan/introml-soln/blob/master/unit08_svm/lab_emnist_soln.ipynb\" target=\"_parent\"><img src=\"https://colab.research.google.com/assets/colab-badge.svg\" alt=\"Open In Colab\"/></a>"
      ]
    },
    {
      "cell_type": "markdown",
      "metadata": {
        "id": "thbGo2OQ5L2X"
      },
      "source": [
        "# Lab: SVMs on Extended MNIST\n",
        "\n",
        "In the [MNIST demo](demo06_mnist_svm.ipynb), we saw how SVMs can be used for the classic MNIST problem of digit recognition. In this lab, we are going to extend the MNIST dataset by adding non-digit letters and see if the classifier can distinguish the digits from the non-digits. All non-digits will be lumped as a single 11-th class. This is a highly simplified version of a full character classification, but will illustrate some concepts.\n",
        "\n",
        "In addition to the concepts in the demo, you will learn:\n",
        "* Select the SVM parameters (`C` and `gamma`) via cross-validation.\n",
        "* Use the `GridSearchCV` method to search for parameters with cross-validation.\n"
      ]
    },
    {
      "cell_type": "markdown",
      "metadata": {
        "id": "7km_7wr35L2Y"
      },
      "source": [
        "As usual, we download the standard packages"
      ]
    },
    {
      "cell_type": "code",
      "execution_count": 1,
      "metadata": {
        "id": "YZ7EHMQU5L2Y"
      },
      "outputs": [],
      "source": [
        "import numpy as np\n",
        "import matplotlib.pyplot as plt\n",
        "from sklearn import linear_model, preprocessing"
      ]
    },
    {
      "cell_type": "markdown",
      "source": [
        "## Downloading the EMNIST data\n",
        "\n",
        "The EMNIST data can be downloaded from `pytorch` as follows.  The initial download is 562 MB, so it may take a little while.  On Google colab, it will be in less than a minute.\n",
        "\n",
        "Note:  In an earlier version of the lab, you directly downloaded the data from the [EMNIST](https://www.nist.gov/itl/products-and-services/emnist-dataset), but the dataset appears to have been removed."
      ],
      "metadata": {
        "id": "IU2688VCISS8"
      }
    },
    {
      "cell_type": "code",
      "source": [
        "import torch\n",
        "import torchvision.datasets as datasets\n",
        "import torchvision.transforms as transforms\n",
        "\n",
        "# Define the transform to convert the images to tensors\n",
        "transform = transforms.Compose([transforms.ToTensor()])\n",
        "\n",
        "# Download the EMNIST dataset\n",
        "emnist_dataset = datasets.EMNIST(root='./data', split='balanced', train=True, transform=transform, download=True)"
      ],
      "metadata": {
        "id": "p0fwRf2DK7aC"
      },
      "execution_count": 48,
      "outputs": []
    },
    {
      "cell_type": "markdown",
      "source": [
        "You can then convert the data to numpy arrays as follows.  \n",
        "*  `Xtr` is `(ntr,28,28)` the training data array representing `28x28` images with `ntr` samples.\n",
        "* `ytr[i]` is the integer label from 0 to `nclasses-1`.\n",
        "When `ytr[i] = k` it corresponds to the string digit n `classes[k]`."
      ],
      "metadata": {
        "id": "k-XRunSAVsR5"
      }
    },
    {
      "cell_type": "code",
      "source": [
        "Xtr = emnist_dataset.train_data.numpy()\n",
        "ytr = emnist_dataset.targets.numpy()\n",
        "Xts = emnist_dataset.train_data.numpy()\n",
        "yts = emnist_dataset.targets.numpy()\n",
        "classes = emnist_dataset.classes"
      ],
      "metadata": {
        "colab": {
          "base_uri": "https://localhost:8080/"
        },
        "id": "yOCbf2nqLOOD",
        "outputId": "69bd565b-c6e6-4064-c235-314365159680"
      },
      "execution_count": 11,
      "outputs": [
        {
          "output_type": "stream",
          "name": "stderr",
          "text": [
            "/usr/local/lib/python3.10/dist-packages/torchvision/datasets/mnist.py:76: UserWarning: train_data has been renamed data\n",
            "  warnings.warn(\"train_data has been renamed data\")\n"
          ]
        }
      ]
    },
    {
      "cell_type": "code",
      "execution_count": 12,
      "metadata": {
        "colab": {
          "base_uri": "https://localhost:8080/"
        },
        "id": "XwFPyWi65L2Z",
        "outputId": "e5570319-5836-4993-815d-95388720be16"
      },
      "outputs": [
        {
          "output_type": "stream",
          "name": "stdout",
          "text": [
            "Number of training samples = 112800\n",
            "Number of test samples = 112800\n"
          ]
        }
      ],
      "source": [
        "# TODO:  Print the number of training and test samples\n",
        "#   ntr = ...\n",
        "#   nts = ...\n",
        "ntr = Xtr.shape[0]\n",
        "nts = Xts.shape[0]\n",
        "print('Number of training samples = %d' % ntr)\n",
        "print('Number of test samples = %d' % nts)"
      ]
    },
    {
      "cell_type": "markdown",
      "source": [
        "Print the classes.  You should see there are classes for:\n",
        "* digits 0 to 9\n",
        "* capital letters `A` to `Z`\n",
        "* some lowercase letters: `a``, `b`, `d`, `e`, `f`, `g`, `h`, `n`, `q`, `r`, `t`\n",
        "\n",
        "Not all lowercase letters are included since they may be too easy to confuse with the uppercase."
      ],
      "metadata": {
        "id": "xZuvzmAUKgWQ"
      }
    },
    {
      "cell_type": "code",
      "source": [
        "# TODO:  Print the classes and the total number of classes\n",
        "#  print(classes)\n",
        "#  nclasses = ...\n",
        "print(classes)\n",
        "nclasses = len(classes)\n",
        "print('Total number of classes = %d' % nclasses)"
      ],
      "metadata": {
        "id": "73JrQ-d6KVO4",
        "outputId": "8cbbfb85-9a83-4544-a0a3-d00cf0457bf3",
        "colab": {
          "base_uri": "https://localhost:8080/"
        }
      },
      "execution_count": 13,
      "outputs": [
        {
          "output_type": "stream",
          "name": "stdout",
          "text": [
            "['0', '1', '2', '3', '4', '5', '6', '7', '8', '9', 'A', 'B', 'C', 'D', 'E', 'F', 'G', 'H', 'I', 'J', 'K', 'L', 'M', 'N', 'O', 'P', 'Q', 'R', 'S', 'T', 'U', 'V', 'W', 'X', 'Y', 'Z', 'a', 'b', 'd', 'e', 'f', 'g', 'h', 'n', 'q', 'r', 't']\n",
            "Total number of classes = 47\n"
          ]
        }
      ]
    },
    {
      "cell_type": "markdown",
      "metadata": {
        "id": "bPQQni0G5L2a"
      },
      "source": [
        "## Displaying the Characters\n",
        "\n",
        "We will use the function from the demo to plot the characters.  Note that the `label` argument takes either `None` or a string, not a decimal."
      ]
    },
    {
      "cell_type": "code",
      "execution_count": 7,
      "metadata": {
        "collapsed": true,
        "id": "aXVG_I-b5L2a"
      },
      "outputs": [],
      "source": [
        "def plt_digit(x,label=None):\n",
        "    nrow = 28\n",
        "    ncol = 28\n",
        "    xsq = x.reshape((nrow,ncol))\n",
        "    plt.imshow(xsq.T,  cmap='Greys_r')\n",
        "    plt.xticks([])\n",
        "    plt.yticks([])\n",
        "    if label:\n",
        "        plt.title(label)"
      ]
    },
    {
      "cell_type": "markdown",
      "metadata": {
        "id": "FfQeAHaA5L2a"
      },
      "source": [
        "Plot 8 random samples from the training data.  You can use the `plt_digit` function above with `subplot` to create a nice display.  You may want to size your plot with the `plt.figure(figsize=(10,20))` command."
      ]
    },
    {
      "cell_type": "code",
      "execution_count": 8,
      "metadata": {
        "colab": {
          "base_uri": "https://localhost:8080/",
          "height": 141
        },
        "id": "gdwhXNf95L2a",
        "outputId": "31fcbcc1-a093-4bf2-830f-9bb950581160"
      },
      "outputs": [
        {
          "output_type": "display_data",
          "data": {
            "text/plain": [
              "<Figure size 1000x2000 with 8 Axes>"
            ],
            "image/png": "[encoded data removed]"
          },
          "metadata": {}
        }
      ],
      "source": [
        "# TODO:  Plot 8 random samples from the training data of the digits\n",
        "# Select random digits\n",
        "nplt = 8\n",
        "nsamp = Xtr.shape[0]\n",
        "Iperm = np.random.permutation(nsamp)\n",
        "\n",
        "# Plot the images using the subplot command\n",
        "plt.figure(figsize=(10,20))\n",
        "for i in range(nplt):\n",
        "    ind = Iperm[i]\n",
        "    plt.subplot(1,nplt,i+1)\n",
        "    plt_digit(Xtr[ind], classes[ytr[ind]])"
      ]
    },
    {
      "cell_type": "markdown",
      "metadata": {
        "id": "oSEeJM-M5L2a"
      },
      "source": [
        "## Creating a Non-Digit Class\n",
        "\n",
        "\n",
        "Before we begin, we first need to remove all the letters corresponding to `I`, `L` and `O` since they are too similar to the other characters.  Loop over the elements in `remove_list` and delete the rows of `Xtr`, `Xts`, `ytr`, and `yts` corresponding to these characters."
      ]
    },
    {
      "cell_type": "code",
      "source": [
        "remove_list = ['I', 'L', 'O']\n",
        "\n",
        "for r in remove_list:\n",
        "\n",
        "    # TODO\n",
        "    #  Delete rows in data where character corresponds to r\n",
        "    ind = classes.index(r)\n",
        "    I = np.where(ytr == ind)[0]\n",
        "    Xtr = np.delete(Xtr, I, axis=0)\n",
        "    ytr = np.delete(ytr, I)\n",
        "\n",
        "    I = np.where(yts == ind)[0]\n",
        "    Xts = np.delete(Xts, I, axis=0)\n",
        "    yts = np.delete(yts, I)"
      ],
      "metadata": {
        "id": "mfbwSMcvMSVE"
      },
      "execution_count": 15,
      "outputs": []
    },
    {
      "cell_type": "markdown",
      "source": [
        "SVM classifiers are VERY SLOW to train.  The training is particularly slow when there are a large number of classes, since the one classifier must be trained for each pair of labels.  To make the problem easier, we are going to lump all of the letters in one class and add that class to the digits.  \n",
        "\n",
        "We can do this by creating a label for the non-digit class `npn_digit_class = 10`.  Then whenever `ytr[i] >= non_digit_class` we set `ytr[i] = non_digit_class`.  We do the same with `yts`.\n"
      ],
      "metadata": {
        "id": "4Djb2JtHiCjQ"
      }
    },
    {
      "cell_type": "code",
      "source": [
        "non_digit_class = 10\n",
        "\n",
        "# TODO\n",
        "#  ytr = ...\n",
        "#  yts = ...\n",
        "\n",
        "ytr = np.minimum(ytr, non_digit_class)\n",
        "yts = np.minimum(yts, non_digit_class)"
      ],
      "metadata": {
        "id": "i_5j1gBninUM"
      },
      "execution_count": 16,
      "outputs": []
    },
    {
      "cell_type": "markdown",
      "source": [
        "Next, to reduce the training and test time, we will use only a small subset of the training and test data.  Of course, you will not get great results with this small dataset.  But, we can at least illustrate the basic concepts.  Create new training and test data `Xtr1`, `ytr1`, `Xts1` and `yts1` with a randomly selected sample of digits and non-digits shown."
      ],
      "metadata": {
        "id": "Lg1ZOPCejxb9"
      }
    },
    {
      "cell_type": "code",
      "execution_count": 35,
      "metadata": {
        "collapsed": true,
        "id": "uezhLVl-5L2a"
      },
      "outputs": [],
      "source": [
        "# Number of training and test digits and letters\n",
        "ntr_dig = 5000\n",
        "ntr_let = 1000\n",
        "nts_dig = 5000\n",
        "nts_let = 1000\n",
        "\n",
        "# TODO:\n",
        "#   Xtr1, ytr1 = ...\n",
        "Idig = np.where(ytr < non_digit_class)[0]\n",
        "Ilet = np.where(ytr == non_digit_class)[0]\n",
        "Idig1 = np.random.permutation(Idig)[:ntr_dig]\n",
        "Ilet1 = np.random.permutation(Ilet)[:ntr_let]\n",
        "I = np.hstack((Idig1,Ilet1))\n",
        "Xtr1 = Xtr[I,:].copy()\n",
        "ytr1 = ytr[I].copy()\n",
        "\n",
        "\n",
        "# TODO:\n",
        "#   Xt21, yt21 = ...\n",
        "Idig = np.where(yts < non_digit_class)[0]\n",
        "Ilet = np.where(yts == non_digit_class)[0]\n",
        "Idig1 = np.random.permutation(Idig)[:ntr_dig]\n",
        "Ilet1 = np.random.permutation(Ilet)[:ntr_let]\n",
        "I = np.hstack((Idig1,Ilet1))\n",
        "Xts1 = Xts[I,:].copy()\n",
        "yts1 = yts[I].copy()"
      ]
    },
    {
      "cell_type": "markdown",
      "source": [
        "To confirm that selection worked, print"
      ],
      "metadata": {
        "id": "IA4MDbsrGzGb"
      }
    },
    {
      "cell_type": "code",
      "source": [
        "# TODO:  Plot 8 random samples from the training data of the digits\n",
        "# Select random digits\n",
        "nplt = 8\n",
        "nsamp = Xtr1.shape[0]\n",
        "Iperm = np.random.permutation(nsamp)\n",
        "\n",
        "# Plot the images using the subplot command\n",
        "plt.figure(figsize=(10,20))\n",
        "for i in range(nplt):\n",
        "    ind = Iperm[i]\n",
        "    plt.subplot(1,nplt,i+1)\n",
        "    plt_digit(Xtr1[ind], classes[ytr1[ind]])"
      ],
      "metadata": {
        "id": "UbxM-7uiGyr0",
        "outputId": "82d22110-8404-41cf-cc6e-5300f89311cc",
        "colab": {
          "base_uri": "https://localhost:8080/",
          "height": 141
        }
      },
      "execution_count": 36,
      "outputs": [
        {
          "output_type": "display_data",
          "data": {
            "text/plain": [
              "<Figure size 1000x2000 with 8 Axes>"
            ],
            "image/png": "[encoded data removed]"
          },
          "metadata": {}
        }
      ]
    },
    {
      "cell_type": "markdown",
      "metadata": {
        "id": "LTGrJUJn5L2a"
      },
      "source": [
        "The training data above takes values from 0 to 255.  Rescale the data from -1 to 1.  This will get slightly better performance on the SVM.  Save the scaled data into arrays `Xtr1` and `Xts1`."
      ]
    },
    {
      "cell_type": "code",
      "execution_count": 37,
      "metadata": {
        "collapsed": true,
        "id": "BjqicA5Q5L2a"
      },
      "outputs": [],
      "source": [
        "from typing import NoReturn\n",
        "# TODO:  Rescale the data from -1 to 1\n",
        "# Xtr1 = ...\n",
        "# Xts1 = ...\n",
        "Xtr1 = 2*Xtr1/255.0 - 1\n",
        "Xts1 = 2*Xts1/255.0 - 1\n",
        "\n",
        "# TODO:  Reshape the arrays to (n, 28*28)\n",
        "# Xtr1 = Xtr1.reshape(...)\n",
        "# Xts1 = Xts1.reshape(...)\n",
        "ntr1, nrow, ncol = Xtr1.shape\n",
        "Xtr1 = Xtr1.reshape((ntr1, nrow*ncol))\n",
        "\n",
        "nts1, nrow, ncol = Xts1.shape\n",
        "Xts1 = Xts1.reshape((nts1, nrow*ncol))"
      ]
    },
    {
      "cell_type": "markdown",
      "metadata": {
        "id": "0050xEiT5L2a"
      },
      "source": [
        "## Run the SVM classifier\n",
        "\n",
        "First create the SVM classifer. Use an `rbf` classifier with `C=2.8` and `gamma=.0073`. We will look at how to select these parameters laters."
      ]
    },
    {
      "cell_type": "code",
      "execution_count": 38,
      "metadata": {
        "collapsed": true,
        "id": "SgEiwTha5L2a"
      },
      "outputs": [],
      "source": [
        "from sklearn import svm\n",
        "\n",
        "# TODO:  Create a classifier: a support vector classifier\n",
        "# svc = ...\n",
        "svc = svm.SVC(probability=False,  kernel=\"rbf\", C=2.8, gamma=.0073, verbose=10)"
      ]
    },
    {
      "cell_type": "markdown",
      "metadata": {
        "id": "588g29fg5L2a"
      },
      "source": [
        "Fit the classifier using the scaled training data.  SVMs are insanely slow to train.  But, in this lab, we have kept the training size very small. So, the fitting should take about a minute or two."
      ]
    },
    {
      "cell_type": "code",
      "execution_count": 39,
      "metadata": {
        "colab": {
          "base_uri": "https://localhost:8080/",
          "height": 98
        },
        "id": "0BpRuo2K5L2b",
        "outputId": "9b4dc958-af77-4c6a-e44f-2da2d3388807"
      },
      "outputs": [
        {
          "output_type": "stream",
          "name": "stdout",
          "text": [
            "[LibSVM]"
          ]
        },
        {
          "output_type": "execute_result",
          "data": {
            "text/plain": [
              "SVC(C=2.8, gamma=0.0073, verbose=10)"
            ],
            "text/html": [
              "<style>#sk-container-id-1 {\n",
              "  /* Definition of color scheme common for light and dark mode */\n",
              "  --sklearn-color-text: black;\n",
              "  --sklearn-color-line: gray;\n",
              "  /* Definition of color scheme for unfitted estimators */\n",
              "  --sklearn-color-unfitted-level-0: #fff5e6;\n",
              "  --sklearn-color-unfitted-level-1: #f6e4d2;\n",
              "  --sklearn-color-unfitted-level-2: #ffe0b3;\n",
              "  --sklearn-color-unfitted-level-3: chocolate;\n",
              "  /* Definition of color scheme for fitted estimators */\n",
              "  --sklearn-color-fitted-level-0: #f0f8ff;\n",
              "  --sklearn-color-fitted-level-1: #d4ebff;\n",
              "  --sklearn-color-fitted-level-2: #b3dbfd;\n",
              "  --sklearn-color-fitted-level-3: cornflowerblue;\n",
              "\n",
              "  /* Specific color for light theme */\n",
              "  --sklearn-color-text-on-default-background: var(--sg-text-color, var(--theme-code-foreground, var(--jp-content-font-color1, black)));\n",
              "  --sklearn-color-background: var(--sg-background-color, var(--theme-background, var(--jp-layout-color0, white)));\n",
              "  --sklearn-color-border-box: var(--sg-text-color, var(--theme-code-foreground, var(--jp-content-font-color1, black)));\n",
              "  --sklearn-color-icon: #696969;\n",
              "\n",
              "  @media (prefers-color-scheme: dark) {\n",
              "    /* Redefinition of color scheme for dark theme */\n",
              "    --sklearn-color-text-on-default-background: var(--sg-text-color, var(--theme-code-foreground, var(--jp-content-font-color1, white)));\n",
              "    --sklearn-color-background: var(--sg-background-color, var(--theme-background, var(--jp-layout-color0, #111)));\n",
              "    --sklearn-color-border-box: var(--sg-text-color, var(--theme-code-foreground, var(--jp-content-font-color1, white)));\n",
              "    --sklearn-color-icon: #878787;\n",
              "  }\n",
              "}\n",
              "\n",
              "#sk-container-id-1 {\n",
              "  color: var(--sklearn-color-text);\n",
              "}\n",
              "\n",
              "#sk-container-id-1 pre {\n",
              "  padding: 0;\n",
              "}\n",
              "\n",
              "#sk-container-id-1 input.sk-hidden--visually {\n",
              "  border: 0;\n",
              "  clip: rect(1px 1px 1px 1px);\n",
              "  clip: rect(1px, 1px, 1px, 1px);\n",
              "  height: 1px;\n",
              "  margin: -1px;\n",
              "  overflow: hidden;\n",
              "  padding: 0;\n",
              "  position: absolute;\n",
              "  width: 1px;\n",
              "}\n",
              "\n",
              "#sk-container-id-1 div.sk-dashed-wrapped {\n",
              "  border: 1px dashed var(--sklearn-color-line);\n",
              "  margin: 0 0.4em 0.5em 0.4em;\n",
              "  box-sizing: border-box;\n",
              "  padding-bottom: 0.4em;\n",
              "  background-color: var(--sklearn-color-background);\n",
              "}\n",
              "\n",
              "#sk-container-id-1 div.sk-container {\n",
              "  /* jupyter's `normalize.less` sets `[hidden] { display: none; }`\n",
              "     but bootstrap.min.css set `[hidden] { display: none !important; }`\n",
              "     so we also need the `!important` here to be able to override the\n",
              "     default hidden behavior on the sphinx rendered scikit-learn.org.\n",
              "     See: https://github.com/scikit-learn/scikit-learn/issues/21755 */\n",
              "  display: inline-block !important;\n",
              "  position: relative;\n",
              "}\n",
              "\n",
              "#sk-container-id-1 div.sk-text-repr-fallback {\n",
              "  display: none;\n",
              "}\n",
              "\n",
              "div.sk-parallel-item,\n",
              "div.sk-serial,\n",
              "div.sk-item {\n",
              "  /* draw centered vertical line to link estimators */\n",
              "  background-image: linear-gradient(var(--sklearn-color-text-on-default-background), var(--sklearn-color-text-on-default-background));\n",
              "  background-size: 2px 100%;\n",
              "  background-repeat: no-repeat;\n",
              "  background-position: center center;\n",
              "}\n",
              "\n",
              "/* Parallel-specific style estimator block */\n",
              "\n",
              "#sk-container-id-1 div.sk-parallel-item::after {\n",
              "  content: \"\";\n",
              "  width: 100%;\n",
              "  border-bottom: 2px solid var(--sklearn-color-text-on-default-background);\n",
              "  flex-grow: 1;\n",
              "}\n",
              "\n",
              "#sk-container-id-1 div.sk-parallel {\n",
              "  display: flex;\n",
              "  align-items: stretch;\n",
              "  justify-content: center;\n",
              "  background-color: var(--sklearn-color-background);\n",
              "  position: relative;\n",
              "}\n",
              "\n",
              "#sk-container-id-1 div.sk-parallel-item {\n",
              "  display: flex;\n",
              "  flex-direction: column;\n",
              "}\n",
              "\n",
              "#sk-container-id-1 div.sk-parallel-item:first-child::after {\n",
              "  align-self: flex-end;\n",
              "  width: 50%;\n",
              "}\n",
              "\n",
              "#sk-container-id-1 div.sk-parallel-item:last-child::after {\n",
              "  align-self: flex-start;\n",
              "  width: 50%;\n",
              "}\n",
              "\n",
              "#sk-container-id-1 div.sk-parallel-item:only-child::after {\n",
              "  width: 0;\n",
              "}\n",
              "\n",
              "/* Serial-specific style estimator block */\n",
              "\n",
              "#sk-container-id-1 div.sk-serial {\n",
              "  display: flex;\n",
              "  flex-direction: column;\n",
              "  align-items: center;\n",
              "  background-color: var(--sklearn-color-background);\n",
              "  padding-right: 1em;\n",
              "  padding-left: 1em;\n",
              "}\n",
              "\n",
              "\n",
              "/* Toggleable style: style used for estimator/Pipeline/ColumnTransformer box that is\n",
              "clickable and can be expanded/collapsed.\n",
              "- Pipeline and ColumnTransformer use this feature and define the default style\n",
              "- Estimators will overwrite some part of the style using the `sk-estimator` class\n",
              "*/\n",
              "\n",
              "/* Pipeline and ColumnTransformer style (default) */\n",
              "\n",
              "#sk-container-id-1 div.sk-toggleable {\n",
              "  /* Default theme specific background. It is overwritten whether we have a\n",
              "  specific estimator or a Pipeline/ColumnTransformer */\n",
              "  background-color: var(--sklearn-color-background);\n",
              "}\n",
              "\n",
              "/* Toggleable label */\n",
              "#sk-container-id-1 label.sk-toggleable__label {\n",
              "  cursor: pointer;\n",
              "  display: block;\n",
              "  width: 100%;\n",
              "  margin-bottom: 0;\n",
              "  padding: 0.5em;\n",
              "  box-sizing: border-box;\n",
              "  text-align: center;\n",
              "}\n",
              "\n",
              "#sk-container-id-1 label.sk-toggleable__label-arrow:before {\n",
              "  /* Arrow on the left of the label */\n",
              "  content: \"▸\";\n",
              "  float: left;\n",
              "  margin-right: 0.25em;\n",
              "  color: var(--sklearn-color-icon);\n",
              "}\n",
              "\n",
              "#sk-container-id-1 label.sk-toggleable__label-arrow:hover:before {\n",
              "  color: var(--sklearn-color-text);\n",
              "}\n",
              "\n",
              "/* Toggleable content - dropdown */\n",
              "\n",
              "#sk-container-id-1 div.sk-toggleable__content {\n",
              "  max-height: 0;\n",
              "  max-width: 0;\n",
              "  overflow: hidden;\n",
              "  text-align: left;\n",
              "  /* unfitted */\n",
              "  background-color: var(--sklearn-color-unfitted-level-0);\n",
              "}\n",
              "\n",
              "#sk-container-id-1 div.sk-toggleable__content.fitted {\n",
              "  /* fitted */\n",
              "  background-color: var(--sklearn-color-fitted-level-0);\n",
              "}\n",
              "\n",
              "#sk-container-id-1 div.sk-toggleable__content pre {\n",
              "  margin: 0.2em;\n",
              "  border-radius: 0.25em;\n",
              "  color: var(--sklearn-color-text);\n",
              "  /* unfitted */\n",
              "  background-color: var(--sklearn-color-unfitted-level-0);\n",
              "}\n",
              "\n",
              "#sk-container-id-1 div.sk-toggleable__content.fitted pre {\n",
              "  /* unfitted */\n",
              "  background-color: var(--sklearn-color-fitted-level-0);\n",
              "}\n",
              "\n",
              "#sk-container-id-1 input.sk-toggleable__control:checked~div.sk-toggleable__content {\n",
              "  /* Expand drop-down */\n",
              "  max-height: 200px;\n",
              "  max-width: 100%;\n",
              "  overflow: auto;\n",
              "}\n",
              "\n",
              "#sk-container-id-1 input.sk-toggleable__control:checked~label.sk-toggleable__label-arrow:before {\n",
              "  content: \"▾\";\n",
              "}\n",
              "\n",
              "/* Pipeline/ColumnTransformer-specific style */\n",
              "\n",
              "#sk-container-id-1 div.sk-label input.sk-toggleable__control:checked~label.sk-toggleable__label {\n",
              "  color: var(--sklearn-color-text);\n",
              "  background-color: var(--sklearn-color-unfitted-level-2);\n",
              "}\n",
              "\n",
              "#sk-container-id-1 div.sk-label.fitted input.sk-toggleable__control:checked~label.sk-toggleable__label {\n",
              "  background-color: var(--sklearn-color-fitted-level-2);\n",
              "}\n",
              "\n",
              "/* Estimator-specific style */\n",
              "\n",
              "/* Colorize estimator box */\n",
              "#sk-container-id-1 div.sk-estimator input.sk-toggleable__control:checked~label.sk-toggleable__label {\n",
              "  /* unfitted */\n",
              "  background-color: var(--sklearn-color-unfitted-level-2);\n",
              "}\n",
              "\n",
              "#sk-container-id-1 div.sk-estimator.fitted input.sk-toggleable__control:checked~label.sk-toggleable__label {\n",
              "  /* fitted */\n",
              "  background-color: var(--sklearn-color-fitted-level-2);\n",
              "}\n",
              "\n",
              "#sk-container-id-1 div.sk-label label.sk-toggleable__label,\n",
              "#sk-container-id-1 div.sk-label label {\n",
              "  /* The background is the default theme color */\n",
              "  color: var(--sklearn-color-text-on-default-background);\n",
              "}\n",
              "\n",
              "/* On hover, darken the color of the background */\n",
              "#sk-container-id-1 div.sk-label:hover label.sk-toggleable__label {\n",
              "  color: var(--sklearn-color-text);\n",
              "  background-color: var(--sklearn-color-unfitted-level-2);\n",
              "}\n",
              "\n",
              "/* Label box, darken color on hover, fitted */\n",
              "#sk-container-id-1 div.sk-label.fitted:hover label.sk-toggleable__label.fitted {\n",
              "  color: var(--sklearn-color-text);\n",
              "  background-color: var(--sklearn-color-fitted-level-2);\n",
              "}\n",
              "\n",
              "/* Estimator label */\n",
              "\n",
              "#sk-container-id-1 div.sk-label label {\n",
              "  font-family: monospace;\n",
              "  font-weight: bold;\n",
              "  display: inline-block;\n",
              "  line-height: 1.2em;\n",
              "}\n",
              "\n",
              "#sk-container-id-1 div.sk-label-container {\n",
              "  text-align: center;\n",
              "}\n",
              "\n",
              "/* Estimator-specific */\n",
              "#sk-container-id-1 div.sk-estimator {\n",
              "  font-family: monospace;\n",
              "  border: 1px dotted var(--sklearn-color-border-box);\n",
              "  border-radius: 0.25em;\n",
              "  box-sizing: border-box;\n",
              "  margin-bottom: 0.5em;\n",
              "  /* unfitted */\n",
              "  background-color: var(--sklearn-color-unfitted-level-0);\n",
              "}\n",
              "\n",
              "#sk-container-id-1 div.sk-estimator.fitted {\n",
              "  /* fitted */\n",
              "  background-color: var(--sklearn-color-fitted-level-0);\n",
              "}\n",
              "\n",
              "/* on hover */\n",
              "#sk-container-id-1 div.sk-estimator:hover {\n",
              "  /* unfitted */\n",
              "  background-color: var(--sklearn-color-unfitted-level-2);\n",
              "}\n",
              "\n",
              "#sk-container-id-1 div.sk-estimator.fitted:hover {\n",
              "  /* fitted */\n",
              "  background-color: var(--sklearn-color-fitted-level-2);\n",
              "}\n",
              "\n",
              "/* Specification for estimator info (e.g. \"i\" and \"?\") */\n",
              "\n",
              "/* Common style for \"i\" and \"?\" */\n",
              "\n",
              ".sk-estimator-doc-link,\n",
              "a:link.sk-estimator-doc-link,\n",
              "a:visited.sk-estimator-doc-link {\n",
              "  float: right;\n",
              "  font-size: smaller;\n",
              "  line-height: 1em;\n",
              "  font-family: monospace;\n",
              "  background-color: var(--sklearn-color-background);\n",
              "  border-radius: 1em;\n",
              "  height: 1em;\n",
              "  width: 1em;\n",
              "  text-decoration: none !important;\n",
              "  margin-left: 1ex;\n",
              "  /* unfitted */\n",
              "  border: var(--sklearn-color-unfitted-level-1) 1pt solid;\n",
              "  color: var(--sklearn-color-unfitted-level-1);\n",
              "}\n",
              "\n",
              ".sk-estimator-doc-link.fitted,\n",
              "a:link.sk-estimator-doc-link.fitted,\n",
              "a:visited.sk-estimator-doc-link.fitted {\n",
              "  /* fitted */\n",
              "  border: var(--sklearn-color-fitted-level-1) 1pt solid;\n",
              "  color: var(--sklearn-color-fitted-level-1);\n",
              "}\n",
              "\n",
              "/* On hover */\n",
              "div.sk-estimator:hover .sk-estimator-doc-link:hover,\n",
              ".sk-estimator-doc-link:hover,\n",
              "div.sk-label-container:hover .sk-estimator-doc-link:hover,\n",
              ".sk-estimator-doc-link:hover {\n",
              "  /* unfitted */\n",
              "  background-color: var(--sklearn-color-unfitted-level-3);\n",
              "  color: var(--sklearn-color-background);\n",
              "  text-decoration: none;\n",
              "}\n",
              "\n",
              "div.sk-estimator.fitted:hover .sk-estimator-doc-link.fitted:hover,\n",
              ".sk-estimator-doc-link.fitted:hover,\n",
              "div.sk-label-container:hover .sk-estimator-doc-link.fitted:hover,\n",
              ".sk-estimator-doc-link.fitted:hover {\n",
              "  /* fitted */\n",
              "  background-color: var(--sklearn-color-fitted-level-3);\n",
              "  color: var(--sklearn-color-background);\n",
              "  text-decoration: none;\n",
              "}\n",
              "\n",
              "/* Span, style for the box shown on hovering the info icon */\n",
              ".sk-estimator-doc-link span {\n",
              "  display: none;\n",
              "  z-index: 9999;\n",
              "  position: relative;\n",
              "  font-weight: normal;\n",
              "  right: .2ex;\n",
              "  padding: .5ex;\n",
              "  margin: .5ex;\n",
              "  width: min-content;\n",
              "  min-width: 20ex;\n",
              "  max-width: 50ex;\n",
              "  color: var(--sklearn-color-text);\n",
              "  box-shadow: 2pt 2pt 4pt #999;\n",
              "  /* unfitted */\n",
              "  background: var(--sklearn-color-unfitted-level-0);\n",
              "  border: .5pt solid var(--sklearn-color-unfitted-level-3);\n",
              "}\n",
              "\n",
              ".sk-estimator-doc-link.fitted span {\n",
              "  /* fitted */\n",
              "  background: var(--sklearn-color-fitted-level-0);\n",
              "  border: var(--sklearn-color-fitted-level-3);\n",
              "}\n",
              "\n",
              ".sk-estimator-doc-link:hover span {\n",
              "  display: block;\n",
              "}\n",
              "\n",
              "/* \"?\"-specific style due to the `<a>` HTML tag */\n",
              "\n",
              "#sk-container-id-1 a.estimator_doc_link {\n",
              "  float: right;\n",
              "  font-size: 1rem;\n",
              "  line-height: 1em;\n",
              "  font-family: monospace;\n",
              "  background-color: var(--sklearn-color-background);\n",
              "  border-radius: 1rem;\n",
              "  height: 1rem;\n",
              "  width: 1rem;\n",
              "  text-decoration: none;\n",
              "  /* unfitted */\n",
              "  color: var(--sklearn-color-unfitted-level-1);\n",
              "  border: var(--sklearn-color-unfitted-level-1) 1pt solid;\n",
              "}\n",
              "\n",
              "#sk-container-id-1 a.estimator_doc_link.fitted {\n",
              "  /* fitted */\n",
              "  border: var(--sklearn-color-fitted-level-1) 1pt solid;\n",
              "  color: var(--sklearn-color-fitted-level-1);\n",
              "}\n",
              "\n",
              "/* On hover */\n",
              "#sk-container-id-1 a.estimator_doc_link:hover {\n",
              "  /* unfitted */\n",
              "  background-color: var(--sklearn-color-unfitted-level-3);\n",
              "  color: var(--sklearn-color-background);\n",
              "  text-decoration: none;\n",
              "}\n",
              "\n",
              "#sk-container-id-1 a.estimator_doc_link.fitted:hover {\n",
              "  /* fitted */\n",
              "  background-color: var(--sklearn-color-fitted-level-3);\n",
              "}\n",
              "</style><div id=\"sk-container-id-1\" class=\"sk-top-container\"><div class=\"sk-text-repr-fallback\"><pre>SVC(C=2.8, gamma=0.0073, verbose=10)</pre><b>In a Jupyter environment, please rerun this cell to show the HTML representation or trust the notebook. <br />On GitHub, the HTML representation is unable to render, please try loading this page with nbviewer.org.</b></div><div class=\"sk-container\" hidden><div class=\"sk-item\"><div class=\"sk-estimator fitted sk-toggleable\"><input class=\"sk-toggleable__control sk-hidden--visually\" id=\"sk-estimator-id-1\" type=\"checkbox\" checked><label for=\"sk-estimator-id-1\" class=\"sk-toggleable__label fitted sk-toggleable__label-arrow fitted\">&nbsp;&nbsp;SVC<a class=\"sk-estimator-doc-link fitted\" rel=\"noreferrer\" target=\"_blank\" href=\"https://scikit-learn.org/1.5/modules/generated/sklearn.svm.SVC.html\">?<span>Documentation for SVC</span></a><span class=\"sk-estimator-doc-link fitted\">i<span>Fitted</span></span></label><div class=\"sk-toggleable__content fitted\"><pre>SVC(C=2.8, gamma=0.0073, verbose=10)</pre></div> </div></div></div></div>"
            ]
          },
          "metadata": {},
          "execution_count": 39
        }
      ],
      "source": [
        "# TODO:  Fit the classifier on the training data.\n",
        "svc.fit(Xtr1,ytr1)"
      ]
    },
    {
      "cell_type": "markdown",
      "metadata": {
        "id": "GbqlB2Fj5L2b"
      },
      "source": [
        "Measure the accuracy on the test data.  This too will take another huge amount of time.  Print the accuracy.  If you did everything right, you should get an accuracy of around 89%."
      ]
    },
    {
      "cell_type": "code",
      "execution_count": 41,
      "metadata": {
        "colab": {
          "base_uri": "https://localhost:8080/"
        },
        "id": "wA8hyDqx5L2b",
        "outputId": "10aa75f0-fdcf-49db-87f6-929314cebf12"
      },
      "outputs": [
        {
          "output_type": "stream",
          "name": "stdout",
          "text": [
            "0.9068333333333334\n"
          ]
        }
      ],
      "source": [
        "# TODO:  Measure error on the test data\n",
        "yhat = svc.predict(Xts1)\n",
        "print(np.mean(yhat == yts1))"
      ]
    },
    {
      "cell_type": "markdown",
      "metadata": {
        "id": "a_JZMoB75L2b"
      },
      "source": [
        "The error rate is quite a bit higher than what we got in the digits only case.  Actually, had we done a classifier using all 36 labels instead of collapsing the letters to a single class, the SVM classifier would have done much better.  The reason is that the \"letters\" class is now extremely complex.  \n",
        "\n",
        "Print a confusion matrix.  You should see that the error rate on the \"letters\" class is much higher."
      ]
    },
    {
      "cell_type": "code",
      "execution_count": 43,
      "metadata": {
        "colab": {
          "base_uri": "https://localhost:8080/",
          "height": 638
        },
        "id": "7IVugUZm5L2b",
        "outputId": "d8305b70-a722-4240-8e19-6388dec7b136"
      },
      "outputs": [
        {
          "output_type": "stream",
          "name": "stdout",
          "text": [
            "[[0.971 0.    0.    0.    0.002 0.    0.002 0.    0.    0.    0.013]\n",
            " [0.    0.978 0.002 0.002 0.002 0.    0.    0.004 0.    0.    0.006]\n",
            " [0.    0.004 0.937 0.002 0.002 0.    0.    0.004 0.002 0.002 0.025]\n",
            " [0.004 0.004 0.006 0.937 0.    0.004 0.    0.007 0.006 0.002 0.015]\n",
            " [0.    0.    0.002 0.    0.921 0.    0.    0.    0.    0.017 0.031]\n",
            " [0.    0.002 0.    0.006 0.002 0.925 0.008 0.    0.002 0.004 0.026]\n",
            " [0.002 0.004 0.    0.    0.002 0.006 0.92  0.    0.    0.    0.033]\n",
            " [0.    0.002 0.002 0.    0.004 0.    0.    0.971 0.    0.013 0.003]\n",
            " [0.002 0.002 0.002 0.006 0.004 0.006 0.    0.    0.891 0.011 0.04 ]\n",
            " [0.    0.004 0.    0.004 0.014 0.    0.    0.011 0.002 0.935 0.014]\n",
            " [0.063 0.044 0.036 0.035 0.075 0.065 0.056 0.015 0.064 0.044 0.749]]\n"
          ]
        },
        {
          "output_type": "execute_result",
          "data": {
            "text/plain": [
              "<matplotlib.colorbar.Colorbar at 0x79cf08ff5480>"
            ]
          },
          "metadata": {},
          "execution_count": 43
        },
        {
          "output_type": "display_data",
          "data": {
            "text/plain": [
              "<Figure size 640x480 with 2 Axes>"
            ],
            "image/png": "[encoded data removed]"
          },
          "metadata": {}
        }
      ],
      "source": [
        "from sklearn.metrics import confusion_matrix\n",
        "\n",
        "# TODO:  Print a confusion matrix\n",
        "#  C = confusion_matrix(...)\n",
        "C = confusion_matrix(yts1,yhat)\n",
        "\n",
        "# TODO:  Normalize the confusion matrix so that each row sums to one\n",
        "Csum = np.sum(C,1)\n",
        "C = C / Csum[np.newaxis,:]\n",
        "\n",
        "# Print the confusion matrix\n",
        "print(np.array_str(C, precision=3, suppress_small=True))\n",
        "plt.imshow(C, interpolation='none')\n",
        "plt.colorbar()"
      ]
    },
    {
      "cell_type": "markdown",
      "metadata": {
        "id": "wfwmsP8F5L2b"
      },
      "source": [
        "Print:\n",
        "* What fraction of digits are mislabeled as non-digits?  \n",
        "* What fraction of letters are mislabeled as non-digits?"
      ]
    },
    {
      "cell_type": "code",
      "execution_count": 45,
      "metadata": {
        "colab": {
          "base_uri": "https://localhost:8080/"
        },
        "id": "aQz8OIo_5L2b",
        "outputId": "5c758451-bf56-44e8-dd6a-7417cc352d8e"
      },
      "outputs": [
        {
          "output_type": "stream",
          "name": "stdout",
          "text": [
            "Digit -> letter error rate =   3.4333e-02\n",
            "Letter -> digit error rate =   4.1833e-02\n"
          ]
        }
      ],
      "source": [
        "# TODO:  Print above two error rates\n",
        "err1 = np.mean((yhat == 10) & (yts1 < 10))\n",
        "err2 = np.mean((yhat < 10) & (yts1 == 10))\n",
        "\n",
        "print('Digit -> letter error rate = %12.4e' % err1)\n",
        "print('Letter -> digit error rate = %12.4e' % err2)"
      ]
    },
    {
      "cell_type": "markdown",
      "metadata": {
        "id": "x5FTDgH45L2b"
      },
      "source": [
        "## Selecting gamma and C via Cross-Validation (Using For-Loops)\n",
        "\n",
        "In the above example, and in the demo, we used a given `gamma` and `C` value.  The selection of the parameters depend on the problem and decent performance of the SVM requires that you select these parameters carefully.  The best way to select the parameters is via cross validation.  Specifically, generally, one tries different values of `gamma` and `C` and selects the pair of values the lowest test error rate.\n",
        "\n",
        "In the code below, we will try to use 3 values for `C` and `gamma` as specified in the arrays `C_test` and `gam_test`.  For each `C` and `gamma` in these arrays, fit a model on the training data and measure the accuracy on the test data.  Then, print the `C` and `gamma` that result in the best accuracy.   \n",
        "\n",
        "Normally, you would try a large number of values for each of the parameters, but an SVM is very slow to train -- even with this small data set.  So, we will just do 3 values of each.  Even then, this could take 30 minutes or so to complete.\n",
        "\n",
        "In this lab, you may do the parameter search over `C` and `gamma` in one of two ways:\n",
        "* This section:  Use for loops and manually search over the parameters.  This is more direct and you will see and control exactly what is happening.\n",
        "* Next section:  Use the `GridSearchCV` method in the `sklearn` package.  This takes a little reading, but once you learn this method, you can more easily use this for complex parameter searches.\n",
        "\n",
        "**You only need to submit the solutions to one of the two sections.**  Pick whichever one you want."
      ]
    },
    {
      "cell_type": "code",
      "execution_count": 47,
      "metadata": {
        "colab": {
          "base_uri": "https://localhost:8080/"
        },
        "id": "ZQkH4bAm5L2b",
        "outputId": "b2865ce8-ad6c-4920-c9d6-25b97c43f870"
      },
      "outputs": [
        {
          "output_type": "stream",
          "name": "stdout",
          "text": [
            "[LibSVM]C=  1.0000e-01 gam=  1.0000e-03 acc=0.514333\n",
            "[LibSVM]C=  1.0000e-01 gam=  1.0000e-02 acc=0.815667\n",
            "[LibSVM]C=  1.0000e-01 gam=  1.0000e-01 acc=0.224833\n",
            "[LibSVM]C=  1.0000e+00 gam=  1.0000e-03 acc=0.815500\n",
            "[LibSVM]C=  1.0000e+00 gam=  1.0000e-02 acc=0.899667\n",
            "[LibSVM]C=  1.0000e+00 gam=  1.0000e-01 acc=0.506500\n",
            "[LibSVM]C=  1.0000e+01 gam=  1.0000e-03 acc=0.854833\n",
            "[LibSVM]C=  1.0000e+01 gam=  1.0000e-02 acc=0.913833\n",
            "[LibSVM]C=  1.0000e+01 gam=  1.0000e-01 acc=0.547000\n"
          ]
        }
      ],
      "source": [
        "C_test = [0.1,1,10]\n",
        "gam_test = [0.001,0.01,0.1]\n",
        "\n",
        "nC = len(C_test)\n",
        "ngam = len(gam_test)\n",
        "acc = np.zeros((nC,ngam))\n",
        "\n",
        "# TODO:  Measure and print the accuracy for each C and gamma value.  Store the results in acc\n",
        "for i, C in enumerate(C_test):\n",
        "    for j, gam in enumerate(gam_test):\n",
        "\n",
        "        # Create the SVC\n",
        "        svc = svm.SVC(probability=False,  kernel=\"rbf\", C=C, gamma=gam,verbose=10)\n",
        "\n",
        "        # Fit the data\n",
        "        svc.fit(Xtr1,ytr1)\n",
        "\n",
        "        # Predict\n",
        "        yhat = svc.predict(Xts1)\n",
        "        acc[i,j] = np.mean(yhat == yts1)\n",
        "        print('C=%12.4e gam=%12.4e acc=%f' % (C,gam,acc[i,j]))\n",
        ""
      ]
    },
    {
      "cell_type": "code",
      "execution_count": null,
      "metadata": {
        "id": "mZWhzT8H5L2b",
        "outputId": "397d22da-e6fc-4fd6-944e-c742311a7310"
      },
      "outputs": [
        {
          "name": "stdout",
          "output_type": "stream",
          "text": [
            "[[ 0.53466667  0.81283333  0.22033333]\n",
            " [ 0.81816667  0.8895      0.38083333]\n",
            " [ 0.85483333  0.90516667  0.4245    ]]\n"
          ]
        }
      ],
      "source": [
        "print(acc)"
      ]
    },
    {
      "cell_type": "code",
      "execution_count": null,
      "metadata": {
        "id": "j-XaA3mu5L2b",
        "outputId": "7d9851ef-8f01-4f89-b63b-cb8f519229fc"
      },
      "outputs": [
        {
          "name": "stdout",
          "output_type": "stream",
          "text": [
            "Max accuracy =   9.0517e-01\n",
            "Optimal C=  1.0000e+01 gam =   1.0000e-02\n"
          ]
        }
      ],
      "source": [
        "# TODO:  Print the maximum accuracy and the corresponding best C and gamma\n",
        "acc_max = np.max(acc)\n",
        "ind = np.argmax(acc)\n",
        "i, j = np.unravel_index(ind, (nC,ngam))\n",
        "\n",
        "print('Max accuracy = %12.4e' % acc_max)\n",
        "print('Optimal C=%12.4e gam = %12.4e' % (C_test[i], gam_test[j]))"
      ]
    },
    {
      "cell_type": "markdown",
      "metadata": {
        "collapsed": true,
        "id": "3Zw5B0Nq5L2e"
      },
      "source": [
        "## Using `GridSearchCV` (Optional Section)\n",
        "\n",
        "\n",
        "In the previous section, you would have likely used `for-loops` to search over the different `C` and `gamma` values.  Since this type of parameter search is so commonly used, `sklearn` has an excellent method `GridSearchCV` that can perform all the operations for you.  In this lab, `GridSearchCV` is not that useful.  But, once you get to more complex parameter searches, the `GridSearchCV` method can save you writing a lot of code.  Importantly, `GridSearchCV` supports parallelization so that fits with different parameters can be fit at the same time.  In this optional section, we will show how to use this method.  \n",
        "\n",
        "**You do not have to do this section, if you did the previous section**.  "
      ]
    },
    {
      "cell_type": "markdown",
      "metadata": {
        "id": "ADa1IHns5L2e"
      },
      "source": [
        "The `GridSearchCV` method does the train-test split in addition to the parameter search.  In this case, you have already a fixed train-test split.  So, you first need to combine the train and test data back into a single dataset.\n",
        "\n",
        "Create arrays `X` and `y` from `Xtr1`, `Xts1`, `ytr` and `yts`.  Use `np.vstack` and `np.hstack`."
      ]
    },
    {
      "cell_type": "code",
      "execution_count": null,
      "metadata": {
        "id": "OrI7ww9T5L2e"
      },
      "outputs": [],
      "source": [
        "# TODO:  Create combined trained and test data X and y.\n",
        "# X = ...\n",
        "# y = ...\n",
        "X = np.vstack((Xtr1,Xts1))\n",
        "y = np.hstack((ytr1,yts1))"
      ]
    },
    {
      "cell_type": "markdown",
      "metadata": {
        "id": "02-6NeeG5L2e"
      },
      "source": [
        "Normally, `GridSearchCV` will do $K$-fold validation and automatically split the data into training and test in each fold.  But, in this case, we want it to perform only one fold with a specific train-test split.  To do this, we need to do the following:\n",
        "* Create a vector `test_fold` where `test_fold[i] = -1` for the samples `i` in the training data (this indicates that they should not be used as test data in any fold) and `test_fold[i] = 0` for the samples `i` in the test data (this indicates that they should be as test data in fold 0).\n",
        "* Call the method  `ps = sklearn.model_selection.PredefinedSplit(test_fold)` to create a predefined test split object."
      ]
    },
    {
      "cell_type": "code",
      "execution_count": null,
      "metadata": {
        "id": "lSmeWYo-5L2f"
      },
      "outputs": [],
      "source": [
        "# TODO:  Create a pre-defined test split object\n",
        "# import sklearn.model_selection\n",
        "# test_fold = ...\n",
        "# ps = sklearn.model_selection.PredefinedSplit(test_fold)\n",
        "\n",
        "ntr = len(ytr1)\n",
        "nts = len(yts1)\n",
        "test_fold = np.hstack((-1*np.ones(ntr), np.zeros(nts)))\n",
        "\n",
        "import sklearn.model_selection\n",
        "ps = sklearn.model_selection.PredefinedSplit(test_fold)"
      ]
    },
    {
      "cell_type": "markdown",
      "metadata": {
        "id": "ES-PEItR5L2f"
      },
      "source": [
        "Next, read about the `GridSearchCV` method to set up a classifier that includes searching over the parameter grid.  \n",
        "* For the `param_grid` parameter, you will want to create a dictionary to search over `C` and `gamma`.  You will also need to select the `kernel` parameter.\n",
        "* Set `cv = ps` to use the fixed train-test split.\n",
        "* Set `verbose=10` to monitor the progress"
      ]
    },
    {
      "cell_type": "code",
      "execution_count": null,
      "metadata": {
        "id": "d5IUFwTn5L2f"
      },
      "outputs": [],
      "source": [
        "# TODO:  Create a GridSearchCV classifier\n",
        "# clf = ...\n",
        "from sklearn.model_selection import GridSearchCV\n",
        "param_grid = {'C' : C_test, 'gamma': gam_test, 'kernel' : ['rbf']}\n",
        "clf = GridSearchCV(svm.SVC(), param_grid = param_grid, cv = ps, verbose=10)"
      ]
    },
    {
      "cell_type": "markdown",
      "metadata": {
        "id": "NBfdIgw35L2f"
      },
      "source": [
        "Fit the classifier using the `fit` method.  The fit method will now search over all the parameters. This will take about 30 minutes."
      ]
    },
    {
      "cell_type": "code",
      "execution_count": null,
      "metadata": {
        "id": "zt7TZ6Ij5L2f",
        "outputId": "31c39881-3624-4777-d882-b0d5c061c531"
      },
      "outputs": [
        {
          "name": "stdout",
          "output_type": "stream",
          "text": [
            "Fitting 1 folds for each of 9 candidates, totalling 9 fits\n",
            "[CV] C=0.1, gamma=0.001, kernel=rbf ..................................\n",
            "[CV]  C=0.1, gamma=0.001, kernel=rbf, score=0.5426666666666666, total= 1.7min\n",
            "[CV] C=0.1, gamma=0.01, kernel=rbf ...................................\n"
          ]
        },
        {
          "name": "stderr",
          "output_type": "stream",
          "text": [
            "[Parallel(n_jobs=1)]: Done   1 out of   1 | elapsed:  2.5min remaining:    0.0s\n"
          ]
        },
        {
          "name": "stdout",
          "output_type": "stream",
          "text": [
            "[CV] ...... C=0.1, gamma=0.01, kernel=rbf, score=0.8135, total= 1.3min\n",
            "[CV] C=0.1, gamma=0.1, kernel=rbf ....................................\n"
          ]
        },
        {
          "name": "stderr",
          "output_type": "stream",
          "text": [
            "[Parallel(n_jobs=1)]: Done   2 out of   2 | elapsed:  4.4min remaining:    0.0s\n"
          ]
        },
        {
          "name": "stdout",
          "output_type": "stream",
          "text": [
            "[CV]  C=0.1, gamma=0.1, kernel=rbf, score=0.22583333333333333, total= 1.9min\n",
            "[CV] C=1, gamma=0.001, kernel=rbf ....................................\n"
          ]
        },
        {
          "name": "stderr",
          "output_type": "stream",
          "text": [
            "[Parallel(n_jobs=1)]: Done   3 out of   3 | elapsed:  7.0min remaining:    0.0s\n"
          ]
        },
        {
          "name": "stdout",
          "output_type": "stream",
          "text": [
            "[CV] ....... C=1, gamma=0.001, kernel=rbf, score=0.8165, total=  54.6s\n",
            "[CV] C=1, gamma=0.01, kernel=rbf .....................................\n"
          ]
        },
        {
          "name": "stderr",
          "output_type": "stream",
          "text": [
            "[Parallel(n_jobs=1)]: Done   4 out of   4 | elapsed:  8.4min remaining:    0.0s\n"
          ]
        },
        {
          "name": "stdout",
          "output_type": "stream",
          "text": [
            "[CV]  C=1, gamma=0.01, kernel=rbf, score=0.8868333333333334, total=  39.6s\n",
            "[CV] C=1, gamma=0.1, kernel=rbf ......................................\n"
          ]
        },
        {
          "name": "stderr",
          "output_type": "stream",
          "text": [
            "[Parallel(n_jobs=1)]: Done   5 out of   5 | elapsed:  9.4min remaining:    0.0s\n"
          ]
        },
        {
          "name": "stdout",
          "output_type": "stream",
          "text": [
            "[CV]  C=1, gamma=0.1, kernel=rbf, score=0.3873333333333333, total= 2.0min\n",
            "[CV] C=10, gamma=0.001, kernel=rbf ...................................\n"
          ]
        },
        {
          "name": "stderr",
          "output_type": "stream",
          "text": [
            "[Parallel(n_jobs=1)]: Done   6 out of   6 | elapsed: 12.1min remaining:    0.0s\n"
          ]
        },
        {
          "name": "stdout",
          "output_type": "stream",
          "text": [
            "[CV]  C=10, gamma=0.001, kernel=rbf, score=0.8526666666666667, total=  33.6s\n",
            "[CV] C=10, gamma=0.01, kernel=rbf ....................................\n"
          ]
        },
        {
          "name": "stderr",
          "output_type": "stream",
          "text": [
            "[Parallel(n_jobs=1)]: Done   7 out of   7 | elapsed: 13.0min remaining:    0.0s\n"
          ]
        },
        {
          "name": "stdout",
          "output_type": "stream",
          "text": [
            "[CV]  C=10, gamma=0.01, kernel=rbf, score=0.9021666666666667, total=  41.1s\n",
            "[CV] C=10, gamma=0.1, kernel=rbf .....................................\n"
          ]
        },
        {
          "name": "stderr",
          "output_type": "stream",
          "text": [
            "[Parallel(n_jobs=1)]: Done   8 out of   8 | elapsed: 14.0min remaining:    0.0s\n"
          ]
        },
        {
          "name": "stdout",
          "output_type": "stream",
          "text": [
            "[CV] ........ C=10, gamma=0.1, kernel=rbf, score=0.4345, total= 2.1min\n"
          ]
        },
        {
          "name": "stderr",
          "output_type": "stream",
          "text": [
            "[Parallel(n_jobs=1)]: Done   9 out of   9 | elapsed: 16.7min remaining:    0.0s\n",
            "[Parallel(n_jobs=1)]: Done   9 out of   9 | elapsed: 16.7min finished\n"
          ]
        },
        {
          "data": {
            "text/plain": [
              "GridSearchCV(cv=PredefinedSplit(test_fold=array([-1, -1, ...,  0,  0])),\n",
              "       error_score='raise',\n",
              "       estimator=SVC(C=1.0, cache_size=200, class_weight=None, coef0=0.0,\n",
              "  decision_function_shape='ovr', degree=3, gamma='auto', kernel='rbf',\n",
              "  max_iter=-1, probability=False, random_state=None, shrinking=True,\n",
              "  tol=0.001, verbose=False),\n",
              "       fit_params=None, iid=True, n_jobs=1,\n",
              "       param_grid={'C': [0.1, 1, 10], 'gamma': [0.001, 0.01, 0.1], 'kernel': ['rbf']},\n",
              "       pre_dispatch='2*n_jobs', refit=True, return_train_score=True,\n",
              "       scoring=None, verbose=10)"
            ]
          },
          "execution_count": 62,
          "metadata": {},
          "output_type": "execute_result"
        }
      ],
      "source": [
        "# TODO: Fit the classifier\n",
        "clf.fit(X,y)"
      ]
    },
    {
      "cell_type": "markdown",
      "metadata": {
        "id": "biObP3Ot5L2f"
      },
      "source": [
        "Print the `best_score_` and `best_params_` attributes of the classifier to find the best score and parameters"
      ]
    },
    {
      "cell_type": "code",
      "execution_count": null,
      "metadata": {
        "id": "_B9OUFsA5L2f",
        "outputId": "4cdc50b6-3148-4e2b-eef5-0cbd29c8a7a5"
      },
      "outputs": [
        {
          "name": "stdout",
          "output_type": "stream",
          "text": [
            "Best parameter: {'C': 10, 'gamma': 0.01, 'kernel': 'rbf'}\n",
            "Best score: 0.902166666667\n"
          ]
        }
      ],
      "source": [
        "# TODO:  Print the best parameter and score of the classifier\n",
        "print(\"Best parameter: \" + str(clf.best_params_))\n",
        "print(\"Best score: \" + str(clf.best_score_))"
      ]
    },
    {
      "cell_type": "markdown",
      "metadata": {
        "id": "dGuqMFKS5L2f"
      },
      "source": [
        "Finally, you can print the test and train score from the `cv_results_['mean_test_score']` and `cv_results_['mean_train_score']`."
      ]
    },
    {
      "cell_type": "code",
      "execution_count": null,
      "metadata": {
        "id": "6rf6ekt15L2f",
        "outputId": "e7856cd7-8052-4826-fa08-b5fb0a2d0e39"
      },
      "outputs": [
        {
          "data": {
            "text/plain": [
              "array([ 0.54266667,  0.8135    ,  0.22583333,  0.8165    ,  0.88683333,\n",
              "        0.38733333,  0.85266667,  0.90216667,  0.4345    ])"
            ]
          },
          "execution_count": 69,
          "metadata": {},
          "output_type": "execute_result"
        }
      ],
      "source": [
        "# TODO:  Print the mean test score for each parameter value.\n",
        "clf.cv_results_['mean_test_score']"
      ]
    },
    {
      "cell_type": "code",
      "execution_count": null,
      "metadata": {
        "collapsed": true,
        "id": "Tsx_hKZZ5L2f"
      },
      "outputs": [],
      "source": []
    }
  ],
  "metadata": {
    "kernelspec": {
      "display_name": "Python 3",
      "language": "python",
      "name": "python3"
    },
    "language_info": {
      "codemirror_mode": {
        "name": "ipython",
        "version": 3
      },
      "file_extension": ".py",
      "mimetype": "text/x-python",
      "name": "python",
      "nbconvert_exporter": "python",
      "pygments_lexer": "ipython3",
      "version": "3.6.7"
    },
    "colab": {
      "provenance": [],
      "include_colab_link": true
    }
  },
  "nbformat": 4,
  "nbformat_minor": 0
}