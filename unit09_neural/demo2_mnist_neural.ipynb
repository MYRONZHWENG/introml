{
  "cells": [
    {
      "cell_type": "markdown",
      "metadata": {
        "id": "view-in-github",
        "colab_type": "text"
      },
      "source": [
        "<a href=\"https://colab.research.google.com/github/sdrangan/introml/blob/master/unit09_neural/demo2_mnist_neural.ipynb\" target=\"_parent\"><img src=\"https://colab.research.google.com/assets/colab-badge.svg\" alt=\"Open In Colab\"/></a>"
      ]
    },
    {
      "cell_type": "markdown",
      "metadata": {
        "id": "odVJnLUiAuwV"
      },
      "source": [
        "# MNIST Classification via a Neural Network\n",
        "\n",
        "In the the [MNIST SVM example](../svm/mnist_svm.ipynb), we introduced the classic MNIST digit classification problem and trained a simple SVM classifier for the model.  In this demo, we will try a simple neural network.  The network we will create will not perform quite as well -- we will obtain an accuracy of only around 97%, while the SVM classifier obtains an accuracy of over 98%.  However, once we understand these simple neural networks, we will be able to build more sophisticated networks that can obtain much better classification rate.  Also, in doing this demo, you will learn several important features of the `pytorch` package in addition to the concepts shown in the [simple neural network example](./demo1_synthetic.ipynb):\n",
        "\n",
        "* How to construct multi-class classifiers using categorical cross entropy.\n",
        "* How to save and load the model after training.  "
      ]
    },
    {
      "cell_type": "markdown",
      "metadata": {
        "id": "BLF54o3VAuwZ"
      },
      "source": [
        "## Loading PyTorch\n",
        "\n",
        "We first load the `pytorch` packages as in the [simple neural network example](./demo1_synthetic.ipynb)."
      ]
    },
    {
      "cell_type": "code",
      "execution_count": 1,
      "metadata": {
        "id": "A1ZFrflgAuwa"
      },
      "outputs": [],
      "source": [
        "import torch\n",
        "import torch.nn as nn\n",
        "import torch.optim as optim"
      ]
    },
    {
      "cell_type": "markdown",
      "metadata": {
        "id": "gk5w3vGRAuwc"
      },
      "source": [
        "We also load some other common packages."
      ]
    },
    {
      "cell_type": "code",
      "execution_count": 2,
      "metadata": {
        "id": "0b8L8-9dAuwd"
      },
      "outputs": [],
      "source": [
        "import numpy as np\n",
        "import matplotlib.pyplot as plt"
      ]
    },
    {
      "cell_type": "markdown",
      "metadata": {
        "id": "XVk9CmUeAuwd"
      },
      "source": [
        "Next, we download the data.  The first time you run this code, it will load the data into directory `../data`.  The downloader has a transform that sets the mean to `0.1307` and `0.3081`, which are the mean and std deviation in the MNIST data set in the way it is stored in the raw data."
      ]
    },
    {
      "cell_type": "code",
      "source": [
        "from torchvision import datasets, transforms\n",
        "\n",
        "# Define a transform to normalize the data\n",
        "transform = transforms.Compose([transforms.ToTensor(),\n",
        "                              transforms.Normalize((0.1307,), (0.3081,))])\n",
        "\n",
        "# Download and load the training data\n",
        "train_data = datasets.MNIST('../data', train=True, download=True, transform=transform)\n",
        "\n",
        "# Download and load the test data\n",
        "test_data = datasets.MNIST('../data', train=False, download=True, transform=transform)\n"
      ],
      "metadata": {
        "id": "tDHbZdvDBQUs"
      },
      "execution_count": 19,
      "outputs": []
    },
    {
      "cell_type": "markdown",
      "metadata": {
        "id": "afxgMrPDAuwe"
      },
      "source": [
        "We will also use the `plt_digit` function from the [MNIST SVM example](../svm/mnist_svm.ipynb) to display digits."
      ]
    },
    {
      "cell_type": "code",
      "execution_count": 22,
      "metadata": {
        "id": "D8eA0jqTAuwf",
        "outputId": "aa46574b-53ed-445e-af75-6e2355524566",
        "colab": {
          "base_uri": "https://localhost:8080/",
          "height": 143
        }
      },
      "outputs": [
        {
          "output_type": "display_data",
          "data": {
            "text/plain": [
              "<Figure size 500x1000 with 4 Axes>"
            ],
            "image/png": "[encoded data removed]"
          },
          "metadata": {}
        }
      ],
      "source": [
        "def plt_digit(ax, x):\n",
        "    nrow = 28\n",
        "    ncol = 28\n",
        "    xsq = x.reshape((nrow,ncol))\n",
        "    ax.imshow(xsq,  cmap='Greys_r')\n",
        "    ax.set_xticks([])\n",
        "    ax.set_yticks([])\n",
        "\n",
        "# Select random digits\n",
        "nplt = 4\n",
        "nsamp = len(train_data)\n",
        "Iperm = np.random.permutation(nsamp)\n",
        "\n",
        "# Plot the images using the subplot command\n",
        "fig, ax = plt.subplots(1,nplt, figsize=(5,10))\n",
        "for i in range(nplt):\n",
        "    ind = Iperm[i]\n",
        "\n",
        "    # Get the data from the training data set\n",
        "    x, y = train_data[ind]\n",
        "    x = x.numpy()\n",
        "\n",
        "    # Plot the image\n",
        "    plt_digit(ax[i], x)\n",
        "    ax[i].set_title(y)"
      ]
    },
    {
      "cell_type": "markdown",
      "metadata": {
        "id": "ypAQi3B5Auwh"
      },
      "source": [
        "## Creating a Simple Neural Network."
      ]
    },
    {
      "cell_type": "markdown",
      "metadata": {
        "id": "ByQJ1dadAuwj"
      },
      "source": [
        "Now we create a very simple network.  The features are:\n",
        "*  We have one hidden layer with `nh=100` units.  \n",
        "*  One output layer with `nout=10` units, one for each of the 10 possible classes\n",
        "*  The output activation is `softmax`, which is used for multi-class targets"
      ]
    },
    {
      "cell_type": "code",
      "source": [
        "import torch\n",
        "import torch.nn as nn\n",
        "import torch.nn.functional as F\n",
        "\n",
        "class Net(nn.Module):\n",
        "    def __init__(self, nin, nh, nout):\n",
        "        super(Net, self).__init__()\n",
        "        self.flatten = nn.Flatten()\n",
        "        self.fc1 = nn.Linear(nin, nh)\n",
        "        self.fc2 = nn.Linear(nh, nout)\n",
        "\n",
        "    def forward(self, x):\n",
        "        x = self.flatten(x)\n",
        "        x = self.fc1(x)\n",
        "        x = torch.sigmoid(x)\n",
        "        x = self.fc2(x)s\n",
        "        x = F.softmax(x, dim=1)\n",
        "        return x # Apply softmax to the output\n",
        "\n",
        "nin = 28*28\n",
        "nh = 100\n",
        "nout = 10\n",
        "model = Net(nin, nh, nout)\n"
      ],
      "metadata": {
        "id": "iyHnOAaOE4g2"
      },
      "execution_count": 23,
      "outputs": []
    },
    {
      "cell_type": "markdown",
      "metadata": {
        "id": "9-3lEPaoAuwk"
      },
      "source": [
        "We print the model summary."
      ]
    },
    {
      "cell_type": "code",
      "execution_count": 24,
      "metadata": {
        "id": "Py1yhWOpAuwk",
        "outputId": "ce331b34-1559-4154-d64f-d43f8cd33f5f",
        "colab": {
          "base_uri": "https://localhost:8080/"
        }
      },
      "outputs": [
        {
          "output_type": "stream",
          "name": "stdout",
          "text": [
            "Net(\n",
            "  (flatten): Flatten(start_dim=1, end_dim=-1)\n",
            "  (fc1): Linear(in_features=784, out_features=100, bias=True)\n",
            "  (fc2): Linear(in_features=100, out_features=10, bias=True)\n",
            ")\n"
          ]
        }
      ],
      "source": [
        "print(model)"
      ]
    },
    {
      "cell_type": "code",
      "source": [
        "# prompt: Write code to train the network with an ADAM optimizer with 30 epochs and batch sizes of 100.  Record the test and training accuracy each epoch.\n",
        "\n",
        "# Define the loss function and optimizer\n",
        "criterion = nn.CrossEntropyLoss()\n",
        "optimizer = optim.Adam(model.parameters())\n",
        "\n",
        "# Training settings\n",
        "batch_size = 100\n",
        "epochs = 30\n",
        "\n",
        "# Data loaders\n",
        "train_loader = torch.utils.data.DataLoader(train_data, batch_size=batch_size, shuffle=True)\n",
        "test_loader = torch.utils.data.DataLoader(test_data, batch_size=batch_size, shuffle=False)\n",
        "\n",
        "# Lists to store training and testing accuracy for each epoch\n",
        "train_accuracy_history = []\n",
        "test_accuracy_history = []\n",
        "\n",
        "\n",
        "# Training loop\n",
        "for epoch in range(epochs):\n",
        "    # Training\n",
        "    model.train()\n",
        "    correct = 0\n",
        "    total = 0\n",
        "    for batch_idx, (data, target) in enumerate(train_loader):\n",
        "        optimizer.zero_grad()\n",
        "        output = model(data)\n",
        "        loss = criterion(output, target)\n",
        "        loss.backward()\n",
        "        optimizer.step()\n",
        "\n",
        "        _, predicted = torch.max(output.data, 1)\n",
        "        total += target.size(0)\n",
        "        correct += (predicted == target).sum().item()\n",
        "\n",
        "    train_accuracy = 100 * correct / total\n",
        "    train_accuracy_history.append(train_accuracy)\n",
        "\n",
        "    # Testing\n",
        "    model.eval()\n",
        "    correct = 0\n",
        "    total = 0\n",
        "    with torch.no_grad():\n",
        "        for data, target in test_loader:\n",
        "            output = model(data)\n",
        "            _, predicted = torch.max(output.data, 1)\n",
        "            total += target.size(0)\n",
        "            correct += (predicted == target).sum().item()\n",
        "\n",
        "    test_accuracy = 100 * correct / total\n",
        "    test_accuracy_history.append(test_accuracy)\n",
        "\n",
        "    print(f'Epoch {epoch+1}/{epochs}, Train Accuracy: {train_accuracy:.2f}%, Test Accuracy: {test_accuracy:.2f}%')\n",
        "\n",
        "print(\"Finished Training\")\n",
        "\n",
        "#Plot the accuracy\n",
        "plt.plot(train_accuracy_history, label='Training Accuracy')\n",
        "plt.plot(test_accuracy_history, label = 'Test Accuracy')\n",
        "plt.xlabel('Epoch')\n",
        "plt.ylabel('Accuracy (%)')\n",
        "plt.legend()\n",
        "plt.show()"
      ],
      "metadata": {
        "id": "27Fs33-BGIPf",
        "outputId": "66316b31-ea54-40ec-dc10-8c317793e663",
        "colab": {
          "base_uri": "https://localhost:8080/",
          "height": 989
        }
      },
      "execution_count": 25,
      "outputs": [
        {
          "output_type": "stream",
          "name": "stdout",
          "text": [
            "Epoch 1/30, Train Accuracy: 79.72%, Test Accuracy: 92.08%\n",
            "Epoch 2/30, Train Accuracy: 93.06%, Test Accuracy: 93.70%\n",
            "Epoch 3/30, Train Accuracy: 94.68%, Test Accuracy: 94.74%\n",
            "Epoch 4/30, Train Accuracy: 95.55%, Test Accuracy: 95.13%\n",
            "Epoch 5/30, Train Accuracy: 96.15%, Test Accuracy: 95.76%\n",
            "Epoch 6/30, Train Accuracy: 96.63%, Test Accuracy: 95.93%\n",
            "Epoch 7/30, Train Accuracy: 97.06%, Test Accuracy: 96.30%\n",
            "Epoch 8/30, Train Accuracy: 97.36%, Test Accuracy: 96.46%\n",
            "Epoch 9/30, Train Accuracy: 97.60%, Test Accuracy: 96.64%\n",
            "Epoch 10/30, Train Accuracy: 97.84%, Test Accuracy: 96.63%\n",
            "Epoch 11/30, Train Accuracy: 97.99%, Test Accuracy: 96.88%\n",
            "Epoch 12/30, Train Accuracy: 98.19%, Test Accuracy: 96.82%\n",
            "Epoch 13/30, Train Accuracy: 98.37%, Test Accuracy: 96.80%\n",
            "Epoch 14/30, Train Accuracy: 98.48%, Test Accuracy: 96.98%\n",
            "Epoch 15/30, Train Accuracy: 98.58%, Test Accuracy: 96.96%\n",
            "Epoch 16/30, Train Accuracy: 98.69%, Test Accuracy: 96.98%\n",
            "Epoch 17/30, Train Accuracy: 98.76%, Test Accuracy: 97.03%\n",
            "Epoch 18/30, Train Accuracy: 98.83%, Test Accuracy: 97.18%\n",
            "Epoch 19/30, Train Accuracy: 98.90%, Test Accuracy: 97.06%\n",
            "Epoch 20/30, Train Accuracy: 98.94%, Test Accuracy: 97.20%\n",
            "Epoch 21/30, Train Accuracy: 99.01%, Test Accuracy: 97.19%\n",
            "Epoch 22/30, Train Accuracy: 99.05%, Test Accuracy: 97.22%\n",
            "Epoch 23/30, Train Accuracy: 99.10%, Test Accuracy: 97.18%\n",
            "Epoch 24/30, Train Accuracy: 99.13%, Test Accuracy: 97.31%\n",
            "Epoch 25/30, Train Accuracy: 99.16%, Test Accuracy: 97.30%\n",
            "Epoch 26/30, Train Accuracy: 99.19%, Test Accuracy: 97.22%\n",
            "Epoch 27/30, Train Accuracy: 99.20%, Test Accuracy: 97.12%\n",
            "Epoch 28/30, Train Accuracy: 99.23%, Test Accuracy: 97.26%\n",
            "Epoch 29/30, Train Accuracy: 99.24%, Test Accuracy: 97.36%\n",
            "Epoch 30/30, Train Accuracy: 99.26%, Test Accuracy: 97.27%\n",
            "Finished Training\n"
          ]
        },
        {
          "output_type": "display_data",
          "data": {
            "text/plain": [
              "<Figure size 640x480 with 1 Axes>"
            ],
            "image/png": "[encoded data removed]"
          },
          "metadata": {}
        }
      ]
    },
    {
      "cell_type": "markdown",
      "metadata": {
        "id": "BzTsxG7VAuwk"
      },
      "source": [
        "## Training the Network\n",
        "\n",
        "As before, to train the network, we have to select an optimizer and a loss function.  Since this is a multi-class classification problem, we select the `sparse_categorial_crossentropy` loss.  We use the `adam` optimizer as before.  You may want to play with the learning rate `lr`.   We also set the `metrics` that we wish to track during the optimization.  In this case, we select `accuracy` on the training set."
      ]
    },
    {
      "cell_type": "code",
      "execution_count": null,
      "metadata": {
        "id": "_8LHry5KAuwl"
      },
      "outputs": [],
      "source": [
        "from tensorflow.keras import optimizers\n",
        "\n",
        "opt = optimizers.Adam(lr=0.001)\n",
        "model.compile(optimizer=opt,\n",
        "              loss='sparse_categorical_crossentropy',\n",
        "              metrics=['accuracy'])"
      ]
    },
    {
      "cell_type": "markdown",
      "metadata": {
        "id": "yxFqEleIAuwl"
      },
      "source": [
        "Keras provides a simple method `fit` to run the optimization.  You simply specify the number of epochs and the batch size, both discussed in class.  In addition, we specify the `validation_data` so that it can print the accuracy on the test data set as it performs the optimization."
      ]
    },
    {
      "cell_type": "code",
      "execution_count": null,
      "metadata": {
        "id": "prtsQZzIAuwl",
        "outputId": "e8e6b4f8-68c1-43df-c051-03d55218c491"
      },
      "outputs": [
        {
          "name": "stdout",
          "output_type": "stream",
          "text": [
            "Epoch 1/30\n",
            "600/600 [==============================] - 1s 2ms/step - loss: 0.0187 - accuracy: 0.9960 - val_loss: 0.0880 - val_accuracy: 0.9750\n",
            "Epoch 2/30\n",
            "600/600 [==============================] - 1s 1ms/step - loss: 0.0165 - accuracy: 0.9966 - val_loss: 0.0890 - val_accuracy: 0.9747\n",
            "Epoch 3/30\n",
            "600/600 [==============================] - 1s 1ms/step - loss: 0.0160 - accuracy: 0.9968 - val_loss: 0.0904 - val_accuracy: 0.9738\n",
            "Epoch 4/30\n",
            "600/600 [==============================] - 1s 1ms/step - loss: 0.0147 - accuracy: 0.9970 - val_loss: 0.0920 - val_accuracy: 0.9750\n",
            "Epoch 5/30\n",
            "600/600 [==============================] - 1s 1ms/step - loss: 0.0142 - accuracy: 0.9970 - val_loss: 0.0927 - val_accuracy: 0.9741\n",
            "Epoch 6/30\n",
            "600/600 [==============================] - 1s 2ms/step - loss: 0.0151 - accuracy: 0.9969 - val_loss: 0.0844 - val_accuracy: 0.9770\n",
            "Epoch 7/30\n",
            "600/600 [==============================] - 1s 2ms/step - loss: 0.0107 - accuracy: 0.9984 - val_loss: 0.0891 - val_accuracy: 0.9753\n",
            "Epoch 8/30\n",
            "600/600 [==============================] - 1s 1ms/step - loss: 0.0118 - accuracy: 0.9978 - val_loss: 0.0884 - val_accuracy: 0.9751\n",
            "Epoch 9/30\n",
            "600/600 [==============================] - 1s 1ms/step - loss: 0.0094 - accuracy: 0.9987 - val_loss: 0.0892 - val_accuracy: 0.9761\n",
            "Epoch 10/30\n",
            "600/600 [==============================] - 1s 2ms/step - loss: 0.0135 - accuracy: 0.9966 - val_loss: 0.0887 - val_accuracy: 0.9757\n",
            "Epoch 11/30\n",
            "600/600 [==============================] - 1s 1ms/step - loss: 0.0097 - accuracy: 0.9986 - val_loss: 0.1112 - val_accuracy: 0.9689\n",
            "Epoch 12/30\n",
            "600/600 [==============================] - 1s 1ms/step - loss: 0.0093 - accuracy: 0.9984 - val_loss: 0.0937 - val_accuracy: 0.9752\n",
            "Epoch 13/30\n",
            "600/600 [==============================] - 1s 1ms/step - loss: 0.0088 - accuracy: 0.9988 - val_loss: 0.0958 - val_accuracy: 0.9745\n",
            "Epoch 14/30\n",
            "600/600 [==============================] - 1s 1ms/step - loss: 0.0103 - accuracy: 0.9978 - val_loss: 0.1120 - val_accuracy: 0.9709\n",
            "Epoch 15/30\n",
            "600/600 [==============================] - 1s 1ms/step - loss: 0.0088 - accuracy: 0.9984 - val_loss: 0.0986 - val_accuracy: 0.9731\n",
            "Epoch 16/30\n",
            "600/600 [==============================] - 1s 1ms/step - loss: 0.0071 - accuracy: 0.9991 - val_loss: 0.0956 - val_accuracy: 0.9740\n",
            "Epoch 17/30\n",
            "600/600 [==============================] - 1s 1ms/step - loss: 0.0104 - accuracy: 0.9977 - val_loss: 0.1032 - val_accuracy: 0.9716\n",
            "Epoch 18/30\n",
            "600/600 [==============================] - 1s 1ms/step - loss: 0.0103 - accuracy: 0.9979 - val_loss: 0.0933 - val_accuracy: 0.9763\n",
            "Epoch 19/30\n",
            "600/600 [==============================] - 1s 2ms/step - loss: 0.0043 - accuracy: 0.9998 - val_loss: 0.0934 - val_accuracy: 0.9759\n",
            "Epoch 20/30\n",
            "600/600 [==============================] - 1s 2ms/step - loss: 0.0053 - accuracy: 0.9994 - val_loss: 0.1055 - val_accuracy: 0.9727\n",
            "Epoch 21/30\n",
            "600/600 [==============================] - 1s 1ms/step - loss: 0.0135 - accuracy: 0.9965 - val_loss: 0.1012 - val_accuracy: 0.9751\n",
            "Epoch 22/30\n",
            "600/600 [==============================] - 1s 1ms/step - loss: 0.0041 - accuracy: 0.9997 - val_loss: 0.0955 - val_accuracy: 0.9747\n",
            "Epoch 23/30\n",
            "600/600 [==============================] - 1s 1ms/step - loss: 0.0030 - accuracy: 0.9999 - val_loss: 0.0952 - val_accuracy: 0.9752\n",
            "Epoch 24/30\n",
            "600/600 [==============================] - 1s 2ms/step - loss: 0.0050 - accuracy: 0.9992 - val_loss: 0.1421 - val_accuracy: 0.9654\n",
            "Epoch 25/30\n",
            "600/600 [==============================] - 1s 1ms/step - loss: 0.0182 - accuracy: 0.9945 - val_loss: 0.0978 - val_accuracy: 0.9767\n",
            "Epoch 26/30\n",
            "600/600 [==============================] - 1s 1ms/step - loss: 0.0064 - accuracy: 0.9990 - val_loss: 0.0993 - val_accuracy: 0.9745\n",
            "Epoch 27/30\n",
            "600/600 [==============================] - 1s 1ms/step - loss: 0.0036 - accuracy: 0.9998 - val_loss: 0.0943 - val_accuracy: 0.9765\n",
            "Epoch 28/30\n",
            "600/600 [==============================] - 1s 1ms/step - loss: 0.0034 - accuracy: 0.9998 - val_loss: 0.1050 - val_accuracy: 0.9733\n",
            "Epoch 29/30\n",
            "600/600 [==============================] - 1s 1ms/step - loss: 0.0149 - accuracy: 0.9958 - val_loss: 0.0963 - val_accuracy: 0.9767\n",
            "Epoch 30/30\n",
            "600/600 [==============================] - 1s 1ms/step - loss: 0.0026 - accuracy: 1.0000 - val_loss: 0.0965 - val_accuracy: 0.9764\n"
          ]
        }
      ],
      "source": [
        "hist = model.fit(Xtr, ytr, epochs=30, batch_size=100, validation_data=(Xts,yts))"
      ]
    },
    {
      "cell_type": "markdown",
      "metadata": {
        "id": "aH8LyWOXAuwm"
      },
      "source": [
        "After running the 10 epochs, you should obtain a test accuracy of around 96.5%.  If we run it for another a few epochs, we can get slightly higher results.  We can just run the `model.fit` command again, and it will start where it left off. You should get a little more than 97% accuracy."
      ]
    },
    {
      "cell_type": "markdown",
      "metadata": {
        "id": "yEQTxqKuAuwm"
      },
      "source": [
        "Plot the training accuracy and validation accuracy as a function of epoches.\n",
        "We see that the training accuracy keeps growing to 1, while the validation accuracy saturates to a value around 0.97"
      ]
    },
    {
      "cell_type": "code",
      "execution_count": null,
      "metadata": {
        "id": "hW46Cjg8Auwm",
        "outputId": "333bba1e-07cd-4658-8e67-8b8a35545909"
      },
      "outputs": [
        {
          "data": {
            "text/plain": [
              "<matplotlib.legend.Legend at 0x1cef6f55280>"
            ]
          },
          "execution_count": 20,
          "metadata": {},
          "output_type": "execute_result"
        },
        {
          "data": {
            "image/png": "[encoded data removed]",
            "text/plain": [
              "<Figure size 432x288 with 1 Axes>"
            ]
          },
          "metadata": {
            "needs_background": "light"
          },
          "output_type": "display_data"
        }
      ],
      "source": [
        "tr_accuracy = hist.history['accuracy']\n",
        "val_accuracy = hist.history['val_accuracy']\n",
        "\n",
        "plt.plot(tr_accuracy)\n",
        "plt.plot(val_accuracy)\n",
        "plt.grid()\n",
        "plt.xlabel('epochs')\n",
        "plt.ylabel('accuarcy')\n",
        "plt.legend(['training accuracy', 'validation accuracy'])"
      ]
    },
    {
      "cell_type": "code",
      "execution_count": null,
      "metadata": {
        "id": "tKXgLt1tAuwn",
        "outputId": "9bc18ae7-fc64-4dd7-8c1f-6a1b8a7c72d5"
      },
      "outputs": [
        {
          "name": "stdout",
          "output_type": "stream",
          "text": [
            "313/313 [==============================] - 0s 1ms/step - loss: 0.0965 - accuracy: 0.9764\n"
          ]
        }
      ],
      "source": [
        "score, acc = model.evaluate(Xts, yts, verbose=1)"
      ]
    },
    {
      "cell_type": "markdown",
      "metadata": {
        "id": "0Ysk5AieAuwn"
      },
      "source": [
        "## Saving and Loading the model\n",
        "\n",
        "Since the training takes a long time, it is useful to save the results.  See the [keras page](https://keras.io/getting-started/faq/#how-can-i-save-a-keras-model) for many more useful saving and loading features."
      ]
    },
    {
      "cell_type": "code",
      "execution_count": null,
      "metadata": {
        "id": "qViD76p5Auwo"
      },
      "outputs": [],
      "source": [
        "model.save(\"mnist_mod.h5\")"
      ]
    },
    {
      "cell_type": "markdown",
      "metadata": {
        "id": "EJWSIUgKAuwo"
      },
      "source": [
        "We can now reload the model with the `load_model` command."
      ]
    },
    {
      "cell_type": "code",
      "execution_count": null,
      "metadata": {
        "id": "8Q65ReH7Auwo",
        "outputId": "df8cddd4-87ad-450d-82a8-3e169e08eeed"
      },
      "outputs": [
        {
          "name": "stdout",
          "output_type": "stream",
          "text": [
            "Model: \"sequential\"\n",
            "_________________________________________________________________\n",
            "Layer (type)                 Output Shape              Param #   \n",
            "=================================================================\n",
            "hidden (Dense)               (None, 100)               78500     \n",
            "_________________________________________________________________\n",
            "output (Dense)               (None, 10)                1010      \n",
            "=================================================================\n",
            "Total params: 79,510\n",
            "Trainable params: 79,510\n",
            "Non-trainable params: 0\n",
            "_________________________________________________________________\n"
          ]
        }
      ],
      "source": [
        "from tensorflow.keras.models import load_model\n",
        "\n",
        "model1 = load_model(\"mnist_mod.h5\")\n",
        "model1.summary()"
      ]
    },
    {
      "cell_type": "markdown",
      "metadata": {
        "id": "Y3l0YaypAuwp"
      },
      "source": [
        "We can test the performance on the test data set.  We can do this in two steps:\n",
        "\n",
        "* We first compute the output logits, `z`, on the test data, `Xts`.  This will produce a matrix with 10 columns with one logits for each class.  \n",
        "* Then we compute the predicted class labels `yhat` by finding the index of the column with the maximum value."
      ]
    },
    {
      "cell_type": "code",
      "execution_count": null,
      "metadata": {
        "id": "BLt2i4m_Auwp"
      },
      "outputs": [],
      "source": [
        "z = model1.predict(Xts)\n",
        "yhat = np.argmax(z,axis=1)"
      ]
    },
    {
      "cell_type": "markdown",
      "metadata": {
        "id": "c1yKbCRQAuwq"
      },
      "source": [
        "To see what happened, the code below prints the first 5 rows of the logits and the corresponding class estimate."
      ]
    },
    {
      "cell_type": "code",
      "execution_count": null,
      "metadata": {
        "id": "eKANG_byAuwr",
        "outputId": "b77ce44d-20fd-4508-9156-5f55823f5136"
      },
      "outputs": [
        {
          "name": "stdout",
          "output_type": "stream",
          "text": [
            "z[0,:]= [0. 0. 0. 0. 0. 0. 0. 1. 0. 0.] , yhat[0]=  7\n",
            "z[1,:]= [0. 0. 1. 0. 0. 0. 0. 0. 0. 0.] , yhat[1]=  2\n",
            "z[2,:]= [0. 1. 0. 0. 0. 0. 0. 0. 0. 0.] , yhat[2]=  1\n",
            "z[3,:]= [1. 0. 0. 0. 0. 0. 0. 0. 0. 0.] , yhat[3]=  0\n",
            "z[4,:]= [0. 0. 0. 0. 1. 0. 0. 0. 0. 0.] , yhat[4]=  4\n"
          ]
        }
      ],
      "source": [
        "mat = np.column_stack((z,yhat))\n",
        "with np.printoptions(precision=3, suppress=True):\n",
        "    for i in range(5):\n",
        "        print('z[%d,:]='%i, z[i,:], ', yhat[%d]= '%i, yhat[i])"
      ]
    },
    {
      "cell_type": "code",
      "execution_count": null,
      "metadata": {
        "id": "Ell_ZrpTAuwr",
        "outputId": "cd58a34c-c243-4d4d-a9d7-37fa19564025"
      },
      "outputs": [
        {
          "name": "stdout",
          "output_type": "stream",
          "text": [
            "accuracy = 0.976400\n"
          ]
        }
      ],
      "source": [
        "acc = np.mean(yhat == yts)\n",
        "print(\"accuracy = %f\" % acc)"
      ]
    },
    {
      "cell_type": "markdown",
      "metadata": {
        "id": "2wwzUwWgAuws"
      },
      "source": [
        "You can also use the built-in metric function, `sparse_categorical_accuracy`.  The function returns one output for each sample, so you need to take the mean of the results."
      ]
    },
    {
      "cell_type": "code",
      "execution_count": null,
      "metadata": {
        "id": "rms3weSKAuws",
        "outputId": "ff684d13-8360-464a-a92a-516aa258af4e"
      },
      "outputs": [
        {
          "name": "stdout",
          "output_type": "stream",
          "text": [
            "accuracy = 0.976400\n"
          ]
        }
      ],
      "source": [
        "from tensorflow.keras.metrics import sparse_categorical_accuracy\n",
        "acc = np.mean(sparse_categorical_accuracy(yts, yhat1))\n",
        "print(\"accuracy = %f\" % acc)"
      ]
    },
    {
      "cell_type": "code",
      "execution_count": null,
      "metadata": {
        "id": "UsJ-QXJpAuwt"
      },
      "outputs": [],
      "source": []
    },
    {
      "cell_type": "code",
      "execution_count": null,
      "metadata": {
        "id": "uEITkg-YAuwt"
      },
      "outputs": [],
      "source": []
    },
    {
      "cell_type": "code",
      "execution_count": null,
      "metadata": {
        "id": "79RMMF7VAuwt"
      },
      "outputs": [],
      "source": []
    }
  ],
  "metadata": {
    "anaconda-cloud": {},
    "kernelspec": {
      "display_name": "Python 3",
      "language": "python",
      "name": "python3"
    },
    "language_info": {
      "codemirror_mode": {
        "name": "ipython",
        "version": 3
      },
      "file_extension": ".py",
      "mimetype": "text/x-python",
      "name": "python",
      "nbconvert_exporter": "python",
      "pygments_lexer": "ipython3",
      "version": "3.8.3"
    },
    "colab": {
      "provenance": [],
      "include_colab_link": true
    }
  },
  "nbformat": 4,
  "nbformat_minor": 0
}