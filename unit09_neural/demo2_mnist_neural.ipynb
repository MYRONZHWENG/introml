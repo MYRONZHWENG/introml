{
  "cells": [
    {
      "cell_type": "markdown",
      "metadata": {
        "id": "view-in-github",
        "colab_type": "text"
      },
      "source": [
        "<a href=\"https://colab.research.google.com/github/sdrangan/introml/blob/master/unit09_neural/demo2_mnist_neural.ipynb\" target=\"_parent\"><img src=\"https://colab.research.google.com/assets/colab-badge.svg\" alt=\"Open In Colab\"/></a>"
      ]
    },
    {
      "cell_type": "markdown",
      "metadata": {
        "id": "odVJnLUiAuwV"
      },
      "source": [
        "# MNIST Classification via a Neural Network\n",
        "\n",
        "In the the [MNIST SVM example](../svm/mnist_svm.ipynb), we introduced the classic MNIST digit classification problem and trained a simple SVM classifier for the model.  In this demo, we will try a simple neural network.  The network we will create will not perform quite as well -- we will obtain an accuracy of only around 97%, while the SVM classifier obtains an accuracy of over 98%.  However, once we understand these simple neural networks, we will be able to build more sophisticated networks that can obtain much better classification rate.  Also, in doing this demo, you will learn several important features of the `pytorch` package in addition to the concepts shown in the [simple neural network example](./demo1_synthetic.ipynb):\n",
        "\n",
        "* How to construct multi-class classifiers using categorical cross entropy.\n",
        "* How to save and load the model after training.  "
      ]
    },
    {
      "cell_type": "markdown",
      "metadata": {
        "id": "BLF54o3VAuwZ"
      },
      "source": [
        "## Loading PyTorch\n",
        "\n",
        "We first load the `pytorch` packages as in the [simple neural network example](./demo1_synthetic.ipynb)."
      ]
    },
    {
      "cell_type": "code",
      "execution_count": 2,
      "metadata": {
        "id": "A1ZFrflgAuwa"
      },
      "outputs": [],
      "source": [
        "import torch\n",
        "import torch.nn as nn\n",
        "import torch.optim as optim"
      ]
    },
    {
      "cell_type": "markdown",
      "source": [
        "Computations on larger neural networks can be sped up by using a Graphics Processor Unit (GPU).  If you are running on Google colab, you can select a GPU.  Several instructions are available online, for example, you can follow [this short tutorial on Medium](https://medium.com/@208r1a6734/how-to-connect-the-gpu-in-google-colab-5ff4cbd4b0a1).  The Google colab GPU is not very powerful, and the MNIST is not a large network so the speed up from using a GPU may not be that significant.\n",
        "\n",
        "You can see if you have activated a GPU with the following command.\n"
      ],
      "metadata": {
        "id": "ojb3Iu7pOae1"
      }
    },
    {
      "cell_type": "code",
      "source": [
        "if torch.cuda.is_available():\n",
        "  print(torch.cuda.get_device_name(0))\n",
        "else:\n",
        "  print(\"No GPU available.\")\n",
        "\n",
        "device = torch.device(\"cuda\" if torch.cuda.is_available() else \"cpu\")\n"
      ],
      "metadata": {
        "colab": {
          "base_uri": "https://localhost:8080/"
        },
        "id": "6wmOBdBZYQa-",
        "outputId": "26544ed8-8a46-4af0-b58d-c685a01ecfd3"
      },
      "execution_count": 3,
      "outputs": [
        {
          "output_type": "stream",
          "name": "stdout",
          "text": [
            "Tesla T4\n"
          ]
        }
      ]
    },
    {
      "cell_type": "markdown",
      "metadata": {
        "id": "gk5w3vGRAuwc"
      },
      "source": [
        "We also load some other common packages."
      ]
    },
    {
      "cell_type": "code",
      "execution_count": 4,
      "metadata": {
        "id": "0b8L8-9dAuwd"
      },
      "outputs": [],
      "source": [
        "import numpy as np\n",
        "import matplotlib.pyplot as plt"
      ]
    },
    {
      "cell_type": "markdown",
      "metadata": {
        "id": "XVk9CmUeAuwd"
      },
      "source": [
        "Next, we download the data.  The first time you run this code, it will load the data into directory `../data`.  The downloader has a transform that sets the mean to `0.1307` and `0.3081`, which are the mean and std deviation in the MNIST data set in the way it is stored in the raw data."
      ]
    },
    {
      "cell_type": "code",
      "source": [
        "from torchvision import datasets, transforms\n",
        "\n",
        "# Define a transform to normalize the data\n",
        "transform = transforms.Compose([transforms.ToTensor(),\n",
        "                              transforms.Normalize((0.1307,), (0.3081,))])\n",
        "\n",
        "# Download and load the training data\n",
        "train_data = datasets.MNIST('../data', train=True, download=True, transform=transform)\n",
        "\n",
        "# Download and load the test data\n",
        "test_data = datasets.MNIST('../data', train=False, download=True, transform=transform)\n"
      ],
      "metadata": {
        "id": "tDHbZdvDBQUs",
        "colab": {
          "base_uri": "https://localhost:8080/"
        },
        "outputId": "aba0bc49-10e2-414a-8f9b-26174a66ff66"
      },
      "execution_count": 6,
      "outputs": [
        {
          "output_type": "stream",
          "name": "stdout",
          "text": [
            "Downloading http://yann.lecun.com/exdb/mnist/train-images-idx3-ubyte.gz\n",
            "Failed to download (trying next):\n",
            "<urlopen error [SSL: CERTIFICATE_VERIFY_FAILED] certificate verify failed: certificate has expired (_ssl.c:1007)>\n",
            "\n",
            "Downloading https://ossci-datasets.s3.amazonaws.com/mnist/train-images-idx3-ubyte.gz\n",
            "Downloading https://ossci-datasets.s3.amazonaws.com/mnist/train-images-idx3-ubyte.gz to ../data/MNIST/raw/train-images-idx3-ubyte.gz\n"
          ]
        },
        {
          "output_type": "stream",
          "name": "stderr",
          "text": [
            "100%|██████████| 9.91M/9.91M [00:00<00:00, 16.0MB/s]\n"
          ]
        },
        {
          "output_type": "stream",
          "name": "stdout",
          "text": [
            "Extracting ../data/MNIST/raw/train-images-idx3-ubyte.gz to ../data/MNIST/raw\n",
            "\n",
            "Downloading http://yann.lecun.com/exdb/mnist/train-labels-idx1-ubyte.gz\n",
            "Failed to download (trying next):\n",
            "<urlopen error [SSL: CERTIFICATE_VERIFY_FAILED] certificate verify failed: certificate has expired (_ssl.c:1007)>\n",
            "\n",
            "Downloading https://ossci-datasets.s3.amazonaws.com/mnist/train-labels-idx1-ubyte.gz\n",
            "Downloading https://ossci-datasets.s3.amazonaws.com/mnist/train-labels-idx1-ubyte.gz to ../data/MNIST/raw/train-labels-idx1-ubyte.gz\n"
          ]
        },
        {
          "output_type": "stream",
          "name": "stderr",
          "text": [
            "100%|██████████| 28.9k/28.9k [00:00<00:00, 486kB/s]\n"
          ]
        },
        {
          "output_type": "stream",
          "name": "stdout",
          "text": [
            "Extracting ../data/MNIST/raw/train-labels-idx1-ubyte.gz to ../data/MNIST/raw\n",
            "\n",
            "Downloading http://yann.lecun.com/exdb/mnist/t10k-images-idx3-ubyte.gz\n",
            "Failed to download (trying next):\n",
            "<urlopen error [SSL: CERTIFICATE_VERIFY_FAILED] certificate verify failed: certificate has expired (_ssl.c:1007)>\n",
            "\n",
            "Downloading https://ossci-datasets.s3.amazonaws.com/mnist/t10k-images-idx3-ubyte.gz\n",
            "Downloading https://ossci-datasets.s3.amazonaws.com/mnist/t10k-images-idx3-ubyte.gz to ../data/MNIST/raw/t10k-images-idx3-ubyte.gz\n"
          ]
        },
        {
          "output_type": "stream",
          "name": "stderr",
          "text": [
            "100%|██████████| 1.65M/1.65M [00:00<00:00, 4.44MB/s]\n"
          ]
        },
        {
          "output_type": "stream",
          "name": "stdout",
          "text": [
            "Extracting ../data/MNIST/raw/t10k-images-idx3-ubyte.gz to ../data/MNIST/raw\n",
            "\n",
            "Downloading http://yann.lecun.com/exdb/mnist/t10k-labels-idx1-ubyte.gz\n",
            "Failed to download (trying next):\n",
            "<urlopen error [SSL: CERTIFICATE_VERIFY_FAILED] certificate verify failed: certificate has expired (_ssl.c:1007)>\n",
            "\n",
            "Downloading https://ossci-datasets.s3.amazonaws.com/mnist/t10k-labels-idx1-ubyte.gz\n",
            "Downloading https://ossci-datasets.s3.amazonaws.com/mnist/t10k-labels-idx1-ubyte.gz to ../data/MNIST/raw/t10k-labels-idx1-ubyte.gz\n"
          ]
        },
        {
          "output_type": "stream",
          "name": "stderr",
          "text": [
            "100%|██████████| 4.54k/4.54k [00:00<00:00, 11.6MB/s]"
          ]
        },
        {
          "output_type": "stream",
          "name": "stdout",
          "text": [
            "Extracting ../data/MNIST/raw/t10k-labels-idx1-ubyte.gz to ../data/MNIST/raw\n",
            "\n"
          ]
        },
        {
          "output_type": "stream",
          "name": "stderr",
          "text": [
            "\n"
          ]
        }
      ]
    },
    {
      "cell_type": "markdown",
      "metadata": {
        "id": "afxgMrPDAuwe"
      },
      "source": [
        "We will also use the `plt_digit` function from the [MNIST SVM example](../svm/mnist_svm.ipynb) to display digits."
      ]
    },
    {
      "cell_type": "code",
      "execution_count": 7,
      "metadata": {
        "id": "D8eA0jqTAuwf",
        "outputId": "c631c379-b4b8-4e45-95ae-16f64e7cf360",
        "colab": {
          "base_uri": "https://localhost:8080/",
          "height": 143
        }
      },
      "outputs": [
        {
          "output_type": "display_data",
          "data": {
            "text/plain": [
              "<Figure size 500x1000 with 4 Axes>"
            ],
            "image/png": "[encoded data removed]"
          },
          "metadata": {}
        }
      ],
      "source": [
        "def plt_digit(ax, x):\n",
        "    nrow = 28\n",
        "    ncol = 28\n",
        "    xsq = x.reshape((nrow,ncol))\n",
        "    ax.imshow(xsq,  cmap='Greys_r')\n",
        "    ax.set_xticks([])\n",
        "    ax.set_yticks([])\n",
        "\n",
        "# Select random digits\n",
        "nplt = 4\n",
        "nsamp = len(train_data)\n",
        "Iperm = np.random.permutation(nsamp)\n",
        "\n",
        "# Plot the images using the subplot command\n",
        "fig, ax = plt.subplots(1,nplt, figsize=(5,10))\n",
        "for i in range(nplt):\n",
        "    ind = Iperm[i]\n",
        "\n",
        "    # Get the data from the training data set\n",
        "    x, y = train_data[ind]\n",
        "    x = x.numpy()\n",
        "\n",
        "    # Plot the image\n",
        "    plt_digit(ax[i], x)\n",
        "    ax[i].set_title(y)"
      ]
    },
    {
      "cell_type": "markdown",
      "metadata": {
        "id": "ypAQi3B5Auwh"
      },
      "source": [
        "## Creating a Simple Neural Network."
      ]
    },
    {
      "cell_type": "markdown",
      "metadata": {
        "id": "ByQJ1dadAuwj"
      },
      "source": [
        "Now we create a very simple network.  The features are:\n",
        "*  We have one hidden layer with `nh=100` units.  \n",
        "*  One output layer with `nout=10` units, one for each of the 10 possible classes\n",
        "*  The output activation is `softmax`, which is used for multi-class targets"
      ]
    },
    {
      "cell_type": "code",
      "source": [
        "import torch\n",
        "import torch.nn as nn\n",
        "import torch.nn.functional as F\n",
        "\n",
        "class Net(nn.Module):\n",
        "    def __init__(self, nin, nh, nout):\n",
        "        super(Net, self).__init__()\n",
        "        self.flatten = nn.Flatten()\n",
        "        self.fc1 = nn.Linear(nin, nh)\n",
        "        self.fc2 = nn.Linear(nh, nout)\n",
        "\n",
        "    def forward(self, x):\n",
        "        x = self.flatten(x)\n",
        "        x = self.fc1(x)\n",
        "        x = torch.sigmoid(x)\n",
        "        x = self.fc2(x)\n",
        "        x = F.softmax(x, dim=1)\n",
        "        return x # Apply softmax to the output\n",
        "\n",
        "nin = 28*28\n",
        "nh = 100\n",
        "nout = 10\n",
        "model = Net(nin, nh, nout)\n"
      ],
      "metadata": {
        "id": "iyHnOAaOE4g2"
      },
      "execution_count": 9,
      "outputs": []
    },
    {
      "cell_type": "markdown",
      "metadata": {
        "id": "9-3lEPaoAuwk"
      },
      "source": [
        "We print the model summary."
      ]
    },
    {
      "cell_type": "code",
      "execution_count": 10,
      "metadata": {
        "id": "Py1yhWOpAuwk",
        "outputId": "7bcc52da-19f3-453b-f232-1ee7890acd42",
        "colab": {
          "base_uri": "https://localhost:8080/"
        }
      },
      "outputs": [
        {
          "output_type": "stream",
          "name": "stdout",
          "text": [
            "Net(\n",
            "  (flatten): Flatten(start_dim=1, end_dim=-1)\n",
            "  (fc1): Linear(in_features=784, out_features=100, bias=True)\n",
            "  (fc2): Linear(in_features=100, out_features=10, bias=True)\n",
            ")\n"
          ]
        }
      ],
      "source": [
        "print(model)"
      ]
    },
    {
      "cell_type": "code",
      "source": [
        "# Define the loss function and optimizer\n",
        "criterion = nn.CrossEntropyLoss()\n",
        "optimizer = optim.Adam(model.parameters())\n",
        "\n",
        "# Training settings\n",
        "batch_size = 100\n",
        "epochs = 30\n",
        "\n",
        "# Data loaders\n",
        "train_loader = torch.utils.data.DataLoader(train_data, batch_size=batch_size, shuffle=True)\n",
        "test_loader = torch.utils.data.DataLoader(test_data, batch_size=batch_size, shuffle=False)\n",
        "\n",
        "# Lists to store training and testing accuracy for each epoch\n",
        "train_accuracy_history = []\n",
        "test_accuracy_history = []\n",
        "\n",
        "\n",
        "# Training loop\n",
        "for epoch in range(epochs):\n",
        "    # Training\n",
        "    model.train()\n",
        "    correct = 0\n",
        "    total = 0\n",
        "    for batch_idx, (data, target) in enumerate(train_loader):\n",
        "        optimizer.zero_grad()\n",
        "        output = model(data)\n",
        "        loss = criterion(output, target)\n",
        "        loss.backward()\n",
        "        optimizer.step()\n",
        "\n",
        "        _, predicted = torch.max(output.data, 1)\n",
        "        total += target.size(0)\n",
        "        correct += (predicted == target).sum().item()\n",
        "\n",
        "    train_accuracy = 100 * correct / total\n",
        "    train_accuracy_history.append(train_accuracy)\n",
        "\n",
        "    # Testing\n",
        "    model.eval()\n",
        "    correct = 0\n",
        "    total = 0\n",
        "    with torch.no_grad():\n",
        "        for data, target in test_loader:\n",
        "            output = model(data)\n",
        "            _, predicted = torch.max(output.data, 1)\n",
        "            total += target.size(0)\n",
        "            correct += (predicted == target).sum().item()\n",
        "\n",
        "    test_accuracy = 100 * correct / total\n",
        "    test_accuracy_history.append(test_accuracy)\n",
        "\n",
        "    print(f'Epoch {epoch+1}/{epochs}, Train Accuracy: {train_accuracy:.2f}%, Test Accuracy: {test_accuracy:.2f}%')\n",
        "\n",
        "print(\"Finished Training\")\n",
        "\n",
        "#Plot the accuracy\n",
        "plt.plot(train_accuracy_history, label='Training Accuracy')\n",
        "plt.plot(test_accuracy_history, label = 'Test Accuracy')\n",
        "plt.xlabel('Epoch')\n",
        "plt.ylabel('Accuracy (%)')\n",
        "plt.legend()\n",
        "plt.show()"
      ],
      "metadata": {
        "id": "27Fs33-BGIPf",
        "outputId": "afe8d686-a2da-4cd8-a701-c4bdd576acea",
        "colab": {
          "base_uri": "https://localhost:8080/",
          "height": 987
        }
      },
      "execution_count": 20,
      "outputs": [
        {
          "output_type": "stream",
          "name": "stdout",
          "text": [
            "Epoch 1/30, Train Accuracy: 84.19%, Test Accuracy: 92.45%\n",
            "Epoch 2/30, Train Accuracy: 93.11%, Test Accuracy: 93.88%\n",
            "Epoch 3/30, Train Accuracy: 94.56%, Test Accuracy: 94.89%\n",
            "Epoch 4/30, Train Accuracy: 95.39%, Test Accuracy: 95.34%\n",
            "Epoch 5/30, Train Accuracy: 96.08%, Test Accuracy: 95.56%\n",
            "Epoch 6/30, Train Accuracy: 96.56%, Test Accuracy: 95.83%\n",
            "Epoch 7/30, Train Accuracy: 96.98%, Test Accuracy: 95.93%\n",
            "Epoch 8/30, Train Accuracy: 97.31%, Test Accuracy: 96.47%\n",
            "Epoch 9/30, Train Accuracy: 97.61%, Test Accuracy: 96.54%\n",
            "Epoch 10/30, Train Accuracy: 97.85%, Test Accuracy: 96.68%\n",
            "Epoch 11/30, Train Accuracy: 98.11%, Test Accuracy: 96.72%\n",
            "Epoch 12/30, Train Accuracy: 98.28%, Test Accuracy: 96.68%\n",
            "Epoch 13/30, Train Accuracy: 98.36%, Test Accuracy: 96.89%\n",
            "Epoch 14/30, Train Accuracy: 98.48%, Test Accuracy: 96.96%\n",
            "Epoch 15/30, Train Accuracy: 98.58%, Test Accuracy: 96.95%\n",
            "Epoch 16/30, Train Accuracy: 98.67%, Test Accuracy: 96.87%\n",
            "Epoch 17/30, Train Accuracy: 98.74%, Test Accuracy: 97.06%\n",
            "Epoch 18/30, Train Accuracy: 98.80%, Test Accuracy: 97.10%\n",
            "Epoch 19/30, Train Accuracy: 98.86%, Test Accuracy: 97.12%\n",
            "Epoch 20/30, Train Accuracy: 98.93%, Test Accuracy: 97.13%\n",
            "Epoch 21/30, Train Accuracy: 98.95%, Test Accuracy: 97.08%\n",
            "Epoch 22/30, Train Accuracy: 99.01%, Test Accuracy: 97.10%\n",
            "Epoch 23/30, Train Accuracy: 99.04%, Test Accuracy: 97.17%\n",
            "Epoch 24/30, Train Accuracy: 99.08%, Test Accuracy: 97.15%\n",
            "Epoch 25/30, Train Accuracy: 99.09%, Test Accuracy: 97.03%\n",
            "Epoch 26/30, Train Accuracy: 99.12%, Test Accuracy: 97.08%\n",
            "Epoch 27/30, Train Accuracy: 99.16%, Test Accuracy: 96.84%\n",
            "Epoch 28/30, Train Accuracy: 99.17%, Test Accuracy: 97.22%\n",
            "Epoch 29/30, Train Accuracy: 99.21%, Test Accuracy: 97.18%\n",
            "Epoch 30/30, Train Accuracy: 99.23%, Test Accuracy: 97.25%\n",
            "Finished Training\n"
          ]
        },
        {
          "output_type": "display_data",
          "data": {
            "text/plain": [
              "<Figure size 640x480 with 1 Axes>"
            ],
            "image/png": "[encoded data removed]"
          },
          "metadata": {}
        }
      ]
    },
    {
      "cell_type": "markdown",
      "metadata": {
        "id": "0Ysk5AieAuwn"
      },
      "source": [
        "## Saving and Loading the model\n",
        "\n",
        "Since the training takes a long time, it is useful to save the results.  \n"
      ]
    },
    {
      "cell_type": "code",
      "source": [
        "# prompt: Write code to save the trained model to a file\n",
        "\n",
        "torch.save(model, 'mnist_model.pth')\n"
      ],
      "metadata": {
        "id": "vqAEiJgJcMRr"
      },
      "execution_count": 22,
      "outputs": []
    },
    {
      "cell_type": "code",
      "source": [
        "\n",
        "model1 = torch.load('mnist_model.pth')\n",
        "print(model1)\n"
      ],
      "metadata": {
        "colab": {
          "base_uri": "https://localhost:8080/",
          "height": 159
        },
        "id": "8EfUybzQcacu",
        "outputId": "02f46c15-2aee-413e-f9a8-eed3e9f6c4ba"
      },
      "execution_count": 1,
      "outputs": [
        {
          "output_type": "error",
          "ename": "NameError",
          "evalue": "name 'torch' is not defined",
          "traceback": [
            "\u001b[0;31m---------------------------------------------------------------------------\u001b[0m",
            "\u001b[0;31mNameError\u001b[0m                                 Traceback (most recent call last)",
            "\u001b[0;32m<ipython-input-1-964c1f63b8d5>\u001b[0m in \u001b[0;36m<cell line: 1>\u001b[0;34m()\u001b[0m\n\u001b[0;32m----> 1\u001b[0;31m \u001b[0mmodel1\u001b[0m \u001b[0;34m=\u001b[0m \u001b[0mtorch\u001b[0m\u001b[0;34m.\u001b[0m\u001b[0mload\u001b[0m\u001b[0;34m(\u001b[0m\u001b[0;34m'mnist_model.pth'\u001b[0m\u001b[0;34m)\u001b[0m\u001b[0;34m\u001b[0m\u001b[0;34m\u001b[0m\u001b[0m\n\u001b[0m\u001b[1;32m      2\u001b[0m \u001b[0mprint\u001b[0m\u001b[0;34m(\u001b[0m\u001b[0mmodel1\u001b[0m\u001b[0;34m)\u001b[0m\u001b[0;34m\u001b[0m\u001b[0;34m\u001b[0m\u001b[0m\n",
            "\u001b[0;31mNameError\u001b[0m: name 'torch' is not defined"
          ]
        }
      ]
    }
  ],
  "metadata": {
    "anaconda-cloud": {},
    "kernelspec": {
      "display_name": "Python 3",
      "name": "python3"
    },
    "language_info": {
      "codemirror_mode": {
        "name": "ipython",
        "version": 3
      },
      "file_extension": ".py",
      "mimetype": "text/x-python",
      "name": "python",
      "nbconvert_exporter": "python",
      "pygments_lexer": "ipython3",
      "version": "3.8.3"
    },
    "colab": {
      "provenance": [],
      "gpuType": "T4",
      "include_colab_link": true
    },
    "accelerator": "GPU"
  },
  "nbformat": 4,
  "nbformat_minor": 0
}