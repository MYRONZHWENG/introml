{
 "cells": [
  {
   "cell_type": "code",
   "execution_count": 1,
   "id": "b42e386e",
   "metadata": {},
   "outputs": [],
   "source": [
    "import numpy as np"
   ]
  },
  {
   "cell_type": "markdown",
   "id": "b8906647",
   "metadata": {},
   "source": [
    "## 6a"
   ]
  },
  {
   "cell_type": "code",
   "execution_count": 2,
   "id": "9f999be3",
   "metadata": {},
   "outputs": [
    {
     "name": "stdout",
     "output_type": "stream",
     "text": [
      "[[21. -5. -3. 13.]\n",
      " [10.  6.  0. -5.]\n",
      " [21. -1. 19. -3.]\n",
      " [-1.  5. 21.  9.]]\n"
     ]
    }
   ],
   "source": [
    "X = np.zeros(16)\n",
    "for i in range(16):\n",
    "    X[i] = np.random.randint(-5,25)\n",
    "X = X.reshape(4,4)\n",
    "print(X)"
   ]
  },
  {
   "cell_type": "code",
   "execution_count": 3,
   "id": "e831385a",
   "metadata": {},
   "outputs": [],
   "source": [
    "beta = np.array([1, 2, 3])"
   ]
  },
  {
   "cell_type": "markdown",
   "id": "e57083fc",
   "metadata": {},
   "source": [
    "Given a data matrix X and vector beta compute a vector yhat:"
   ]
  },
  {
   "cell_type": "code",
   "execution_count": 4,
   "id": "0cc36465",
   "metadata": {},
   "outputs": [],
   "source": [
    "n = X.shape[0]\n",
    "yhat = np.zeros(n)\n",
    "for i in range(n):\n",
    "    yhat[i] = beta[0]*X[i ,0] + beta[1]*X[i ,1] + beta[2]*X[i,1]*X[i ,2]"
   ]
  },
  {
   "cell_type": "code",
   "execution_count": 5,
   "id": "cff15d36",
   "metadata": {},
   "outputs": [
    {
     "name": "stdout",
     "output_type": "stream",
     "text": [
      "[ 56.  22. -38. 324.]\n"
     ]
    }
   ],
   "source": [
    "print(yhat)"
   ]
  },
  {
   "cell_type": "markdown",
   "id": "d4125a97",
   "metadata": {},
   "source": [
    "### 6a solution:"
   ]
  },
  {
   "cell_type": "code",
   "execution_count": 6,
   "id": "19a1c743",
   "metadata": {},
   "outputs": [
    {
     "name": "stdout",
     "output_type": "stream",
     "text": [
      "[ 56.  22. -38. 324.]\n"
     ]
    }
   ],
   "source": [
    "Y_hat = beta[0]*X[:,0] + beta[1]*X[:,1] + beta[2]*X[:,1]*X[:,2]\n",
    "print(Y_hat)"
   ]
  },
  {
   "cell_type": "markdown",
   "id": "ac99cf75",
   "metadata": {},
   "source": [
    "## 6b"
   ]
  },
  {
   "cell_type": "markdown",
   "id": "55cbfc4e",
   "metadata": {},
   "source": [
    "Given vectors x, alpha, and beta computes a vector yhat:"
   ]
  },
  {
   "cell_type": "code",
   "execution_count": 68,
   "id": "aa60bbd4",
   "metadata": {},
   "outputs": [],
   "source": [
    "x = np.random.rand(5)\n",
    "alpha = np.random.rand(12)\n",
    "beta = np.random.rand(15)"
   ]
  },
  {
   "cell_type": "code",
   "execution_count": 69,
   "id": "ae8a0ae6",
   "metadata": {},
   "outputs": [
    {
     "name": "stdout",
     "output_type": "stream",
     "text": [
      "x: \n",
      "\n",
      "[0.51065132 0.25711142 0.55927761 0.1756901  0.89582091]\n",
      "\n",
      "alpha: \n",
      "\n",
      "[0.6584613  0.11364529 0.83337562 0.91934919 0.32786096 0.14861485\n",
      " 0.40203831 0.31386583 0.41768581 0.17100189 0.65595622 0.05784323]\n",
      "\n",
      "beta: \n",
      "\n",
      "[0.54040347 0.63875099 0.65387188 0.5182971  0.37404857 0.5037947\n",
      " 0.75427893 0.11554373 0.50673575 0.3176577  0.9052506  0.50824383\n",
      " 0.6888244  0.55255891 0.58643902]\n"
     ]
    }
   ],
   "source": [
    "print('x: ', x, 'alpha: ', alpha, 'beta: ', beta, sep='\\n\\n')"
   ]
  },
  {
   "cell_type": "code",
   "execution_count": 70,
   "id": "638b762a",
   "metadata": {},
   "outputs": [],
   "source": [
    "n = len(x)\n",
    "m = len(alpha)\n",
    "yhat = np.zeros(n)\n",
    "for i in range(n):\n",
    "    for j in range(m):\n",
    "        yhat[i] += alpha[j] * np.exp(-beta[j] * x[i]) # beta should have at least as many elements as alpha"
   ]
  },
  {
   "cell_type": "code",
   "execution_count": 71,
   "id": "48f683e6",
   "metadata": {},
   "outputs": [
    {
     "name": "stdout",
     "output_type": "stream",
     "text": [
      "[3.76483917 4.33749917 3.66500544 4.54163193 3.05057423]\n"
     ]
    }
   ],
   "source": [
    "print(yhat)"
   ]
  },
  {
   "cell_type": "markdown",
   "id": "706d58d8",
   "metadata": {},
   "source": [
    "### 6b solution:"
   ]
  },
  {
   "cell_type": "code",
   "execution_count": 72,
   "id": "37e896fe",
   "metadata": {},
   "outputs": [
    {
     "name": "stdout",
     "output_type": "stream",
     "text": [
      "[3.76483917 4.33749917 3.66500544 4.54163193 3.05057423]\n"
     ]
    }
   ],
   "source": [
    "Y_hat = np.sum(alpha[:, None] * np.exp(-1 * beta[:len(alpha), None] * x), axis=0)\n",
    "print(Y_hat)"
   ]
  },
  {
   "cell_type": "markdown",
   "id": "4106c2e2",
   "metadata": {},
   "source": [
    "## 6c"
   ]
  },
  {
   "cell_type": "markdown",
   "id": "f29dc0d8",
   "metadata": {},
   "source": [
    "Given arrays x and y, find the squared distances dist:"
   ]
  },
  {
   "cell_type": "code",
   "execution_count": 154,
   "id": "d73c6fa5",
   "metadata": {},
   "outputs": [
    {
     "name": "stdout",
     "output_type": "stream",
     "text": [
      "[[ 12   2]\n",
      " [ -6   1]\n",
      " [  2 -12]\n",
      " [  5  -6]]\n",
      "\n",
      "[[  0 -15]\n",
      " [ 10 -17]\n",
      " [ 15  18]\n",
      " [ 19  -2]\n",
      " [ 11   7]\n",
      " [ 11 -19]\n",
      " [-11  18]]\n"
     ]
    }
   ],
   "source": [
    "row_x = np.random.randint(2, 10)   \n",
    "col = np.random.randint(2, 10) \n",
    "row_y = np.random.randint(2, 10)   \n",
    "\n",
    "x = np.random.randint(-20, 21, size=(row_x, col))\n",
    "y = np.random.randint(-20, 21, size=(row_y, col))\n",
    "\n",
    "print(x,y,sep='\\n\\n')"
   ]
  },
  {
   "cell_type": "code",
   "execution_count": 155,
   "id": "ffc8c7ab",
   "metadata": {},
   "outputs": [],
   "source": [
    "n,d = x.shape\n",
    "m,d = y.shape\n",
    "dist = np.zeros((n,m))\n",
    "for i in range(n):\n",
    "    for j in range(m):\n",
    "        for k in range(d):\n",
    "            dist[i,j] += (x[i,k] - y[j,k])**2 # x and y need to have the same number of columns"
   ]
  },
  {
   "cell_type": "code",
   "execution_count": 156,
   "id": "5c6f9366",
   "metadata": {},
   "outputs": [
    {
     "name": "stdout",
     "output_type": "stream",
     "text": [
      "[[ 433.  365.  265.   65.   26.  442.  785.]\n",
      " [ 292.  580.  730.  634.  325.  689.  314.]\n",
      " [  13.   89. 1069.  389.  442.  130. 1069.]\n",
      " [ 106.  146.  676.  212.  205.  205.  832.]]\n"
     ]
    }
   ],
   "source": [
    "print(dist)"
   ]
  },
  {
   "cell_type": "markdown",
   "id": "45f9ab92",
   "metadata": {},
   "source": [
    "### 6c solution:"
   ]
  },
  {
   "cell_type": "code",
   "execution_count": 157,
   "id": "d593c09f",
   "metadata": {},
   "outputs": [
    {
     "name": "stdout",
     "output_type": "stream",
     "text": [
      "[[ 433  365  265   65   26  442  785]\n",
      " [ 292  580  730  634  325  689  314]\n",
      " [  13   89 1069  389  442  130 1069]\n",
      " [ 106  146  676  212  205  205  832]]\n"
     ]
    }
   ],
   "source": [
    "Dist = ((x[:, None, :] - y[None, :, :])**2).sum(axis=2)\n",
    "print(Dist)"
   ]
  }
 ],
 "metadata": {
  "kernelspec": {
   "display_name": "base",
   "language": "python",
   "name": "python3"
  },
  "language_info": {
   "codemirror_mode": {
    "name": "ipython",
    "version": 3
   },
   "file_extension": ".py",
   "mimetype": "text/x-python",
   "name": "python",
   "nbconvert_exporter": "python",
   "pygments_lexer": "ipython3",
   "version": "3.11.11"
  }
 },
 "nbformat": 4,
 "nbformat_minor": 5
}
