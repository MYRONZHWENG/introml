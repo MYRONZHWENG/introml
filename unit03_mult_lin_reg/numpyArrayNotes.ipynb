{
 "cells": [
  {
   "cell_type": "code",
   "execution_count": 3,
   "id": "92add18d",
   "metadata": {},
   "outputs": [],
   "source": [
    "import numpy as np"
   ]
  },
  {
   "cell_type": "markdown",
   "id": "3cafec4d",
   "metadata": {},
   "source": [
    "# 1-D array"
   ]
  },
  {
   "cell_type": "markdown",
   "id": "7de8fe84",
   "metadata": {},
   "source": [
    "Use `np.arange()` by itself to create a 1-D array: "
   ]
  },
  {
   "cell_type": "code",
   "execution_count": 4,
   "id": "fec0e220",
   "metadata": {},
   "outputs": [
    {
     "name": "stdout",
     "output_type": "stream",
     "text": [
      "[0 1 2 3 4 5 6 7 8 9]\n",
      "\n",
      "[ 3  4  5  6  7  8  9 10]\n",
      "\n",
      "[ 4.  5.  6.  7.  8.  9. 10. 11.]\n",
      "\n",
      "[2.   2.25 2.5  2.75]\n"
     ]
    }
   ],
   "source": [
    "a = np.arange(10)\n",
    "b = np.arange(3,11)\n",
    "c = np.arange(4,12,dtype=float)\n",
    "d = np.arange(2,3,0.25)\n",
    "\n",
    "print(a, b , c, d, sep='\\n\\n')"
   ]
  },
  {
   "cell_type": "markdown",
   "id": "16bb1919",
   "metadata": {},
   "source": [
    "use `shape` attribute of an array to find its dimensions"
   ]
  },
  {
   "cell_type": "code",
   "execution_count": 20,
   "id": "0f41a092",
   "metadata": {},
   "outputs": [
    {
     "name": "stdout",
     "output_type": "stream",
     "text": [
      "(10,)\n"
     ]
    }
   ],
   "source": [
    "print(a.shape)"
   ]
  },
  {
   "cell_type": "markdown",
   "id": "1f438d2a",
   "metadata": {},
   "source": [
    "**(,n) is not a valid shape**"
   ]
  },
  {
   "cell_type": "markdown",
   "id": "2fe78438",
   "metadata": {},
   "source": [
    "# 2-D array"
   ]
  },
  {
   "cell_type": "markdown",
   "id": "9ea1ab61",
   "metadata": {},
   "source": [
    "Use `np.reshape()` on a 1d array to create a 2d array:"
   ]
  },
  {
   "cell_type": "code",
   "execution_count": 27,
   "id": "849787cb",
   "metadata": {},
   "outputs": [
    {
     "name": "stdout",
     "output_type": "stream",
     "text": [
      "[[0 1 2 3 4 5 6 7 8 9]]\n",
      "\n",
      "[[0]\n",
      " [1]\n",
      " [2]\n",
      " [3]\n",
      " [4]\n",
      " [5]\n",
      " [6]\n",
      " [7]\n",
      " [8]\n",
      " [9]]\n"
     ]
    }
   ],
   "source": [
    "a2row = a.reshape(1,10)\n",
    "a2col = a.reshape(10,1)\n",
    "\n",
    "print(a2row, a2col, sep='\\n\\n')"
   ]
  },
  {
   "cell_type": "markdown",
   "id": "ac143123",
   "metadata": {},
   "source": [
    "In the above code, we created a 10x1 (10 rows and 1 column) matrix a2col and a 1x10 matrix a2row"
   ]
  },
  {
   "cell_type": "markdown",
   "id": "abf90622",
   "metadata": {},
   "source": [
    "We can always reshape an array as many times as we want."
   ]
  },
  {
   "cell_type": "code",
   "execution_count": 7,
   "id": "f383f5eb",
   "metadata": {},
   "outputs": [
    {
     "name": "stdout",
     "output_type": "stream",
     "text": [
      "[[0 1 2 3 4]\n",
      " [5 6 7 8 9]]\n"
     ]
    }
   ],
   "source": [
    "print(a2row.reshape(2,5))"
   ]
  },
  {
   "cell_type": "code",
   "execution_count": 9,
   "id": "9978f102",
   "metadata": {},
   "outputs": [
    {
     "name": "stdout",
     "output_type": "stream",
     "text": [
      "[[0 1]\n",
      " [2 3]\n",
      " [4 5]\n",
      " [6 7]\n",
      " [8 9]]\n"
     ]
    }
   ],
   "source": [
    "print(a2row.reshape(2,5).reshape(5,2))"
   ]
  },
  {
   "cell_type": "markdown",
   "id": "1f9f6392",
   "metadata": {},
   "source": [
    "# Axis DNE error:"
   ]
  },
  {
   "cell_type": "code",
   "execution_count": 8,
   "id": "d1caef54",
   "metadata": {},
   "outputs": [
    {
     "name": "stdout",
     "output_type": "stream",
     "text": [
      "(10,)\n"
     ]
    },
    {
     "ename": "AxisError",
     "evalue": "axis 1 is out of bounds for array of dimension 1",
     "output_type": "error",
     "traceback": [
      "\u001b[0;31m---------------------------------------------------------------------------\u001b[0m",
      "\u001b[0;31mAxisError\u001b[0m                                 Traceback (most recent call last)",
      "Cell \u001b[0;32mIn[8], line 2\u001b[0m\n\u001b[1;32m      1\u001b[0m \u001b[38;5;28mprint\u001b[39m(a\u001b[38;5;241m.\u001b[39mshape)\n\u001b[0;32m----> 2\u001b[0m \u001b[38;5;28mprint\u001b[39m(np\u001b[38;5;241m.\u001b[39msum(a, axis\u001b[38;5;241m=\u001b[39m\u001b[38;5;241m1\u001b[39m))\n",
      "File \u001b[0;32m~/anaconda3/lib/python3.11/site-packages/numpy/_core/fromnumeric.py:2466\u001b[0m, in \u001b[0;36msum\u001b[0;34m(a, axis, dtype, out, keepdims, initial, where)\u001b[0m\n\u001b[1;32m   2463\u001b[0m         \u001b[38;5;28;01mreturn\u001b[39;00m out\n\u001b[1;32m   2464\u001b[0m     \u001b[38;5;28;01mreturn\u001b[39;00m res\n\u001b[0;32m-> 2466\u001b[0m \u001b[38;5;28;01mreturn\u001b[39;00m _wrapreduction(\n\u001b[1;32m   2467\u001b[0m     a, np\u001b[38;5;241m.\u001b[39madd, \u001b[38;5;124m'\u001b[39m\u001b[38;5;124msum\u001b[39m\u001b[38;5;124m'\u001b[39m, axis, dtype, out,\n\u001b[1;32m   2468\u001b[0m     keepdims\u001b[38;5;241m=\u001b[39mkeepdims, initial\u001b[38;5;241m=\u001b[39minitial, where\u001b[38;5;241m=\u001b[39mwhere\n\u001b[1;32m   2469\u001b[0m )\n",
      "File \u001b[0;32m~/anaconda3/lib/python3.11/site-packages/numpy/_core/fromnumeric.py:86\u001b[0m, in \u001b[0;36m_wrapreduction\u001b[0;34m(obj, ufunc, method, axis, dtype, out, **kwargs)\u001b[0m\n\u001b[1;32m     83\u001b[0m         \u001b[38;5;28;01melse\u001b[39;00m:\n\u001b[1;32m     84\u001b[0m             \u001b[38;5;28;01mreturn\u001b[39;00m reduction(axis\u001b[38;5;241m=\u001b[39maxis, out\u001b[38;5;241m=\u001b[39mout, \u001b[38;5;241m*\u001b[39m\u001b[38;5;241m*\u001b[39mpasskwargs)\n\u001b[0;32m---> 86\u001b[0m \u001b[38;5;28;01mreturn\u001b[39;00m ufunc\u001b[38;5;241m.\u001b[39mreduce(obj, axis, dtype, out, \u001b[38;5;241m*\u001b[39m\u001b[38;5;241m*\u001b[39mpasskwargs)\n",
      "\u001b[0;31mAxisError\u001b[0m: axis 1 is out of bounds for array of dimension 1"
     ]
    }
   ],
   "source": [
    "print(a.shape)\n",
    "print(np.sum(a, axis=1))\n"
   ]
  },
  {
   "cell_type": "markdown",
   "id": "2c2f9cae",
   "metadata": {},
   "source": [
    "array a is 1-D, it only has one axis, axis 0."
   ]
  },
  {
   "cell_type": "markdown",
   "id": "55576760",
   "metadata": {},
   "source": [
    "# Matrix multiplication vs. element-by-element multiplication:"
   ]
  },
  {
   "cell_type": "markdown",
   "id": "8dbdad01",
   "metadata": {},
   "source": [
    "## matrix multiplication:"
   ]
  },
  {
   "cell_type": "code",
   "execution_count": 21,
   "id": "e2678dcb",
   "metadata": {},
   "outputs": [
    {
     "name": "stdout",
     "output_type": "stream",
     "text": [
      "[[ 3  4  5  6]\n",
      " [ 7  8  9 10]]\n",
      "\n",
      "[[1 3]\n",
      " [5 7]]\n"
     ]
    }
   ],
   "source": [
    "A = np.arange(3, 11).reshape(2,4)\n",
    "B = np.arange(1,8,2).reshape(2,2)\n",
    "\n",
    "print(A, B, sep='\\n\\n')"
   ]
  },
  {
   "cell_type": "markdown",
   "id": "a2d1e8cb",
   "metadata": {},
   "source": [
    "Use `@`:"
   ]
  },
  {
   "cell_type": "code",
   "execution_count": 22,
   "id": "3634bdeb",
   "metadata": {},
   "outputs": [
    {
     "name": "stdout",
     "output_type": "stream",
     "text": [
      "[[ 24  28  32  36]\n",
      " [ 64  76  88 100]]\n"
     ]
    }
   ],
   "source": [
    "print(B@A)"
   ]
  },
  {
   "cell_type": "markdown",
   "id": "735055c0",
   "metadata": {},
   "source": [
    "## element-by-element multiplication:"
   ]
  },
  {
   "cell_type": "markdown",
   "id": "6aec8a57",
   "metadata": {},
   "source": [
    "the two arrays to be multiplied must have the same shape"
   ]
  },
  {
   "cell_type": "markdown",
   "id": "72ea1f38",
   "metadata": {},
   "source": [
    "Use `*`:"
   ]
  },
  {
   "cell_type": "code",
   "execution_count": 23,
   "id": "78f9ff33",
   "metadata": {},
   "outputs": [
    {
     "name": "stdout",
     "output_type": "stream",
     "text": [
      "[[ 1  9]\n",
      " [25 49]]\n",
      "[[  9  16  25  36]\n",
      " [ 49  64  81 100]]\n"
     ]
    }
   ],
   "source": [
    "print(B*B)\n",
    "print(A*A)"
   ]
  },
  {
   "cell_type": "markdown",
   "id": "fba47d2c",
   "metadata": {},
   "source": [
    "# Custom array:"
   ]
  },
  {
   "cell_type": "markdown",
   "id": "575c7f24",
   "metadata": {},
   "source": [
    "Use `np.array()`:"
   ]
  },
  {
   "cell_type": "code",
   "execution_count": 24,
   "id": "4eff8a12",
   "metadata": {},
   "outputs": [
    {
     "name": "stdout",
     "output_type": "stream",
     "text": [
      "[1 2 3]\n",
      "\n",
      "[[1 6 7]\n",
      " [2 6 0]\n",
      " [1 4 5]]\n"
     ]
    }
   ],
   "source": [
    "my1D = np.array([1, 2, 3])\n",
    "my2D = np.array([[1, 6, 7], [2, 6, 0], [1, 4, 5]]) # 3 x 3 array. Separate elements and rows with ,\n",
    "\n",
    "print(my1D, my2D, sep='\\n\\n')"
   ]
  },
  {
   "cell_type": "markdown",
   "id": "e4ec7b5e",
   "metadata": {},
   "source": [
    "## Broadcasting example:"
   ]
  },
  {
   "cell_type": "markdown",
   "id": "4e12c4a6",
   "metadata": {},
   "source": [
    "`my1D` is stretched to a 3 x 3 array: and multiplied element wise with `my2D`:"
   ]
  },
  {
   "cell_type": "code",
   "execution_count": 25,
   "id": "15fa6240",
   "metadata": {},
   "outputs": [
    {
     "name": "stdout",
     "output_type": "stream",
     "text": [
      "[[ 1 12 21]\n",
      " [ 2 12  0]\n",
      " [ 1  8 15]]\n"
     ]
    }
   ],
   "source": [
    "print(my1D*my2D)"
   ]
  },
  {
   "cell_type": "markdown",
   "id": "2a94d73a",
   "metadata": {},
   "source": [
    "# Shape of constants (i.e. scalars)"
   ]
  },
  {
   "cell_type": "code",
   "execution_count": 31,
   "id": "527ec8fe",
   "metadata": {},
   "outputs": [
    {
     "name": "stdout",
     "output_type": "stream",
     "text": [
      "2\n",
      "()\n"
     ]
    }
   ],
   "source": [
    "num = np.array(2)\n",
    "print(num)\n",
    "print(num.shape)"
   ]
  },
  {
   "cell_type": "markdown",
   "id": "f4c12886",
   "metadata": {},
   "source": [
    "constants (not even contained in an array) have no shape"
   ]
  },
  {
   "cell_type": "markdown",
   "id": "d01e6ca6",
   "metadata": {},
   "source": [
    "# Accessing elements in 1-D array:"
   ]
  },
  {
   "cell_type": "code",
   "execution_count": 32,
   "id": "d5a0e3ef",
   "metadata": {},
   "outputs": [],
   "source": [
    "arr = np.array([10, 20, 30, 40, 50])"
   ]
  },
  {
   "cell_type": "markdown",
   "id": "d0b925fc",
   "metadata": {},
   "source": [
    "Use the slice syntax `[:]`"
   ]
  },
  {
   "cell_type": "markdown",
   "id": "51f7528e",
   "metadata": {},
   "source": [
    "`arr[:]` returns the entire array"
   ]
  },
  {
   "cell_type": "code",
   "execution_count": 33,
   "id": "b8c84753",
   "metadata": {},
   "outputs": [
    {
     "name": "stdout",
     "output_type": "stream",
     "text": [
      "[10 20 30 40 50]\n"
     ]
    }
   ],
   "source": [
    "print(arr[:])"
   ]
  },
  {
   "cell_type": "markdown",
   "id": "439aa09d",
   "metadata": {},
   "source": [
    "`arr[a:b]` returns every element from index `a` up to (but not including) index `b`:"
   ]
  },
  {
   "cell_type": "code",
   "execution_count": 34,
   "id": "0546737a",
   "metadata": {},
   "outputs": [
    {
     "name": "stdout",
     "output_type": "stream",
     "text": [
      "[20 30 40]\n"
     ]
    }
   ],
   "source": [
    "print(arr[1:4])"
   ]
  },
  {
   "cell_type": "markdown",
   "id": "13e604b6",
   "metadata": {},
   "source": [
    "`arr[:b]` accesses from start up to index b: "
   ]
  },
  {
   "cell_type": "code",
   "execution_count": 35,
   "id": "ffa0f5f9",
   "metadata": {},
   "outputs": [
    {
     "name": "stdout",
     "output_type": "stream",
     "text": [
      "[10 20 30 40]\n"
     ]
    }
   ],
   "source": [
    "print(arr[:4])"
   ]
  },
  {
   "cell_type": "markdown",
   "id": "77f10168",
   "metadata": {},
   "source": [
    "`arr[2:]` accesses from index `2` to the end:"
   ]
  },
  {
   "cell_type": "code",
   "execution_count": null,
   "id": "a0e0683f",
   "metadata": {},
   "outputs": [
    {
     "name": "stdout",
     "output_type": "stream",
     "text": [
      "[30 40 50]\n"
     ]
    }
   ],
   "source": [
    "print(arr[2:])"
   ]
  },
  {
   "cell_type": "code",
   "execution_count": 45,
   "id": "9fbfe14c",
   "metadata": {},
   "outputs": [
    {
     "name": "stdout",
     "output_type": "stream",
     "text": [
      "[ 2  5  8 11 14 17 20 23 26 29 32 35 38 41 44 47 50 53 56 59 62 65 68 71\n",
      " 74 77]\n",
      "(26,)\n"
     ]
    }
   ],
   "source": [
    "arr2 = np.arange(2,80,3)\n",
    "print(arr2)\n",
    "print(arr2.shape)"
   ]
  },
  {
   "cell_type": "markdown",
   "id": "0ab617b7",
   "metadata": {},
   "source": [
    "`arr[::b]`, where `b` is a positive integer, accesses every `b`th element in the array:"
   ]
  },
  {
   "cell_type": "code",
   "execution_count": 55,
   "id": "b163b6fc",
   "metadata": {},
   "outputs": [
    {
     "name": "stdout",
     "output_type": "stream",
     "text": [
      "[ 2 41]\n"
     ]
    }
   ],
   "source": [
    "print(arr2[::13])"
   ]
  },
  {
   "cell_type": "markdown",
   "id": "94743eaa",
   "metadata": {},
   "source": [
    "`arr[::-1]` reverses the list:"
   ]
  },
  {
   "cell_type": "code",
   "execution_count": 56,
   "id": "e87e52e6",
   "metadata": {},
   "outputs": [
    {
     "name": "stdout",
     "output_type": "stream",
     "text": [
      "[77 74 71 68 65 62 59 56 53 50 47 44 41 38 35 32 29 26 23 20 17 14 11  8\n",
      "  5  2]\n"
     ]
    }
   ],
   "source": [
    "print(arr2[::-1])"
   ]
  },
  {
   "cell_type": "markdown",
   "id": "1ffb8993",
   "metadata": {},
   "source": [
    "Examples shown above about splicing can be combined:"
   ]
  },
  {
   "cell_type": "markdown",
   "id": "2e5ff241",
   "metadata": {},
   "source": [
    "Example1: Reverse and select every 3rd element from the array:"
   ]
  },
  {
   "cell_type": "code",
   "execution_count": 57,
   "id": "4cce5bc9",
   "metadata": {},
   "outputs": [
    {
     "name": "stdout",
     "output_type": "stream",
     "text": [
      "[77 68 59 50 41 32 23 14  5]\n"
     ]
    }
   ],
   "source": [
    "print(arr2[::-3])"
   ]
  },
  {
   "cell_type": "markdown",
   "id": "2b27870d",
   "metadata": {},
   "source": [
    "Example2: starting from the element at index 20, select every 5th element backwards up to the one at index 5."
   ]
  },
  {
   "cell_type": "markdown",
   "id": "0e291a39",
   "metadata": {},
   "source": [
    "`arr2[20]`, `arr2[15]`, and `arr2[10]` were selected"
   ]
  },
  {
   "cell_type": "code",
   "execution_count": 62,
   "id": "a9fabd21",
   "metadata": {},
   "outputs": [
    {
     "name": "stdout",
     "output_type": "stream",
     "text": [
      "[62 47 32]\n"
     ]
    }
   ],
   "source": [
    "print(arr2[20:5:-5])"
   ]
  },
  {
   "cell_type": "markdown",
   "id": "d4d9b5b9",
   "metadata": {},
   "source": [
    "**General splicing format is `array[start: stop: step]`**"
   ]
  },
  {
   "cell_type": "markdown",
   "id": "19df8229",
   "metadata": {},
   "source": [
    "With a positive step, start < stop is required to get values.\n",
    "\n",
    "With a negative step, start > stop is required to get values.\n",
    "\n",
    "Otherwise → empty result."
   ]
  },
  {
   "cell_type": "code",
   "execution_count": 64,
   "id": "397f13c1",
   "metadata": {},
   "outputs": [
    {
     "name": "stdout",
     "output_type": "stream",
     "text": [
      "[]\n"
     ]
    }
   ],
   "source": [
    "print(arr2[5:20:-2])"
   ]
  },
  {
   "cell_type": "markdown",
   "id": "1e15f2c2",
   "metadata": {},
   "source": [
    "# Accessing elements in multidimensional array:"
   ]
  },
  {
   "cell_type": "code",
   "execution_count": 70,
   "id": "6e6c8c78",
   "metadata": {},
   "outputs": [
    {
     "name": "stdout",
     "output_type": "stream",
     "text": [
      "[[ 1  2  3  4]\n",
      " [ 5  6  7  8]\n",
      " [ 9 10 11 12]\n",
      " [13 14 15 16]\n",
      " [17 18 19 20]\n",
      " [21 22 23 24]]\n"
     ]
    }
   ],
   "source": [
    "arr = np.arange(1,25).reshape(6,4)\n",
    "arr = np.array(arr)\n",
    "print(arr)"
   ]
  },
  {
   "cell_type": "markdown",
   "id": "50a86018",
   "metadata": {},
   "source": [
    "For the most basic case (2-D array), each element of `arr` is one single row"
   ]
  },
  {
   "cell_type": "code",
   "execution_count": 75,
   "id": "d3eb3f91",
   "metadata": {},
   "outputs": [
    {
     "name": "stdout",
     "output_type": "stream",
     "text": [
      "[[ 9 10 11 12]\n",
      " [13 14 15 16]\n",
      " [17 18 19 20]\n",
      " [21 22 23 24]]\n"
     ]
    }
   ],
   "source": [
    "print(arr[2:]) # Get all elements starting at index 2"
   ]
  },
  {
   "cell_type": "markdown",
   "id": "2a7dc24c",
   "metadata": {},
   "source": [
    "We use mult-axis slicing with commas as follows:"
   ]
  },
  {
   "cell_type": "markdown",
   "id": "fa7bbd52",
   "metadata": {},
   "source": [
    "`arr[:,a]` accesses all rows (`:`), column at index `a`:"
   ]
  },
  {
   "cell_type": "code",
   "execution_count": 72,
   "id": "78ca5f11",
   "metadata": {},
   "outputs": [
    {
     "name": "stdout",
     "output_type": "stream",
     "text": [
      "[ 3  7 11 15 19 23]\n"
     ]
    }
   ],
   "source": [
    "print(arr[:,2])"
   ]
  },
  {
   "cell_type": "markdown",
   "id": "aae2109b",
   "metadata": {},
   "source": [
    "`arr[a,:]` accesses row `a`, all columns (`:`)"
   ]
  },
  {
   "cell_type": "code",
   "execution_count": null,
   "id": "21df4e44",
   "metadata": {},
   "outputs": [
    {
     "name": "stdout",
     "output_type": "stream",
     "text": [
      "[13 14 15 16]\n"
     ]
    }
   ],
   "source": [
    "print(arr[3,:])"
   ]
  },
  {
   "cell_type": "markdown",
   "id": "8ff5fc46",
   "metadata": {},
   "source": [
    "`arr[:,:]` accesses all rows (`:`), all columns (`:`)"
   ]
  },
  {
   "cell_type": "code",
   "execution_count": 74,
   "id": "b31c160a",
   "metadata": {},
   "outputs": [
    {
     "name": "stdout",
     "output_type": "stream",
     "text": [
      "[[ 1  2  3  4]\n",
      " [ 5  6  7  8]\n",
      " [ 9 10 11 12]\n",
      " [13 14 15 16]\n",
      " [17 18 19 20]\n",
      " [21 22 23 24]]\n"
     ]
    }
   ],
   "source": [
    "print(arr[:,:])"
   ]
  },
  {
   "cell_type": "markdown",
   "id": "c4620e9f",
   "metadata": {},
   "source": [
    "`arr[a:,:d]` accesses all rows starting at `a`, and all columns up to index `b`:"
   ]
  },
  {
   "cell_type": "code",
   "execution_count": 77,
   "id": "6fe18f3c",
   "metadata": {},
   "outputs": [
    {
     "name": "stdout",
     "output_type": "stream",
     "text": [
      "[[17 18]\n",
      " [21 22]]\n"
     ]
    }
   ],
   "source": [
    "print(arr[4:,:2])"
   ]
  },
  {
   "cell_type": "markdown",
   "id": "939827e5",
   "metadata": {},
   "source": [
    "`arr[a:b,c:d]` accesses rows starting at `a` up to `b`, and columns starting at `c` up to `d`:"
   ]
  },
  {
   "cell_type": "code",
   "execution_count": 78,
   "id": "974292a4",
   "metadata": {},
   "outputs": [
    {
     "name": "stdout",
     "output_type": "stream",
     "text": [
      "[[10 11]\n",
      " [14 15]]\n"
     ]
    }
   ],
   "source": [
    "print(arr[2:4,1:3])"
   ]
  },
  {
   "cell_type": "markdown",
   "id": "8ac00f93",
   "metadata": {},
   "source": [
    "the splicing rule of `start: stop: step` can be used in combination with multidimensional splicing:"
   ]
  },
  {
   "cell_type": "code",
   "execution_count": 80,
   "id": "110ab40f",
   "metadata": {},
   "outputs": [
    {
     "name": "stdout",
     "output_type": "stream",
     "text": [
      "[[ 2  4]\n",
      " [10 12]\n",
      " [18 20]]\n"
     ]
    }
   ],
   "source": [
    "print(arr[::2,1::2])"
   ]
  },
  {
   "cell_type": "markdown",
   "id": "558c8a2e",
   "metadata": {},
   "source": [
    "Access every 2nd row starting from 0, and for each row selected, starting at column 1, take every 2nd column"
   ]
  },
  {
   "cell_type": "markdown",
   "id": "e3bed941",
   "metadata": {},
   "source": [
    "# Python list vs NumPy Array"
   ]
  },
  {
   "cell_type": "markdown",
   "id": "836c74c9",
   "metadata": {},
   "source": [
    "## Python list:"
   ]
  },
  {
   "cell_type": "markdown",
   "id": "cc77cb83",
   "metadata": {},
   "source": [
    "- General purpose container\n",
    "- Can hold different types of objects in the same list:"
   ]
  },
  {
   "cell_type": "code",
   "execution_count": 87,
   "id": "c05fbc2c",
   "metadata": {},
   "outputs": [],
   "source": [
    "arr = [10, 'hello', 3.14, [1, 2]]"
   ]
  },
  {
   "cell_type": "markdown",
   "id": "6f4b3bab",
   "metadata": {},
   "source": [
    "Operations are **element-wise in terms of objects**, not math:"
   ]
  },
  {
   "cell_type": "code",
   "execution_count": null,
   "id": "0b44cad7",
   "metadata": {},
   "outputs": [
    {
     "name": "stdout",
     "output_type": "stream",
     "text": [
      "[10, 'hello', 3.14, [1, 2], 10, 'hello', 3.14, [1, 2]]\n"
     ]
    }
   ],
   "source": [
    "print(arr*2) # list repetition twice, not multiplication by 2"
   ]
  },
  {
   "cell_type": "code",
   "execution_count": 89,
   "id": "c9dbc6f7",
   "metadata": {},
   "outputs": [
    {
     "name": "stdout",
     "output_type": "stream",
     "text": [
      "[10, 'hello', 3.14, [1, 2], 'a', 'b', 'c']\n"
     ]
    }
   ],
   "source": [
    "arr = arr + ['a', 'b', 'c'] # concatnation to arr\n",
    "print(arr)"
   ]
  },
  {
   "cell_type": "markdown",
   "id": "6de7a9c3",
   "metadata": {},
   "source": [
    "## NumPy Array: "
   ]
  },
  {
   "cell_type": "markdown",
   "id": "da858885",
   "metadata": {},
   "source": [
    "- All elements are stored in the same data type, usually numeric"
   ]
  },
  {
   "cell_type": "code",
   "execution_count": 93,
   "id": "eb780e17",
   "metadata": {},
   "outputs": [
    {
     "name": "stdout",
     "output_type": "stream",
     "text": [
      "[ 6. 11. 12.]\n",
      "[3 6 9]\n"
     ]
    }
   ],
   "source": [
    "np_arr = np.array([1, 2, 3])\n",
    "np_arr2 = np.array([5, 9, 9], dtype=float)\n",
    "\n",
    "print(np_arr + np_arr2) # element-wise addition\n",
    "print(3*np_arr) # scalar multiplication by 3"
   ]
  },
  {
   "cell_type": "markdown",
   "id": "8ade95ce",
   "metadata": {},
   "source": [
    "## Trick to turn a row vector into a column vector:"
   ]
  },
  {
   "cell_type": "code",
   "execution_count": 144,
   "id": "ac0d3367",
   "metadata": {},
   "outputs": [
    {
     "name": "stdout",
     "output_type": "stream",
     "text": [
      "[ 1  2  3  4  5  6  7  8  9 10 11 12 13 14]\n"
     ]
    }
   ],
   "source": [
    "num = np.random.randint(5,25)\n",
    "a = np.arange(1,num)\n",
    "print(a)"
   ]
  },
  {
   "cell_type": "markdown",
   "id": "631d68d1",
   "metadata": {},
   "source": [
    "Use `a[:, np.newaxis]`\n",
    "\n",
    "- `:`→ means “take all elements along this axis” (so far the same as slicing).\n",
    "\n",
    "- `np.newaxis` (which is just `None`) is not a slice, but a way of inserting a new dimension.\n",
    "\n",
    "What we are telling Python to do is:\n",
    "- “Keep all rows (`:`), and in the next axis that I just created (`np.newaxis`), put them as columns.”"
   ]
  },
  {
   "cell_type": "markdown",
   "id": "f9598f02",
   "metadata": {},
   "source": [
    "In short, we turn a `(4,)` array into a `(4,1)` one."
   ]
  },
  {
   "cell_type": "code",
   "execution_count": 145,
   "id": "2b295e76",
   "metadata": {},
   "outputs": [
    {
     "name": "stdout",
     "output_type": "stream",
     "text": [
      "[[ 1]\n",
      " [ 2]\n",
      " [ 3]\n",
      " [ 4]\n",
      " [ 5]\n",
      " [ 6]\n",
      " [ 7]\n",
      " [ 8]\n",
      " [ 9]\n",
      " [10]\n",
      " [11]\n",
      " [12]\n",
      " [13]\n",
      " [14]]\n"
     ]
    }
   ],
   "source": [
    "print(a[:, np.newaxis])"
   ]
  }
 ],
 "metadata": {
  "kernelspec": {
   "display_name": "base",
   "language": "python",
   "name": "python3"
  },
  "language_info": {
   "codemirror_mode": {
    "name": "ipython",
    "version": 3
   },
   "file_extension": ".py",
   "mimetype": "text/x-python",
   "name": "python",
   "nbconvert_exporter": "python",
   "pygments_lexer": "ipython3",
   "version": "3.11.11"
  }
 },
 "nbformat": 4,
 "nbformat_minor": 5
}
