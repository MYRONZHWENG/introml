{
 "cells": [
  {
   "cell_type": "code",
   "execution_count": 3,
   "id": "2fe5db3a",
   "metadata": {},
   "outputs": [],
   "source": [
    "import numpy as np"
   ]
  },
  {
   "cell_type": "code",
   "execution_count": 4,
   "id": "3d8c4459",
   "metadata": {},
   "outputs": [
    {
     "ename": "ValueError",
     "evalue": "operands could not be broadcast together with shapes (2,3) (1,5) ",
     "output_type": "error",
     "traceback": [
      "\u001b[0;31m---------------------------------------------------------------------------\u001b[0m",
      "\u001b[0;31mValueError\u001b[0m                                Traceback (most recent call last)",
      "Cell \u001b[0;32mIn[4], line 5\u001b[0m\n\u001b[1;32m      1\u001b[0m a \u001b[38;5;241m=\u001b[39m np\u001b[38;5;241m.\u001b[39marray([[\u001b[38;5;241m1\u001b[39m, \u001b[38;5;241m2\u001b[39m, \u001b[38;5;241m3\u001b[39m],\n\u001b[1;32m      2\u001b[0m               [\u001b[38;5;241m4\u001b[39m, \u001b[38;5;241m5\u001b[39m, \u001b[38;5;241m6\u001b[39m]])   \u001b[38;5;66;03m# shape (2, 3)\u001b[39;00m\n\u001b[1;32m      3\u001b[0m b \u001b[38;5;241m=\u001b[39m np\u001b[38;5;241m.\u001b[39marray([[\u001b[38;5;241m10\u001b[39m, \u001b[38;5;241m20\u001b[39m, \u001b[38;5;241m30\u001b[39m, \u001b[38;5;241m40\u001b[39m, \u001b[38;5;241m50\u001b[39m]])  \u001b[38;5;66;03m# shape (1, 5)\u001b[39;00m\n\u001b[0;32m----> 5\u001b[0m \u001b[38;5;28mprint\u001b[39m(a \u001b[38;5;241m+\u001b[39m b)\n",
      "\u001b[0;31mValueError\u001b[0m: operands could not be broadcast together with shapes (2,3) (1,5) "
     ]
    }
   ],
   "source": [
    "a = np.array([[1, 2, 3],\n",
    "              [4, 5, 6]])   # shape (2, 3)\n",
    "b = np.array([[10, 20, 30, 40, 50]])  # shape (1, 5)\n",
    "\n",
    "print(a + b)\n"
   ]
  },
  {
   "cell_type": "markdown",
   "id": "159e797c",
   "metadata": {},
   "source": [
    "## BroadCasting"
   ]
  },
  {
   "cell_type": "code",
   "execution_count": 5,
   "id": "2507a488",
   "metadata": {},
   "outputs": [
    {
     "name": "stdout",
     "output_type": "stream",
     "text": [
      "(3, 1, 2, 1)\n",
      "(3, 1, 2)\n"
     ]
    }
   ],
   "source": [
    "\n",
    "test = np.array([[[[2],[6]]], [[[2],[6]]], [[[2],[6]]]])\n",
    "test2 = np.array([[[8,-1]],[[8,-1]],[[8,-1]]])\n",
    "\n",
    "print(test.shape)\n",
    "print(test2.shape)\n"
   ]
  },
  {
   "cell_type": "code",
   "execution_count": 6,
   "id": "42cc0bb0",
   "metadata": {},
   "outputs": [
    {
     "name": "stdout",
     "output_type": "stream",
     "text": [
      "[[16 16]\n",
      " [-2 -2]]\n"
     ]
    }
   ],
   "source": [
    "C = np.array([2, 2])\n",
    "D = np.array([[8],[-1]])\n",
    "\n",
    "print(C*D)"
   ]
  },
  {
   "cell_type": "code",
   "execution_count": 7,
   "id": "4e92d540",
   "metadata": {},
   "outputs": [
    {
     "name": "stdout",
     "output_type": "stream",
     "text": [
      "[[[[16 -2]\n",
      "   [48 -6]]\n",
      "\n",
      "  [[16 -2]\n",
      "   [48 -6]]\n",
      "\n",
      "  [[16 -2]\n",
      "   [48 -6]]]\n",
      "\n",
      "\n",
      " [[[16 -2]\n",
      "   [48 -6]]\n",
      "\n",
      "  [[16 -2]\n",
      "   [48 -6]]\n",
      "\n",
      "  [[16 -2]\n",
      "   [48 -6]]]\n",
      "\n",
      "\n",
      " [[[16 -2]\n",
      "   [48 -6]]\n",
      "\n",
      "  [[16 -2]\n",
      "   [48 -6]]\n",
      "\n",
      "  [[16 -2]\n",
      "   [48 -6]]]]\n"
     ]
    }
   ],
   "source": [
    "print(test*test2)"
   ]
  },
  {
   "cell_type": "markdown",
   "id": "5f1fe441",
   "metadata": {},
   "source": [
    "## Dimensions (tensors)"
   ]
  },
  {
   "cell_type": "code",
   "execution_count": 9,
   "id": "2f3586b8",
   "metadata": {},
   "outputs": [
    {
     "name": "stdout",
     "output_type": "stream",
     "text": [
      "[[[[1 1]\n",
      "   [1 1]]\n",
      "\n",
      "  [[1 1]\n",
      "   [1 1]]]\n",
      "\n",
      "\n",
      " [[[1 1]\n",
      "   [1 1]]\n",
      "\n",
      "  [[1 1]\n",
      "   [1 1]]]]\n",
      "(2, 2, 2, 2)\n"
     ]
    }
   ],
   "source": [
    "square = np.array([[[[1, 1],[1,1]], [[1, 1],[1,1]]],[[[1, 1],[1,1]], [[1, 1],[1,1]]]])\n",
    "print(square)\n",
    "print(square.shape)"
   ]
  },
  {
   "cell_type": "code",
   "execution_count": 11,
   "id": "be5cf9d0",
   "metadata": {},
   "outputs": [
    {
     "name": "stdout",
     "output_type": "stream",
     "text": [
      "() (1,) (1, 1) (1, 1, 1)\n"
     ]
    }
   ],
   "source": [
    "a = np.array(1)\n",
    "b = np.array([1])\n",
    "c = np.array([[1]])\n",
    "d = np.array([[[1]]])\n",
    "print(a.shape, b.shape, c.shape, d.shape)"
   ]
  },
  {
   "cell_type": "markdown",
   "id": "eef4d7d0",
   "metadata": {},
   "source": [
    "## using `np.sum`"
   ]
  },
  {
   "cell_type": "code",
   "execution_count": 62,
   "id": "b91261a9",
   "metadata": {},
   "outputs": [
    {
     "name": "stdout",
     "output_type": "stream",
     "text": [
      "[ 3  7 11]\n"
     ]
    }
   ],
   "source": [
    "a = np.array([[1,2],[3,4],[5,6]])\n",
    "print(np.sum(a, axis=1))\n"
   ]
  },
  {
   "cell_type": "markdown",
   "id": "78b3667b",
   "metadata": {},
   "source": [
    "## Generate random 4 row array:"
   ]
  },
  {
   "cell_type": "code",
   "execution_count": 57,
   "id": "97e09dc3",
   "metadata": {},
   "outputs": [
    {
     "name": "stdout",
     "output_type": "stream",
     "text": [
      "[[ 1  2  3  4  5  6  7  8  9 10]\n",
      " [11 12 13 14 15 16 17 18 19 20]\n",
      " [21 22 23 24 25 26 27 28 29 30]\n",
      " [31 32 33 34 35 36 37 38 39 40]]\n"
     ]
    }
   ],
   "source": [
    "num_col = np.random.randint(5,25)\n",
    "A = np.arange(1, 4*num_col + 1).reshape(4, num_col)\n",
    "print(A)"
   ]
  },
  {
   "cell_type": "markdown",
   "id": "a0c33b9d",
   "metadata": {},
   "source": [
    "## For loop review:"
   ]
  },
  {
   "cell_type": "code",
   "execution_count": 61,
   "id": "7b6628ae",
   "metadata": {},
   "outputs": [
    {
     "name": "stdout",
     "output_type": "stream",
     "text": [
      "check 0\n",
      "check 1\n",
      "check 2\n",
      "check 3\n",
      "check 4\n",
      "check 5\n",
      "check 6\n"
     ]
    }
   ],
   "source": [
    "for i in range(7):\n",
    "    print('check', i)"
   ]
  },
  {
   "cell_type": "markdown",
   "id": "f37e637e",
   "metadata": {},
   "source": [
    "## summing tensor by axis:"
   ]
  },
  {
   "cell_type": "code",
   "execution_count": 71,
   "id": "539ebf54",
   "metadata": {},
   "outputs": [
    {
     "name": "stdout",
     "output_type": "stream",
     "text": [
      "[[[[ 1  2]\n",
      "   [ 3  4]]\n",
      "\n",
      "  [[ 5  6]\n",
      "   [ 7  8]]\n",
      "\n",
      "  [[ 9 10]\n",
      "   [11 12]]]]\n"
     ]
    }
   ],
   "source": [
    "X = np.arange(1,13).reshape(1,3,2,2)\n",
    "print(X)"
   ]
  },
  {
   "cell_type": "code",
   "execution_count": 72,
   "id": "d135704a",
   "metadata": {},
   "outputs": [
    {
     "name": "stdout",
     "output_type": "stream",
     "text": [
      "[[[ 1  2]\n",
      "  [ 3  4]]\n",
      "\n",
      " [[ 5  6]\n",
      "  [ 7  8]]\n",
      "\n",
      " [[ 9 10]\n",
      "  [11 12]]]\n"
     ]
    }
   ],
   "source": [
    "print(np.sum(X,axis=0))"
   ]
  },
  {
   "cell_type": "code",
   "execution_count": 74,
   "id": "710361ad",
   "metadata": {},
   "outputs": [
    {
     "name": "stdout",
     "output_type": "stream",
     "text": [
      "[[[15 18]\n",
      "  [21 24]]]\n"
     ]
    }
   ],
   "source": [
    "print(np.sum(X,axis=1))"
   ]
  },
  {
   "cell_type": "code",
   "execution_count": 76,
   "id": "349c5503",
   "metadata": {},
   "outputs": [
    {
     "name": "stdout",
     "output_type": "stream",
     "text": [
      "[[[ 4  6]\n",
      "  [12 14]\n",
      "  [20 22]]]\n"
     ]
    }
   ],
   "source": [
    "print(np.sum(X,axis=2))"
   ]
  },
  {
   "cell_type": "code",
   "execution_count": 77,
   "id": "75490d1f",
   "metadata": {},
   "outputs": [
    {
     "name": "stdout",
     "output_type": "stream",
     "text": [
      "[[[ 3  7]\n",
      "  [11 15]\n",
      "  [19 23]]]\n"
     ]
    }
   ],
   "source": [
    "print(np.sum(X,axis=3))"
   ]
  },
  {
   "cell_type": "markdown",
   "id": "47a02b75",
   "metadata": {},
   "source": [
    "## Reshaping:"
   ]
  },
  {
   "cell_type": "code",
   "execution_count": 79,
   "id": "5f52691b",
   "metadata": {},
   "outputs": [
    {
     "name": "stdout",
     "output_type": "stream",
     "text": [
      "[0 1 2 3 4]\n",
      "[[0 1 2 3 4]]\n"
     ]
    }
   ],
   "source": [
    "a = np.arange(5)\n",
    "print(a)\n",
    "print(a[None,:])"
   ]
  },
  {
   "cell_type": "markdown",
   "id": "1469d905",
   "metadata": {},
   "source": [
    "## Adding new dimension:"
   ]
  },
  {
   "cell_type": "code",
   "execution_count": 80,
   "id": "6222997f",
   "metadata": {},
   "outputs": [
    {
     "data": {
      "text/plain": [
       "array([[0, 1],\n",
       "       [2, 3],\n",
       "       [4, 5]])"
      ]
     },
     "execution_count": 80,
     "metadata": {},
     "output_type": "execute_result"
    }
   ],
   "source": [
    "X = np.arange(6).reshape(3,2)\n",
    "X"
   ]
  },
  {
   "cell_type": "code",
   "execution_count": 81,
   "id": "2fc7451f",
   "metadata": {},
   "outputs": [
    {
     "data": {
      "text/plain": [
       "array([[[0],\n",
       "        [1]],\n",
       "\n",
       "       [[2],\n",
       "        [3]],\n",
       "\n",
       "       [[4],\n",
       "        [5]]])"
      ]
     },
     "execution_count": 81,
     "metadata": {},
     "output_type": "execute_result"
    }
   ],
   "source": [
    "X[:, :, None]"
   ]
  }
 ],
 "metadata": {
  "kernelspec": {
   "display_name": "base",
   "language": "python",
   "name": "python3"
  },
  "language_info": {
   "codemirror_mode": {
    "name": "ipython",
    "version": 3
   },
   "file_extension": ".py",
   "mimetype": "text/x-python",
   "name": "python",
   "nbconvert_exporter": "python",
   "pygments_lexer": "ipython3",
   "version": "3.11.11"
  }
 },
 "nbformat": 4,
 "nbformat_minor": 5
}
