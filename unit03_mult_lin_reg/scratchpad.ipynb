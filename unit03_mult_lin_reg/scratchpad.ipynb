{
 "cells": [
  {
   "cell_type": "code",
   "execution_count": 3,
   "id": "2fe5db3a",
   "metadata": {},
   "outputs": [],
   "source": [
    "import numpy as np"
   ]
  },
  {
   "cell_type": "code",
   "execution_count": 4,
   "id": "3d8c4459",
   "metadata": {},
   "outputs": [
    {
     "ename": "ValueError",
     "evalue": "operands could not be broadcast together with shapes (2,3) (1,5) ",
     "output_type": "error",
     "traceback": [
      "\u001b[0;31m---------------------------------------------------------------------------\u001b[0m",
      "\u001b[0;31mValueError\u001b[0m                                Traceback (most recent call last)",
      "Cell \u001b[0;32mIn[4], line 5\u001b[0m\n\u001b[1;32m      1\u001b[0m a \u001b[38;5;241m=\u001b[39m np\u001b[38;5;241m.\u001b[39marray([[\u001b[38;5;241m1\u001b[39m, \u001b[38;5;241m2\u001b[39m, \u001b[38;5;241m3\u001b[39m],\n\u001b[1;32m      2\u001b[0m               [\u001b[38;5;241m4\u001b[39m, \u001b[38;5;241m5\u001b[39m, \u001b[38;5;241m6\u001b[39m]])   \u001b[38;5;66;03m# shape (2, 3)\u001b[39;00m\n\u001b[1;32m      3\u001b[0m b \u001b[38;5;241m=\u001b[39m np\u001b[38;5;241m.\u001b[39marray([[\u001b[38;5;241m10\u001b[39m, \u001b[38;5;241m20\u001b[39m, \u001b[38;5;241m30\u001b[39m, \u001b[38;5;241m40\u001b[39m, \u001b[38;5;241m50\u001b[39m]])  \u001b[38;5;66;03m# shape (1, 5)\u001b[39;00m\n\u001b[0;32m----> 5\u001b[0m \u001b[38;5;28mprint\u001b[39m(a \u001b[38;5;241m+\u001b[39m b)\n",
      "\u001b[0;31mValueError\u001b[0m: operands could not be broadcast together with shapes (2,3) (1,5) "
     ]
    }
   ],
   "source": [
    "a = np.array([[1, 2, 3],\n",
    "              [4, 5, 6]])   # shape (2, 3)\n",
    "b = np.array([[10, 20, 30, 40, 50]])  # shape (1, 5)\n",
    "\n",
    "print(a + b)\n"
   ]
  },
  {
   "cell_type": "markdown",
   "id": "159e797c",
   "metadata": {},
   "source": [
    "# BroadCasting"
   ]
  },
  {
   "cell_type": "code",
   "execution_count": 5,
   "id": "2507a488",
   "metadata": {},
   "outputs": [
    {
     "name": "stdout",
     "output_type": "stream",
     "text": [
      "(3, 1, 2, 1)\n",
      "(3, 1, 2)\n"
     ]
    }
   ],
   "source": [
    "\n",
    "test = np.array([[[[2],[6]]], [[[2],[6]]], [[[2],[6]]]])\n",
    "test2 = np.array([[[8,-1]],[[8,-1]],[[8,-1]]])\n",
    "\n",
    "print(test.shape)\n",
    "print(test2.shape)\n"
   ]
  },
  {
   "cell_type": "code",
   "execution_count": 6,
   "id": "42cc0bb0",
   "metadata": {},
   "outputs": [
    {
     "name": "stdout",
     "output_type": "stream",
     "text": [
      "[[16 16]\n",
      " [-2 -2]]\n"
     ]
    }
   ],
   "source": [
    "C = np.array([2, 2])\n",
    "D = np.array([[8],[-1]])\n",
    "\n",
    "print(C*D)"
   ]
  },
  {
   "cell_type": "code",
   "execution_count": 7,
   "id": "4e92d540",
   "metadata": {},
   "outputs": [
    {
     "name": "stdout",
     "output_type": "stream",
     "text": [
      "[[[[16 -2]\n",
      "   [48 -6]]\n",
      "\n",
      "  [[16 -2]\n",
      "   [48 -6]]\n",
      "\n",
      "  [[16 -2]\n",
      "   [48 -6]]]\n",
      "\n",
      "\n",
      " [[[16 -2]\n",
      "   [48 -6]]\n",
      "\n",
      "  [[16 -2]\n",
      "   [48 -6]]\n",
      "\n",
      "  [[16 -2]\n",
      "   [48 -6]]]\n",
      "\n",
      "\n",
      " [[[16 -2]\n",
      "   [48 -6]]\n",
      "\n",
      "  [[16 -2]\n",
      "   [48 -6]]\n",
      "\n",
      "  [[16 -2]\n",
      "   [48 -6]]]]\n"
     ]
    }
   ],
   "source": [
    "print(test*test2)"
   ]
  },
  {
   "cell_type": "markdown",
   "id": "5f1fe441",
   "metadata": {},
   "source": [
    "# Dimensions (tensors)"
   ]
  },
  {
   "cell_type": "code",
   "execution_count": 9,
   "id": "2f3586b8",
   "metadata": {},
   "outputs": [
    {
     "name": "stdout",
     "output_type": "stream",
     "text": [
      "[[[[1 1]\n",
      "   [1 1]]\n",
      "\n",
      "  [[1 1]\n",
      "   [1 1]]]\n",
      "\n",
      "\n",
      " [[[1 1]\n",
      "   [1 1]]\n",
      "\n",
      "  [[1 1]\n",
      "   [1 1]]]]\n",
      "(2, 2, 2, 2)\n"
     ]
    }
   ],
   "source": [
    "square = np.array([[[[1, 1],[1,1]], [[1, 1],[1,1]]],[[[1, 1],[1,1]], [[1, 1],[1,1]]]])\n",
    "print(square)\n",
    "print(square.shape)"
   ]
  },
  {
   "cell_type": "code",
   "execution_count": 11,
   "id": "be5cf9d0",
   "metadata": {},
   "outputs": [
    {
     "name": "stdout",
     "output_type": "stream",
     "text": [
      "() (1,) (1, 1) (1, 1, 1)\n"
     ]
    }
   ],
   "source": [
    "a = np.array(1)\n",
    "b = np.array([1])\n",
    "c = np.array([[1]])\n",
    "d = np.array([[[1]]])\n",
    "print(a.shape, b.shape, c.shape, d.shape)"
   ]
  },
  {
   "cell_type": "markdown",
   "id": "eef4d7d0",
   "metadata": {},
   "source": [
    "# using `np.sum`"
   ]
  },
  {
   "cell_type": "code",
   "execution_count": 16,
   "id": "b91261a9",
   "metadata": {},
   "outputs": [
    {
     "ename": "AxisError",
     "evalue": "axis 2 is out of bounds for array of dimension 2",
     "output_type": "error",
     "traceback": [
      "\u001b[0;31m---------------------------------------------------------------------------\u001b[0m",
      "\u001b[0;31mAxisError\u001b[0m                                 Traceback (most recent call last)",
      "Cell \u001b[0;32mIn[16], line 2\u001b[0m\n\u001b[1;32m      1\u001b[0m a \u001b[38;5;241m=\u001b[39m np\u001b[38;5;241m.\u001b[39marray([[\u001b[38;5;241m1\u001b[39m,\u001b[38;5;241m2\u001b[39m],[\u001b[38;5;241m3\u001b[39m,\u001b[38;5;241m4\u001b[39m],[\u001b[38;5;241m5\u001b[39m,\u001b[38;5;241m6\u001b[39m]])\n\u001b[0;32m----> 2\u001b[0m \u001b[38;5;28mprint\u001b[39m(np\u001b[38;5;241m.\u001b[39msum(a, axis\u001b[38;5;241m=\u001b[39m\u001b[38;5;241m2\u001b[39m))\n",
      "File \u001b[0;32m~/anaconda3/lib/python3.11/site-packages/numpy/_core/fromnumeric.py:2466\u001b[0m, in \u001b[0;36msum\u001b[0;34m(a, axis, dtype, out, keepdims, initial, where)\u001b[0m\n\u001b[1;32m   2463\u001b[0m         \u001b[38;5;28;01mreturn\u001b[39;00m out\n\u001b[1;32m   2464\u001b[0m     \u001b[38;5;28;01mreturn\u001b[39;00m res\n\u001b[0;32m-> 2466\u001b[0m \u001b[38;5;28;01mreturn\u001b[39;00m _wrapreduction(\n\u001b[1;32m   2467\u001b[0m     a, np\u001b[38;5;241m.\u001b[39madd, \u001b[38;5;124m'\u001b[39m\u001b[38;5;124msum\u001b[39m\u001b[38;5;124m'\u001b[39m, axis, dtype, out,\n\u001b[1;32m   2468\u001b[0m     keepdims\u001b[38;5;241m=\u001b[39mkeepdims, initial\u001b[38;5;241m=\u001b[39minitial, where\u001b[38;5;241m=\u001b[39mwhere\n\u001b[1;32m   2469\u001b[0m )\n",
      "File \u001b[0;32m~/anaconda3/lib/python3.11/site-packages/numpy/_core/fromnumeric.py:86\u001b[0m, in \u001b[0;36m_wrapreduction\u001b[0;34m(obj, ufunc, method, axis, dtype, out, **kwargs)\u001b[0m\n\u001b[1;32m     83\u001b[0m         \u001b[38;5;28;01melse\u001b[39;00m:\n\u001b[1;32m     84\u001b[0m             \u001b[38;5;28;01mreturn\u001b[39;00m reduction(axis\u001b[38;5;241m=\u001b[39maxis, out\u001b[38;5;241m=\u001b[39mout, \u001b[38;5;241m*\u001b[39m\u001b[38;5;241m*\u001b[39mpasskwargs)\n\u001b[0;32m---> 86\u001b[0m \u001b[38;5;28;01mreturn\u001b[39;00m ufunc\u001b[38;5;241m.\u001b[39mreduce(obj, axis, dtype, out, \u001b[38;5;241m*\u001b[39m\u001b[38;5;241m*\u001b[39mpasskwargs)\n",
      "\u001b[0;31mAxisError\u001b[0m: axis 2 is out of bounds for array of dimension 2"
     ]
    }
   ],
   "source": [
    "a = np.array([[1,2],[3,4],[5,6]])\n",
    "print(np.sum(a, axis=2))\n"
   ]
  },
  {
   "cell_type": "markdown",
   "id": "78b3667b",
   "metadata": {},
   "source": [
    "## Generate random 4 row array:"
   ]
  },
  {
   "cell_type": "code",
   "execution_count": 57,
   "id": "97e09dc3",
   "metadata": {},
   "outputs": [
    {
     "name": "stdout",
     "output_type": "stream",
     "text": [
      "[[ 1  2  3  4  5  6  7  8  9 10]\n",
      " [11 12 13 14 15 16 17 18 19 20]\n",
      " [21 22 23 24 25 26 27 28 29 30]\n",
      " [31 32 33 34 35 36 37 38 39 40]]\n"
     ]
    }
   ],
   "source": [
    "num_col = np.random.randint(5,25)\n",
    "A = np.arange(1, 4*num_col + 1).reshape(4, num_col)\n",
    "print(A)"
   ]
  }
 ],
 "metadata": {
  "kernelspec": {
   "display_name": "base",
   "language": "python",
   "name": "python3"
  },
  "language_info": {
   "codemirror_mode": {
    "name": "ipython",
    "version": 3
   },
   "file_extension": ".py",
   "mimetype": "text/x-python",
   "name": "python",
   "nbconvert_exporter": "python",
   "pygments_lexer": "ipython3",
   "version": "3.11.11"
  }
 },
 "nbformat": 4,
 "nbformat_minor": 5
}
