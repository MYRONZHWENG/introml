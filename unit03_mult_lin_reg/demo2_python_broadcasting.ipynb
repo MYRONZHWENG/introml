{
 "cells": [
  {
   "cell_type": "markdown",
   "metadata": {},
   "source": [
    "# Numpy Array Operations:  Axes and Broadcasting \n",
    "\n",
    "There is an excellent introduction to `numpy` multi-dimensional arrays on the [scipy](https://docs.scipy.org/doc/numpy-dev/user/quickstart.html) website.  In this note, we cover two concepts in a little more detail:\n",
    "* Using the `axis` feature \n",
    "* Python broadcasting\n",
    "\n",
    "We will need both of these for performing many of the numerical operations for the ML class.\n",
    "\n",
    "As usual, we begin by loading the `numpy` package."
   ]
  },
  {
   "cell_type": "code",
   "execution_count": 1,
   "metadata": {
    "collapsed": true
   },
   "outputs": [],
   "source": [
    "import numpy as np"
   ]
  },
  {
   "cell_type": "markdown",
   "metadata": {},
   "source": [
    "## Axis Parameter\n",
    "\n",
    "Many operations in the `numpy` package can take an optional `axis` parameter to specify which dimensions the operation is to be applied.  This is extremely useful for multi-dimensional data.  To illustrate the `axis` parameter, consider a matrix the `(3,2)` array `X` defined as:"
   ]
  },
  {
   "cell_type": "code",
   "execution_count": 12,
   "metadata": {
    "collapsed": false
   },
   "outputs": [
    {
     "name": "stdout",
     "output_type": "stream",
     "text": [
      "[[0 1]\n",
      " [2 3]\n",
      " [4 5]]\n"
     ]
    }
   ],
   "source": [
    "X = np.arange(6).reshape(3,2)\n",
    "print(X)"
   ]
  },
  {
   "cell_type": "markdown",
   "metadata": {},
   "source": [
    "An operation like `np.mean` or `np.sum` takes the mean or sum of *all* elements in the array. "
   ]
  },
  {
   "cell_type": "code",
   "execution_count": 13,
   "metadata": {
    "collapsed": false
   },
   "outputs": [
    {
     "name": "stdout",
     "output_type": "stream",
     "text": [
      "2.5\n",
      "15\n"
     ]
    }
   ],
   "source": [
    "print(np.mean(X))\n",
    "print(np.sum(X))"
   ]
  },
  {
   "cell_type": "markdown",
   "metadata": {},
   "source": [
    "To take only the `sum` along each column, we can use the `axis` parameter."
   ]
  },
  {
   "cell_type": "code",
   "execution_count": 14,
   "metadata": {
    "collapsed": false
   },
   "outputs": [
    {
     "name": "stdout",
     "output_type": "stream",
     "text": [
      "[6 9]\n"
     ]
    }
   ],
   "source": [
    "print(np.sum(X,axis=0))"
   ]
  },
  {
   "cell_type": "code",
   "execution_count": 15,
   "metadata": {},
   "outputs": [
    {
     "name": "stdout",
     "output_type": "stream",
     "text": [
      "(3, 2)\n"
     ]
    }
   ],
   "source": [
    "print(np.shape(X))"
   ]
  },
  {
   "cell_type": "markdown",
   "metadata": {},
   "source": [
    "Note: take the mean of each column of `X`:"
   ]
  },
  {
   "cell_type": "code",
   "execution_count": 16,
   "metadata": {},
   "outputs": [
    {
     "name": "stdout",
     "output_type": "stream",
     "text": [
      "[2. 3.]\n"
     ]
    }
   ],
   "source": [
    "print(np.mean(X, axis=0))"
   ]
  },
  {
   "cell_type": "markdown",
   "metadata": {},
   "source": [
    "Note: python code for printing out the dimensions of matrix X below:"
   ]
  },
  {
   "cell_type": "code",
   "execution_count": 17,
   "metadata": {},
   "outputs": [
    {
     "name": "stdout",
     "output_type": "stream",
     "text": [
      "(2,)\n"
     ]
    }
   ],
   "source": [
    "print(np.shape(np.sum(X, axis=0)))"
   ]
  },
  {
   "cell_type": "markdown",
   "metadata": {},
   "source": [
    "Since `X` has shape `(3,2)`, the output `np.sum(X,axis=0)` is of shape `(2,)`.  Similarly, we can take the `sum` along each row:"
   ]
  },
  {
   "cell_type": "code",
   "execution_count": 18,
   "metadata": {
    "collapsed": false
   },
   "outputs": [
    {
     "name": "stdout",
     "output_type": "stream",
     "text": [
      "[1 5 9]\n"
     ]
    }
   ],
   "source": [
    "print(np.sum(X,axis=1))"
   ]
  },
  {
   "cell_type": "markdown",
   "metadata": {},
   "source": [
    "You can apply this to higher-order arrays:"
   ]
  },
  {
   "cell_type": "code",
   "execution_count": 19,
   "metadata": {
    "collapsed": false
   },
   "outputs": [
    {
     "name": "stdout",
     "output_type": "stream",
     "text": [
      "Y1 = \n",
      "[[12 14 16 18]\n",
      " [20 22 24 26]\n",
      " [28 30 32 34]]\n",
      "Y2 = \n",
      "[[12 15 18 21]\n",
      " [48 51 54 57]]\n"
     ]
    }
   ],
   "source": [
    "X = np.arange(24).reshape(2,3,4)  # shape = (2,3,4)\n",
    "Y1 = np.sum(X,axis=0)             # shape = (3,4)\n",
    "Y2 = np.sum(X,axis=1)             # shape = (2,4)\n",
    "print('Y1 = ')\n",
    "print(Y1)\n",
    "print('Y2 = ')\n",
    "print(Y2)"
   ]
  },
  {
   "cell_type": "code",
   "execution_count": 20,
   "metadata": {},
   "outputs": [
    {
     "name": "stdout",
     "output_type": "stream",
     "text": [
      "[[[ 0  1  2  3]\n",
      "  [ 4  5  6  7]\n",
      "  [ 8  9 10 11]]\n",
      "\n",
      " [[12 13 14 15]\n",
      "  [16 17 18 19]\n",
      "  [20 21 22 23]]]\n"
     ]
    }
   ],
   "source": [
    "print(X)"
   ]
  },
  {
   "cell_type": "markdown",
   "metadata": {},
   "source": [
    "Note: what if the number of elements to be arranged is not the same as the available space in matrix?\n",
    "An error will be thrown"
   ]
  },
  {
   "cell_type": "code",
   "execution_count": 21,
   "metadata": {},
   "outputs": [
    {
     "ename": "ValueError",
     "evalue": "cannot reshape array of size 20 into shape (2,3,4)",
     "output_type": "error",
     "traceback": [
      "\u001b[0;31m---------------------------------------------------------------------------\u001b[0m",
      "\u001b[0;31mValueError\u001b[0m                                Traceback (most recent call last)",
      "Cell \u001b[0;32mIn[21], line 1\u001b[0m\n\u001b[0;32m----> 1\u001b[0m Mtrx \u001b[38;5;241m=\u001b[39m np\u001b[38;5;241m.\u001b[39marange(\u001b[38;5;241m20\u001b[39m)\u001b[38;5;241m.\u001b[39mreshape(\u001b[38;5;241m2\u001b[39m,\u001b[38;5;241m3\u001b[39m,\u001b[38;5;241m4\u001b[39m)\n\u001b[1;32m      2\u001b[0m \u001b[38;5;28mprint\u001b[39m(Mtrx)\n",
      "\u001b[0;31mValueError\u001b[0m: cannot reshape array of size 20 into shape (2,3,4)"
     ]
    }
   ],
   "source": [
    "Mtrx = np.arange(20).reshape(2,3,4)\n",
    "print(Mtrx)"
   ]
  },
  {
   "cell_type": "markdown",
   "metadata": {},
   "source": [
    "## Broadcasting\n",
    "\n",
    "**Broadcasting** is a powerful tool in Python for performing operations on matrices that we will use throughout the ML class.  A good tutorial on broadcasting can be found on the [scipy broadcasting page](https://docs.scipy.org/doc/numpy-1.13.0/user/basics.broadcasting.html).  Here we provide some examples.   "
   ]
  },
  {
   "cell_type": "markdown",
   "metadata": {},
   "source": [
    "### Example 1:  Mean Removal\n",
    "\n",
    "Suppose that `X` is a data matrix of shape `(n,p)`.  That is, there are `n` data points and `p` features per point.  Often, we have to remove the mean from each feature.  That is, we want to compute the mean for each feature and then remove the mean from each column.  We could do this with a for-loop as:\n",
    "   \n",
    "    Xm = np.zeros(p)      # Mean for each feature\n",
    "    X1_demean = np.zeros((n,p))  # Transformed features with the means removed\n",
    "    for j in range(p):\n",
    "       Xm[j] = np.mean(X[:,j])\n",
    "       for i in range(n):\n",
    "           X_demean[i,j] = X[i,j] - Xm[j]\n",
    "           \n",
    "The code below does this without a for loop using the `axis` parameter and broadcasting."
   ]
  },
  {
   "cell_type": "code",
   "execution_count": 25,
   "metadata": {
    "collapsed": false
   },
   "outputs": [],
   "source": [
    "# Generate some random data\n",
    "n = 100\n",
    "p = 5\n",
    "X = np.random.rand(n,p)\n",
    "\n",
    "# Compute the mean per column using the axis command\n",
    "Xm = np.mean(X,axis=0)  # This is a p-dim matrix\n",
    "\n",
    "# Subtract the mean\n",
    "X_demean = X - Xm[None,:]"
   ]
  },
  {
   "cell_type": "code",
   "execution_count": 27,
   "metadata": {},
   "outputs": [
    {
     "name": "stdout",
     "output_type": "stream",
     "text": [
      "[[0.21223333 0.77175082 0.1578439  0.12005405 0.4816153 ]\n",
      " [0.57598394 0.1958655  0.18947995 0.23823771 0.60386571]\n",
      " [0.24477615 0.77952675 0.26401113 0.74927777 0.05618032]\n",
      " [0.53990138 0.800736   0.19352144 0.61094074 0.47839642]\n",
      " [0.5367433  0.51839468 0.93067253 0.28051617 0.7796864 ]\n",
      " [0.36914797 0.21935931 0.57958533 0.93668102 0.05489795]\n",
      " [0.38155332 0.59861046 0.84458302 0.60533035 0.75962275]\n",
      " [0.70415288 0.63278637 0.67083566 0.52713592 0.26764396]\n",
      " [0.35474438 0.24913334 0.04859349 0.74998357 0.19936106]\n",
      " [0.33909439 0.55965851 0.48360216 0.01118009 0.3646447 ]\n",
      " [0.13614403 0.34583649 0.71160938 0.28218252 0.07170273]\n",
      " [0.40619677 0.23452235 0.01580147 0.74007347 0.75620397]\n",
      " [0.30831735 0.07498413 0.97729445 0.99397426 0.10673897]\n",
      " [0.33808862 0.8490039  0.40542605 0.8482984  0.15574757]\n",
      " [0.73052819 0.7460925  0.57338057 0.13027591 0.32785438]\n",
      " [0.04602947 0.97653613 0.86540846 0.75497178 0.35214259]\n",
      " [0.07419424 0.93607109 0.57053125 0.97255247 0.9868219 ]\n",
      " [0.62089398 0.75945216 0.51704567 0.60121466 0.37332655]\n",
      " [0.45901985 0.4777661  0.8599627  0.17651463 0.22209868]\n",
      " [0.95137139 0.88153625 0.31399027 0.67068222 0.67105943]\n",
      " [0.47999856 0.04479986 0.43793846 0.31723942 0.89921721]\n",
      " [0.62847135 0.72107262 0.32101555 0.42612036 0.66911249]\n",
      " [0.26947538 0.10546205 0.93603545 0.80475057 0.37024593]\n",
      " [0.52492545 0.19043766 0.8188914  0.08570342 0.08543238]\n",
      " [0.88069987 0.27518775 0.4284808  0.10723063 0.71514668]\n",
      " [0.42534289 0.96627253 0.68137792 0.24397313 0.41604738]\n",
      " [0.6323439  0.19217142 0.93371336 0.08354365 0.94869709]\n",
      " [0.30186717 0.86686942 0.85242775 0.22746666 0.71562499]\n",
      " [0.35546593 0.86616782 0.5657517  0.98692962 0.79250124]\n",
      " [0.56712277 0.85467208 0.51119568 0.56130264 0.43347655]\n",
      " [0.9907896  0.368505   0.15907496 0.34821347 0.74239188]\n",
      " [0.96883555 0.7863664  0.32212691 0.79716028 0.00253539]\n",
      " [0.78483065 0.81759953 0.53767475 0.26580074 0.99149142]\n",
      " [0.97392003 0.80084821 0.87202663 0.29425094 0.88110423]\n",
      " [0.19171939 0.04502039 0.33471996 0.36940749 0.77458798]\n",
      " [0.61899331 0.06029816 0.49882493 0.24395338 0.04605615]\n",
      " [0.27432619 0.39150741 0.96725432 0.13296896 0.75391438]\n",
      " [0.73375855 0.83447138 0.26231177 0.99272873 0.75979491]\n",
      " [0.35105699 0.18277744 0.66327141 0.84623225 0.00116623]\n",
      " [0.85641385 0.09499543 0.67158417 0.41797768 0.9089141 ]\n",
      " [0.72133987 0.6018675  0.53674712 0.2163204  0.09617773]\n",
      " [0.61038462 0.3876271  0.23244293 0.9638046  0.09820267]\n",
      " [0.75646147 0.46318302 0.15212835 0.16808776 0.17297925]\n",
      " [0.68711833 0.72025947 0.75450783 0.76465173 0.64202377]\n",
      " [0.41383146 0.50850824 0.06609106 0.37509913 0.53859619]\n",
      " [0.54495146 0.90853869 0.08902993 0.3600229  0.91985184]\n",
      " [0.82381219 0.75692272 0.72632829 0.91467344 0.94389805]\n",
      " [0.95660233 0.35464278 0.6752189  0.39785783 0.85780442]\n",
      " [0.27612609 0.39654905 0.18409669 0.63203395 0.54452742]\n",
      " [0.07156504 0.9315613  0.6641874  0.78526444 0.15485497]\n",
      " [0.28958294 0.60054487 0.58233501 0.08330543 0.03327877]\n",
      " [0.90264635 0.67610542 0.97306049 0.42623902 0.7881464 ]\n",
      " [0.12073335 0.65976989 0.09618712 0.32970653 0.73939014]\n",
      " [0.1327577  0.73532167 0.24447223 0.66117044 0.11865591]\n",
      " [0.19791331 0.3137786  0.83307375 0.661225   0.23731955]\n",
      " [0.16869741 0.81635855 0.48853262 0.2972184  0.33030768]\n",
      " [0.13793443 0.32581524 0.93299036 0.37799496 0.79952597]\n",
      " [0.81516619 0.00458044 0.3275771  0.55479403 0.64960216]\n",
      " [0.45196326 0.63481558 0.02442047 0.39854872 0.57740782]\n",
      " [0.25992987 0.22709165 0.36509783 0.77137169 0.00711192]\n",
      " [0.02060092 0.91903765 0.97425323 0.14197599 0.60076432]\n",
      " [0.96437704 0.2432336  0.74060108 0.71446844 0.55659854]\n",
      " [0.75176056 0.79946351 0.06975338 0.08520079 0.34609877]\n",
      " [0.74553202 0.08501105 0.24743357 0.79138155 0.94075551]\n",
      " [0.2913976  0.40445268 0.70930007 0.19241532 0.34307034]\n",
      " [0.44843481 0.50839257 0.26834774 0.05967359 0.97856731]\n",
      " [0.3077626  0.47930263 0.05881567 0.70195915 0.30040349]\n",
      " [0.64036672 0.60872582 0.62705293 0.79022044 0.18090776]\n",
      " [0.66351142 0.14606077 0.09559868 0.40092522 0.7567848 ]\n",
      " [0.9848044  0.75606224 0.00118006 0.83443083 0.80789032]\n",
      " [0.09573811 0.91670171 0.52606787 0.39687752 0.19413688]\n",
      " [0.34759514 0.94874013 0.80802833 0.29413121 0.05141926]\n",
      " [0.94818946 0.31009318 0.2967049  0.97962804 0.15366839]\n",
      " [0.88527238 0.90068612 0.98646798 0.16986526 0.35523127]\n",
      " [0.22770535 0.84244901 0.42234206 0.19507334 0.23273151]\n",
      " [0.40588405 0.21418528 0.28847786 0.73238999 0.83380226]\n",
      " [0.21350638 0.7170555  0.37622393 0.40155461 0.05323422]\n",
      " [0.55691022 0.64905232 0.47711082 0.62528531 0.3261884 ]\n",
      " [0.41652147 0.89138892 0.75605497 0.32335874 0.06420389]\n",
      " [0.32328611 0.4625109  0.69260265 0.19345776 0.92125366]\n",
      " [0.36948887 0.99266588 0.95806604 0.04157257 0.82997325]\n",
      " [0.89990786 0.09384175 0.43934741 0.31904471 0.90551244]\n",
      " [0.12945489 0.60150366 0.42405342 0.96244761 0.73787704]\n",
      " [0.3240175  0.03310544 0.47837294 0.83055966 0.83345129]\n",
      " [0.52122576 0.81730005 0.66154837 0.89506576 0.25920206]\n",
      " [0.17671898 0.82152581 0.66330909 0.87811915 0.26164088]\n",
      " [0.83514233 0.89873944 0.96689579 0.22417863 0.57636329]\n",
      " [0.29193385 0.97055747 0.22713732 0.21189757 0.87770269]\n",
      " [0.29260026 0.90134669 0.38553193 0.99209108 0.26727003]\n",
      " [0.1789107  0.06278088 0.86266607 0.7382587  0.55659745]\n",
      " [0.65652232 0.93314231 0.07011409 0.59093396 0.9949373 ]\n",
      " [0.41402936 0.53944419 0.32159191 0.12019098 0.85320701]\n",
      " [0.05258238 0.703067   0.79377875 0.36761896 0.61423581]\n",
      " [0.43440325 0.05734383 0.57715408 0.25583329 0.27369422]\n",
      " [0.49052077 0.37864664 0.20419613 0.71324862 0.19033949]\n",
      " [0.28537523 0.15029053 0.0643685  0.39274335 0.46822144]\n",
      " [0.0311917  0.29724245 0.91973658 0.44289052 0.77398279]\n",
      " [0.45535835 0.11437315 0.13869777 0.01556133 0.1434163 ]\n",
      " [0.85040578 0.9319662  0.52998066 0.0432435  0.52361012]\n",
      " [0.14692259 0.87063386 0.85736384 0.28810224 0.26540667]]\n"
     ]
    }
   ],
   "source": [
    "print(X)"
   ]
  },
  {
   "cell_type": "code",
   "execution_count": 28,
   "metadata": {},
   "outputs": [
    {
     "name": "stdout",
     "output_type": "stream",
     "text": [
      "[0.4755486  0.5506909  0.50863731 0.48040297 0.49431085]\n"
     ]
    }
   ],
   "source": [
    "print(Xm)"
   ]
  },
  {
   "cell_type": "markdown",
   "metadata": {},
   "source": [
    "The command `Xm = np.mean(X,axis=0)` computes the mean of each column which is a `p` dimensional array.  Then, `Xm[None,:]` converts this to a `(1,p)` shape array.  Using Python broadcasting, we can then subtract the `Xm[None,:]` from `X`."
   ]
  },
  {
   "cell_type": "markdown",
   "metadata": {},
   "source": [
    "### Example 2:  Standardizing variables\n",
    "\n",
    "A variant of the above example is to *standardize* the features, where we compute the transform variables,\n",
    "\n",
    "    Z[i,j] = (X[i,j] - Xm[j])/ Xstd[j]\n",
    "    \n",
    "where `Xstd[j]` is the standard deviation per feature.  This can be done as follows:"
   ]
  },
  {
   "cell_type": "code",
   "execution_count": 26,
   "metadata": {
    "collapsed": false
   },
   "outputs": [],
   "source": [
    "Xstd = np.std(X,axis=0)\n",
    "Z = (X-Xm[None,:])/Xstd[None,:]"
   ]
  },
  {
   "cell_type": "markdown",
   "metadata": {},
   "source": [
    "### Example 3:  Distances\n",
    "\n",
    "Here is a more complicated example.  Suppose we have a data matrix `X` of shape `(nx,p)` and a second set of points, `Y` of shape `(ny,p)`. For each `i` and `j`, we want to compute the distances, \n",
    "\n",
    "     d[i,j] = np.sum((X[i,:] - Y[j,:])**2)\n",
    "     \n",
    "This represents the distances between the vectors `X[i,:]` and `Y[j,:]`.  This sort of computation is used for clustering and nearest neighbors.  We can do this without a for loop as follows"
   ]
  },
  {
   "cell_type": "code",
   "execution_count": 29,
   "metadata": {
    "collapsed": false
   },
   "outputs": [],
   "source": [
    "# Some random data\n",
    "nx = 100\n",
    "ny = 10\n",
    "p = 2\n",
    "X = np.random.rand(nx,p)\n",
    "Y = np.random.rand(ny,p)\n",
    "\n",
    "# Computing the distances in two lines.  No for loop!\n",
    "DXY = X[:,None,:]-Y[None,:,:]\n",
    "d = np.sum(DXY**2,axis=2)"
   ]
  },
  {
   "cell_type": "markdown",
   "metadata": {
    "collapsed": true
   },
   "source": [
    "How does this work? First, we use `None` keyword to reshape the matrices `X` and `Y` to compatible sizes\n",
    "\n",
    "     X[:,None,:]    # Shape nx,  1, p\n",
    "     Y[None,:,:]    # Shape 1,  ny, p\n",
    "     \n",
    "The two matrices can be subtracted so that\n",
    "\n",
    "     DXY[i,j,k]  = X[i,k] - Y[j,k]\n",
    "     \n",
    "Then, `d[i,j] = sum_k (X[i,k] - Y[j,k])**2`, which is the norm squared of the vector differences."
   ]
  },
  {
   "cell_type": "markdown",
   "metadata": {},
   "source": [
    "### Example 4:  Outer product\n",
    "\n",
    "The *outer product* of vectors `x` and `y` is the matrix `Z[i,j] = x[i]y[j]`.  This can be performed in one line as follows"
   ]
  },
  {
   "cell_type": "code",
   "execution_count": 30,
   "metadata": {
    "collapsed": true
   },
   "outputs": [],
   "source": [
    "# Some random data\n",
    "nx = 100\n",
    "ny = 10\n",
    "x = np.random.rand(nx)\n",
    "y = np.random.rand(ny)\n",
    "\n",
    "# Compute the outer product in one line\n",
    "Z = x[:,None]*y[None,:]\n"
   ]
  },
  {
   "cell_type": "markdown",
   "metadata": {},
   "source": [
    "Here:\n",
    "\n",
    "     x[:,None] # Has shape (nx,  1)\n",
    "     y[None,:] # Has shape ( 1, ny)\n",
    "     \n",
    "So, with python broadcasting:\n",
    "\n",
    "     Z = x[:,None]*y[None,:] # has shape (nx,  ny)\n"
   ]
  },
  {
   "cell_type": "markdown",
   "metadata": {
    "collapsed": true
   },
   "source": [
    "**Exercise 1:**  Given a matrix `X`, compute the matrix `Y`, where the rows of `X` are normaized to one.  That is:\n",
    "\n",
    "     Y[i,j] = X[i,j] / sum_j X[i,j]   "
   ]
  },
  {
   "cell_type": "code",
   "execution_count": 32,
   "metadata": {
    "collapsed": true
   },
   "outputs": [
    {
     "name": "stdout",
     "output_type": "stream",
     "text": [
      "[[0.60952311 0.1986837  0.47442406]\n",
      " [0.36981251 0.56216677 0.50894898]\n",
      " [0.43784007 0.76755036 0.6724187 ]\n",
      " [0.88449692 0.2119366  0.31454564]]\n"
     ]
    }
   ],
   "source": [
    "X = np.random.rand(4,3)\n",
    "# Y = ...\n",
    "print(X)"
   ]
  },
  {
   "cell_type": "code",
   "execution_count": 36,
   "metadata": {},
   "outputs": [
    {
     "name": "stdout",
     "output_type": "stream",
     "text": [
      "[1.28263087 1.44092826 1.87780913 1.41097916]\n",
      "(4,)\n"
     ]
    }
   ],
   "source": [
    "sum_j = np.sum(X, axis=1)\n",
    "print(sum_j)\n",
    "print(sum_j.shape)"
   ]
  },
  {
   "cell_type": "code",
   "execution_count": 37,
   "metadata": {},
   "outputs": [
    {
     "name": "stdout",
     "output_type": "stream",
     "text": [
      "[[1.28263087]\n",
      " [1.44092826]\n",
      " [1.87780913]\n",
      " [1.41097916]]\n"
     ]
    }
   ],
   "source": [
    "sum_j = sum_j[:,None]\n",
    "print(sum_j)"
   ]
  },
  {
   "cell_type": "code",
   "execution_count": 38,
   "metadata": {},
   "outputs": [
    {
     "name": "stdout",
     "output_type": "stream",
     "text": [
      "[[0.47521319 0.15490325 0.36988355]\n",
      " [0.2566488  0.3901421  0.35320911]\n",
      " [0.23316537 0.40874781 0.35808682]\n",
      " [0.62686746 0.15020533 0.22292721]]\n"
     ]
    }
   ],
   "source": [
    "Y = X / sum_j\n",
    "print(Y)"
   ]
  },
  {
   "cell_type": "code",
   "execution_count": 40,
   "metadata": {},
   "outputs": [
    {
     "name": "stdout",
     "output_type": "stream",
     "text": [
      "[1. 1. 1. 1.]\n"
     ]
    }
   ],
   "source": [
    "print(np.sum(Y, axis=1))"
   ]
  },
  {
   "cell_type": "markdown",
   "metadata": {},
   "source": [
    "**Exercise 2:** Diagonal multiplication.  Given a matrix `X` and a vector `d`, compute `Y = diag(d)*X`."
   ]
  },
  {
   "cell_type": "code",
   "execution_count": 41,
   "metadata": {
    "collapsed": false
   },
   "outputs": [],
   "source": [
    "X = np.random.rand(5,3)\n",
    "d = np.random.rand(5)\n",
    "# Y = ..."
   ]
  },
  {
   "cell_type": "code",
   "execution_count": 42,
   "metadata": {
    "collapsed": true
   },
   "outputs": [
    {
     "name": "stdout",
     "output_type": "stream",
     "text": [
      "[[0.98154466 0.16065159 0.51172339]\n",
      " [0.21888251 0.45586707 0.25219215]\n",
      " [0.39110906 0.89609857 0.68547563]\n",
      " [0.63360632 0.64825805 0.38177139]\n",
      " [0.133467   0.16797941 0.24072364]]\n"
     ]
    }
   ],
   "source": [
    "print(X)"
   ]
  },
  {
   "cell_type": "code",
   "execution_count": 45,
   "metadata": {},
   "outputs": [
    {
     "name": "stdout",
     "output_type": "stream",
     "text": [
      "[0.77518652 0.7388749  0.50295973 0.84021186 0.32107665]\n"
     ]
    }
   ],
   "source": [
    "print(d)"
   ]
  },
  {
   "cell_type": "code",
   "execution_count": 47,
   "metadata": {},
   "outputs": [
    {
     "name": "stdout",
     "output_type": "stream",
     "text": [
      "[[0.77518652]\n",
      " [0.7388749 ]\n",
      " [0.50295973]\n",
      " [0.84021186]\n",
      " [0.32107665]]\n"
     ]
    }
   ],
   "source": [
    "D = d[:,None]\n",
    "print(D)"
   ]
  },
  {
   "cell_type": "code",
   "execution_count": 48,
   "metadata": {},
   "outputs": [
    {
     "name": "stdout",
     "output_type": "stream",
     "text": [
      "[[0.76088019 0.12453495 0.39668107]\n",
      " [0.16172679 0.33682874 0.18633845]\n",
      " [0.1967121  0.45070149 0.34476663]\n",
      " [0.53236355 0.54467411 0.32076885]\n",
      " [0.04285314 0.05393427 0.07729074]]\n"
     ]
    }
   ],
   "source": [
    "Y = D*X\n",
    "print(Y)"
   ]
  }
 ],
 "metadata": {
  "anaconda-cloud": {},
  "kernelspec": {
   "display_name": "base",
   "language": "python",
   "name": "python3"
  },
  "language_info": {
   "codemirror_mode": {
    "name": "ipython",
    "version": 3
   },
   "file_extension": ".py",
   "mimetype": "text/x-python",
   "name": "python",
   "nbconvert_exporter": "python",
   "pygments_lexer": "ipython3",
   "version": "3.11.11"
  }
 },
 "nbformat": 4,
 "nbformat_minor": 1
}
